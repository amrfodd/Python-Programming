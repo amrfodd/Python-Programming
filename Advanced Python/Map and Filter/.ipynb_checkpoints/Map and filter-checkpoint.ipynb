{
 "cells": [
  {
   "cell_type": "code",
   "execution_count": null,
   "id": "a255e6d1",
   "metadata": {},
   "outputs": [],
   "source": [
    "lst1 = [1, 2, 3, 4, 5, 6]\n",
    "new_lst = list(map(lambda x: x**2, lst1))\n",
    "print(new_lst)"
   ]
  },
  {
   "cell_type": "code",
   "execution_count": 5,
   "id": "4f352519",
   "metadata": {},
   "outputs": [
    {
     "name": "stdout",
     "output_type": "stream",
     "text": [
      "[1.0, 1.4142135623730951, 1.7320508075688772, 2.0, 2.23606797749979, 2.449489742783178]\n"
     ]
    }
   ],
   "source": [
    "import math \n",
    "\n",
    "lst1 = [1, 2, 3, 4, 5, 6]\n",
    "new_lst = list(map(lambda x: math.sqrt(x), lst1))\n",
    "print(new_lst)"
   ]
  },
  {
   "cell_type": "code",
   "execution_count": 4,
   "id": "99351744",
   "metadata": {},
   "outputs": [
    {
     "name": "stdout",
     "output_type": "stream",
     "text": [
      "Original List: [0, 1, 2, 3, 4, 5, 6, 7, 8, 9]\n",
      "Plus 2: [2, 3, 4, 5, 6, 7, 8, 9, 10, 11]\n",
      "Evens: [0, 2, 4, 6, 8]\n",
      "Odds: [1, 3, 5, 7, 9]\n"
     ]
    }
   ],
   "source": [
    "lst= [i for i in range(10)]\n",
    "\n",
    "plus_two = map(lambda x: x + 2, lst)\n",
    "evens = filter(lambda x: x % 2 == 0, lst)\n",
    "odds = filter(lambda x: x % 2 == 1, lst)\n",
    "\n",
    "print(\"Original List:\", lst)\n",
    "print(\"Plus 2:\", list(plus_two))\n",
    "print(\"Evens:\", list(evens))\n",
    "print(\"Odds:\", list(odds))"
   ]
  },
  {
   "cell_type": "code",
   "execution_count": 6,
   "id": "001be882",
   "metadata": {},
   "outputs": [
    {
     "name": "stdout",
     "output_type": "stream",
     "text": [
      "[6, 15, 24]\n"
     ]
    }
   ],
   "source": [
    "lst = [[1, 2, 3], [4, 5, 6], [7, 8, 9]]\n",
    "\n",
    "new_lst = list(map(lambda x: sum(x), lst))\n",
    "print(new_lst)"
   ]
  },
  {
   "cell_type": "code",
   "execution_count": null,
   "id": "73824b35",
   "metadata": {},
   "outputs": [],
   "source": []
  },
  {
   "cell_type": "code",
   "execution_count": 8,
   "id": "ada33c10",
   "metadata": {},
   "outputs": [
    {
     "data": {
      "text/plain": [
       "[[4, 5, 6], [7, 8, 9]]"
      ]
     },
     "execution_count": 8,
     "metadata": {},
     "output_type": "execute_result"
    }
   ],
   "source": [
    "lst = [[1, 2, 3], [4, 5, 6], [7, 8, 9]]\n",
    "\n",
    "new_lst = list(filter(lambda x: sum(x) > 6, lst))\n",
    "new_lst"
   ]
  },
  {
   "cell_type": "code",
   "execution_count": 13,
   "id": "2c58abac",
   "metadata": {},
   "outputs": [
    {
     "data": {
      "text/plain": [
       "[6, 24]"
      ]
     },
     "execution_count": 13,
     "metadata": {},
     "output_type": "execute_result"
    }
   ],
   "source": [
    "import math\n",
    "lst = [[1, 2, 3], [4, 5, 6], [7, 8, 9]]\n",
    "\n",
    "\n",
    "new_lst = list(filter(lambda y: y% 2 == 0, map(lambda x: sum(x), lst)))\n",
    "new_lst"
   ]
  },
  {
   "cell_type": "code",
   "execution_count": 14,
   "id": "ef630cf7",
   "metadata": {},
   "outputs": [
    {
     "name": "stdout",
     "output_type": "stream",
     "text": [
      "[10, 2, 3, 4]\n"
     ]
    }
   ],
   "source": [
    "lst = [\"algoexpert\", \"is\", \"the\", \"best\"]\n",
    "x = map(len, lst)\n",
    "print(list(x))"
   ]
  },
  {
   "cell_type": "code",
   "execution_count": 15,
   "id": "7c99246a",
   "metadata": {},
   "outputs": [
    {
     "name": "stdout",
     "output_type": "stream",
     "text": [
      "[[4, 5, 6], [-5, -7]]\n"
     ]
    }
   ],
   "source": [
    "lst = [[2, 3, 4], [4, 5, 6], [1, 1, 1], [0, 0], [-5, -7]]\n",
    "x = filter(lambda a: abs(sum(a)) > 10, lst)\n",
    "print(list(x))"
   ]
  },
  {
   "cell_type": "code",
   "execution_count": 16,
   "id": "9f0fc050",
   "metadata": {},
   "outputs": [
    {
     "name": "stdout",
     "output_type": "stream",
     "text": [
      "[4, 16, 36, 64, 100]\n"
     ]
    }
   ],
   "source": [
    "lst = [1, 2, 3, 4, 5, 6, 7, 8, 9, 10]\n",
    "\n",
    "# Write your code here.\n",
    "list = list(map(lambda y: y ** 2, filter(lambda x: x % 2 == 0, lst)))\n",
    "print(list)"
   ]
  },
  {
   "cell_type": "code",
   "execution_count": 17,
   "id": "553b878c",
   "metadata": {},
   "outputs": [
    {
     "name": "stdout",
     "output_type": "stream",
     "text": [
      "4\n",
      "16\n",
      "36\n",
      "64\n",
      "100\n"
     ]
    }
   ],
   "source": [
    "lst = [1, 2, 3, 4, 5, 6, 7, 8, 9, 10]\n",
    "\n",
    "# Write your code here.\n",
    "list = map(lambda y: y ** 2, filter(lambda x: x % 2 == 0, lst))\n",
    "\n",
    "for i in list:\n",
    "    print(i)"
   ]
  },
  {
   "cell_type": "code",
   "execution_count": null,
   "id": "0407886f",
   "metadata": {},
   "outputs": [],
   "source": []
  }
 ],
 "metadata": {
  "kernelspec": {
   "display_name": "Python 3 (ipykernel)",
   "language": "python",
   "name": "python3"
  },
  "language_info": {
   "codemirror_mode": {
    "name": "ipython",
    "version": 3
   },
   "file_extension": ".py",
   "mimetype": "text/x-python",
   "name": "python",
   "nbconvert_exporter": "python",
   "pygments_lexer": "ipython3",
   "version": "3.9.12"
  }
 },
 "nbformat": 4,
 "nbformat_minor": 5
}
