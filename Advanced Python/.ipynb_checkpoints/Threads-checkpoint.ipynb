{
 "cells": [
  {
   "cell_type": "code",
   "execution_count": 5,
   "id": "96d2a997",
   "metadata": {},
   "outputs": [
    {
     "name": "stdout",
     "output_type": "stream",
     "text": [
      "run\n"
     ]
    }
   ],
   "source": [
    "import threading\n",
    "\n",
    "def run(content):\n",
    "    print(content)\n",
    "\n",
    "thread1 = threading.Thread(target = run, args = ('run',))\n",
    "thread1.start()"
   ]
  },
  {
   "cell_type": "code",
   "execution_count": 6,
   "id": "8e13e12d",
   "metadata": {},
   "outputs": [
    {
     "name": "stdout",
     "output_type": "stream",
     "text": [
      "run1\n",
      "run2\n"
     ]
    }
   ],
   "source": [
    "import threading\n",
    "\n",
    "def run(content):\n",
    "    print(content)\n",
    "\n",
    "thread1 = threading.Thread(target = run, args = ('run1',))\n",
    "thread2 = threading.Thread(target = run, args = ('run2',))\n",
    "thread1.start()\n",
    "thread2.start()"
   ]
  },
  {
   "cell_type": "code",
   "execution_count": 7,
   "id": "ae84913d",
   "metadata": {},
   "outputs": [
    {
     "name": "stdout",
     "output_type": "stream",
     "text": [
      "run2\n",
      "run1\n"
     ]
    }
   ],
   "source": [
    "# put delay\n",
    "\n",
    "import threading\n",
    "from time import sleep\n",
    "\n",
    "def run(content, delay = 1):\n",
    "    sleep(delay)\n",
    "    print(content)\n",
    "\n",
    "thread1 = threading.Thread(target = run, args = ('run1', 2))\n",
    "thread2 = threading.Thread(target = run, args = ('run2', 1))\n",
    "thread1.start()\n",
    "thread2.start()"
   ]
  },
  {
   "cell_type": "code",
   "execution_count": 8,
   "id": "f720481b",
   "metadata": {},
   "outputs": [
    {
     "name": "stdout",
     "output_type": "stream",
     "text": [
      "Main Thread\n",
      "run1\n",
      "run2\n"
     ]
    }
   ],
   "source": [
    "# Make thread1 finish first\n",
    "\n",
    "import threading\n",
    "from time import sleep\n",
    "\n",
    "def run(content, delay = 1):\n",
    "    sleep(delay)\n",
    "    print(content)\n",
    "\n",
    "thread1 = threading.Thread(target = run, args = ('run1', 2))\n",
    "thread2 = threading.Thread(target = run, args = ('run2', 1))\n",
    "thread1.start()\n",
    "print(\"Main Thread\")\n",
    "thread1.join()\n",
    "thread2.start()"
   ]
  },
  {
   "cell_type": "code",
   "execution_count": 9,
   "id": "65326b5b",
   "metadata": {},
   "outputs": [
    {
     "name": "stdout",
     "output_type": "stream",
     "text": [
      "Main Thread\n",
      "run2\n",
      "run1\n",
      "done\n"
     ]
    }
   ],
   "source": [
    "import threading\n",
    "from time import sleep\n",
    "\n",
    "def run(content, delay = 1):\n",
    "    sleep(delay)\n",
    "    print(content)\n",
    "\n",
    "thread1 = threading.Thread(target = run, args = ('run1', 2))\n",
    "thread2 = threading.Thread(target = run, args = ('run2', 1))\n",
    "thread1.start()\n",
    "print(\"Main Thread\")\n",
    "thread2.start()\n",
    "thread1.join()\n",
    "thread2.join()\n",
    "print(\"done\")"
   ]
  },
  {
   "cell_type": "code",
   "execution_count": 10,
   "id": "8a0a53b2",
   "metadata": {},
   "outputs": [
    {
     "name": "stdout",
     "output_type": "stream",
     "text": [
      "8\n",
      "run2run1\n",
      "\n",
      "done\n"
     ]
    }
   ],
   "source": [
    "import threading\n",
    "from time import sleep\n",
    "\n",
    "def run(content, delay = 1):\n",
    "    sleep(delay)\n",
    "    print(content)\n",
    "\n",
    "thread1 = threading.Thread(target = run, args = ('run1', 1))\n",
    "thread2 = threading.Thread(target = run, args = ('run2', 1))\n",
    "thread1.start()\n",
    "thread2.start()\n",
    "# Check active threads\n",
    "print(threading.active_count())\n",
    "\n",
    "thread1.join()\n",
    "thread2.join()\n",
    "print(\"done\")"
   ]
  },
  {
   "cell_type": "code",
   "execution_count": 17,
   "id": "992d54f1",
   "metadata": {},
   "outputs": [
    {
     "name": "stdout",
     "output_type": "stream",
     "text": [
      "12\n",
      "\n",
      "34\n",
      "\n",
      "5\n"
     ]
    }
   ],
   "source": [
    "import threading\n",
    "from time import sleep\n",
    "\n",
    "def print_values(values, delay):\n",
    "    for item in values:\n",
    "        print(item)\n",
    "        sleep(delay)\n",
    "\n",
    "thread1 = threading.Thread(target = print_values, args = ([1, 3, 5], 0.2))\n",
    "\n",
    "thread2 = threading.Thread(target = print_values, args = ([2, 4], 0.2))\n",
    "\n",
    "thread1.start()\n",
    "thread2.start()"
   ]
  },
  {
   "cell_type": "markdown",
   "id": "3d08e27e",
   "metadata": {},
   "source": [
    "###### Thread and Lock"
   ]
  },
  {
   "cell_type": "code",
   "execution_count": 22,
   "id": "2e4e446d",
   "metadata": {},
   "outputs": [
    {
     "name": "stdout",
     "output_type": "stream",
     "text": [
      "t1\n",
      "t2\n"
     ]
    }
   ],
   "source": [
    "from threading import Lock, Thread\n",
    "from time import sleep\n",
    "\n",
    "def t1(lock):\n",
    "    lock.acquire()\n",
    "    sleep(1)\n",
    "    print(\"t1\")\n",
    "    lock.release()\n",
    "\n",
    "def t2(lock):\n",
    "    lock.acquire()\n",
    "    sleep(1)\n",
    "    print(\"t2\")\n",
    "    lock.release()\n",
    "lock = Lock()\n",
    "thread1 = Thread(target = t1, args = (lock,))\n",
    "thread2 = Thread(target = t2, args = (lock,))\n",
    "\n",
    "thread1.start()\n",
    "thread2.start()"
   ]
  },
  {
   "cell_type": "code",
   "execution_count": 27,
   "id": "7f94fd5f",
   "metadata": {},
   "outputs": [
    {
     "name": "stdout",
     "output_type": "stream",
     "text": [
      "1\n",
      "2\n",
      "3\n",
      "4\n",
      "5\n"
     ]
    }
   ],
   "source": [
    "from threading import Lock, Thread\n",
    "from time import sleep\n",
    "\n",
    "def print_values(values, start_lock, end_lock):\n",
    "    for item in values:\n",
    "        start_lock.acquire()\n",
    "        print(item)\n",
    "        end_lock.release()\n",
    "\n",
    "lock1 = Lock()\n",
    "lock2 = Lock()\n",
    "\n",
    "lock2.acquire()\n",
    "\n",
    "thread1 = Thread(target = print_values, args = ([1, 3, 5], lock1, lock2))\n",
    "\n",
    "thread2 = Thread(target = print_values, args = ([2, 4], lock2, lock1))\n",
    "\n",
    "thread1.start()\n",
    "thread2.start()"
   ]
  },
  {
   "cell_type": "code",
   "execution_count": 29,
   "id": "4e077a0e",
   "metadata": {},
   "outputs": [
    {
     "name": "stdout",
     "output_type": "stream",
     "text": [
      "t1 waiting for lock\n",
      "1\n",
      "t1 waiting for lock\n",
      "t2 waiting for lock\n",
      "2\n",
      "t2 waiting for lock\n",
      "3\n",
      "t1 waiting for lock\n",
      "4\n",
      "5\n"
     ]
    }
   ],
   "source": [
    "from threading import Lock, Thread\n",
    "from time import sleep\n",
    "\n",
    "def print_values(values, start_lock, end_lock, name):\n",
    "    for item in values:\n",
    "        print(f\"{name} waiting for lock\")\n",
    "        start_lock.acquire()\n",
    "        print(item)\n",
    "        end_lock.release()\n",
    "\n",
    "lock1 = Lock()\n",
    "lock2 = Lock()\n",
    "lock2.acquire()\n",
    "\n",
    "thread1 = Thread(target = print_values, args = ([1, 3, 5], lock1, lock2, 't1'))\n",
    "\n",
    "thread2 = Thread(target = print_values, args = ([2, 4], lock2, lock1, 't2'))\n",
    "\n",
    "thread1.start()\n",
    "thread2.start()"
   ]
  },
  {
   "cell_type": "code",
   "execution_count": 30,
   "id": "5ad74f00",
   "metadata": {},
   "outputs": [
    {
     "name": "stdout",
     "output_type": "stream",
     "text": [
      "loaded player\n",
      "loaded assessts\n"
     ]
    }
   ],
   "source": [
    "from threading import Lock, Thread\n",
    "from time import sleep\n",
    "\n",
    "def start_game(preq = []):\n",
    "    print(\"waiting to start game.\")\n",
    "    for t in preq:\n",
    "        t.join()\n",
    "\n",
    "    print(\"started Game!\")\n",
    "\n",
    "def load_assessts():\n",
    "    sleep(2)\n",
    "    print(\"loaded assessts\")\n",
    "\n",
    "def load_player():\n",
    "    sleep(1)\n",
    "    print('loaded player')\n",
    "\n",
    "load_assessts_thread = Thread(target = load_assessts)\n",
    "load_player_thread = Thread(target = load_player)\n",
    "preq = [load_player_thread, load_assessts_thread]\n",
    "\n",
    "start_game_thread = Thread(target = start_game, args = (preq))\n",
    " \n",
    "load_assessts_thread.start()\n",
    "load_player_thread.start()"
   ]
  },
  {
   "cell_type": "markdown",
   "id": "765097ef",
   "metadata": {},
   "source": [
    "###### Deadlock"
   ]
  },
  {
   "cell_type": "markdown",
   "id": "f2dae1ce",
   "metadata": {},
   "source": [
    "from threading import Lock, Thread\n",
    "from time import sleep\n",
    "\n",
    "def wait_on_threads(threads):\n",
    "    for thread in threads:\n",
    "        thread.join()\n",
    "\n",
    "    print('ran')\n",
    "\n",
    "threads = []\n",
    "\n",
    "t1 = Thread(target = wait_onthreads, args = (threads, ))\n",
    "t2 = Thread(target = wait_onthreads, args = ([t1], ))\n",
    "threads.append(t2)\n",
    "\n",
    "t1.start()\n",
    "t2.start() "
   ]
  },
  {
   "cell_type": "markdown",
   "id": "8f33855e",
   "metadata": {},
   "source": [
    "###### Quiz"
   ]
  },
  {
   "cell_type": "code",
   "execution_count": 31,
   "id": "dbe7cd1a",
   "metadata": {},
   "outputs": [
    {
     "name": "stdout",
     "output_type": "stream",
     "text": [
      "thread 2\n",
      "thread 1\n",
      "thread 3\n"
     ]
    }
   ],
   "source": [
    "import threading\n",
    "from time import sleep\n",
    "\n",
    "def t1():\n",
    "    sleep(1)\n",
    "    print(\"thread 1\")\n",
    "\n",
    "def t2():\n",
    "    print(\"thread 2\")\n",
    "    sleep(1)\n",
    "\n",
    "def t3():\n",
    "    sleep(2)\n",
    "    print(\"thread 3\")\n",
    "\n",
    "thread1 = threading.Thread(target=t1)\n",
    "thread2 = threading.Thread(target=t2)\n",
    "thread3 = threading.Thread(target=t3)\n",
    "thread1.start()\n",
    "thread2.start()\n",
    "thread3.start()\n"
   ]
  },
  {
   "cell_type": "code",
   "execution_count": 33,
   "id": "6a23f2d3",
   "metadata": {},
   "outputs": [
    {
     "name": "stdout",
     "output_type": "stream",
     "text": [
      "[1, 4, 3, 5, 3]\n"
     ]
    }
   ],
   "source": [
    "import threading\n",
    "from time import sleep\n",
    "import math\n",
    "\n",
    "\n",
    "def append_values(lst, values=[], delay=1):\n",
    "    for value in values:\n",
    "        lst.append(value)\n",
    "        sleep(math.ceil(abs(delay)))\n",
    "\n",
    "\n",
    "def append_integer(lst, integer):\n",
    "    lst.append(integer)\n",
    "\n",
    "\n",
    "lst = []\n",
    "\n",
    "# Write your code here.\n",
    "thread1 = threading.Thread(target = append_values, args = (lst, [1, 3, 5], 1))\n",
    "thread2 = threading.Thread(target = append_integer, args = (lst, 4))\n",
    "thread3 = threading.Thread(target = append_integer, args = (lst, 3))\n",
    "thread1.start()\n",
    "thread2.start()\n",
    "# Join... mweans to wait for this thread till it finishes before we continue\n",
    "thread1.join()\n",
    "thread3.start()\n",
    "\n",
    "print(lst)"
   ]
  },
  {
   "cell_type": "code",
   "execution_count": 36,
   "id": "249d1047",
   "metadata": {},
   "outputs": [
    {
     "data": {
      "text/plain": [
       "{1, 2, 4, 8, 16, 32, 64, 128, 256, 512}"
      ]
     },
     "execution_count": 36,
     "metadata": {},
     "output_type": "execute_result"
    }
   ],
   "source": [
    "import threading\n",
    "\n",
    "RANGE_START = 0\n",
    "RANGE_END = 1000\n",
    "\n",
    "\"\"\"\n",
    "At the end of the program, this variable needs to contain all of the powers\n",
    "of 2 within the interval [RANGE_START, RANGE_END).\n",
    "\"\"\"\n",
    "powers_of_two = set()\n",
    "set_lock = threading.Lock()\n",
    "\n",
    "def is_power_of_two(x):\n",
    "    if x == 0:\n",
    "        return False\n",
    "    return (x & (x - 1)) == 0\n",
    "\n",
    "\n",
    "def find_powers_of_two(iter):\n",
    "    for x in iter:\n",
    "        if is_power_of_two(x):\n",
    "            set_lock.acquire()\n",
    "            powers_of_two.add(x)\n",
    "            set_lock.release()\n",
    "\n",
    "\n",
    "thread1 = threading.Thread(target=find_powers_of_two, args=(range(RANGE_START, 250),))\n",
    "thread2 = threading.Thread(target=find_powers_of_two, args=(range(250, 500),))\n",
    "thread3 = threading.Thread(target=find_powers_of_two, args=(range(500, 750),))\n",
    "thread4 = threading.Thread(target=find_powers_of_two, args=(range(750, RANGE_END),))\n",
    "\n",
    "thread1.start()\n",
    "thread2.start()\n",
    "thread3.start()\n",
    "thread4.start()\n",
    "\n",
    "thread1.join()\n",
    "thread2.join()\n",
    "thread3.join()\n",
    "thread4.join()\n",
    "powers_of_two"
   ]
  },
  {
   "cell_type": "code",
   "execution_count": 37,
   "id": "d8c4d0fd",
   "metadata": {},
   "outputs": [
    {
     "name": "stdout",
     "output_type": "stream",
     "text": [
      "Enter a positive integer: 21\n",
      "foobarfoobarfoobarfoobarfoobarfoobarfoobarfoobarfoobarfoobarfoobarfoobarfoobarfoobarfoobarfoobarfoobarfoobarfoobarfoobarfoobar"
     ]
    }
   ],
   "source": [
    "# Copyright © 2022 AlgoExpert LLC. All rights reserved.\n",
    "\n",
    "import threading\n",
    "\n",
    "\n",
    "def print_foo(n, foo_lock, bar_lock):\n",
    "    for _ in range(n):\n",
    "        foo_lock.acquire()\n",
    "        print(\"foo\", end=\"\")\n",
    "        bar_lock.release()\n",
    "\n",
    "\n",
    "def print_bar(n, foo_lock, bar_lock):\n",
    "    for _ in range(n):\n",
    "        bar_lock.acquire()\n",
    "        print(\"bar\", end=\"\")\n",
    "        foo_lock.release()\n",
    "\n",
    "\n",
    "n = int(input(\"Enter a positive integer: \"))\n",
    "\n",
    "foo_lock = threading.Lock()\n",
    "bar_lock = threading.Lock()\n",
    "bar_lock.acquire()\n",
    "\n",
    "foo_thread = threading.Thread(target=print_foo, args=(n, foo_lock, bar_lock))\n",
    "bar_thread = threading.Thread(target=print_bar, args=(n, foo_lock, bar_lock))\n",
    "\n",
    "foo_thread.start()\n",
    "bar_thread.start()\n",
    "\n",
    "foo_thread.join()\n",
    "bar_thread.join()"
   ]
  },
  {
   "cell_type": "code",
   "execution_count": null,
   "id": "6805c42c",
   "metadata": {},
   "outputs": [],
   "source": []
  }
 ],
 "metadata": {
  "kernelspec": {
   "display_name": "Python 3 (ipykernel)",
   "language": "python",
   "name": "python3"
  },
  "language_info": {
   "codemirror_mode": {
    "name": "ipython",
    "version": 3
   },
   "file_extension": ".py",
   "mimetype": "text/x-python",
   "name": "python",
   "nbconvert_exporter": "python",
   "pygments_lexer": "ipython3",
   "version": "3.9.12"
  }
 },
 "nbformat": 4,
 "nbformat_minor": 5
}
