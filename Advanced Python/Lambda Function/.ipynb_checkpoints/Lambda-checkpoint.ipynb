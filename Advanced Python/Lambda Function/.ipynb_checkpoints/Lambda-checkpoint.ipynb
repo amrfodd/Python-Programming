{
 "cells": [
  {
   "cell_type": "code",
   "execution_count": 1,
   "id": "f80a67cd",
   "metadata": {},
   "outputs": [
    {
     "name": "stdout",
     "output_type": "stream",
     "text": [
      "2\n",
      "42\n",
      "hello-world\n"
     ]
    }
   ],
   "source": [
    "add_one = lambda x: x + 1\n",
    "\n",
    "print(add_one(1))\n",
    "print(add_one(41))\n",
    "\n",
    "hyphenise = lambda s: s.lower().replace(\" \", \"-\")\n",
    "print(hyphenise(\"Hello World\"))"
   ]
  },
  {
   "cell_type": "code",
   "execution_count": 3,
   "id": "d8379668",
   "metadata": {},
   "outputs": [
    {
     "name": "stdout",
     "output_type": "stream",
     "text": [
      "6\n"
     ]
    }
   ],
   "source": [
    "func = lambda x, y, z=0: print(x*y*z)\n",
    "func(1, 2, 3)"
   ]
  },
  {
   "cell_type": "code",
   "execution_count": 4,
   "id": "2e3ffb64",
   "metadata": {},
   "outputs": [
    {
     "name": "stdout",
     "output_type": "stream",
     "text": [
      "[(-2, -4), (0, 0), (1, 2), (3, 4)]\n"
     ]
    }
   ],
   "source": [
    "\n",
    "lst = [(1,2), (-2, -4), (3, 4), (0, 0)]\n",
    "lst.sort(key =  lambda x:x[1])\n",
    "print(lst)"
   ]
  },
  {
   "cell_type": "code",
   "execution_count": 10,
   "id": "cb869954",
   "metadata": {},
   "outputs": [
    {
     "name": "stdout",
     "output_type": "stream",
     "text": [
      "8\n"
     ]
    }
   ],
   "source": [
    "\n",
    "mul = lambda x: lambda y: x*y\n",
    "result = mul(2)\n",
    "print(result(4))"
   ]
  },
  {
   "cell_type": "code",
   "execution_count": null,
   "id": "a6b079c9",
   "metadata": {},
   "outputs": [],
   "source": []
  }
 ],
 "metadata": {
  "kernelspec": {
   "display_name": "Python 3 (ipykernel)",
   "language": "python",
   "name": "python3"
  },
  "language_info": {
   "codemirror_mode": {
    "name": "ipython",
    "version": 3
   },
   "file_extension": ".py",
   "mimetype": "text/x-python",
   "name": "python",
   "nbconvert_exporter": "python",
   "pygments_lexer": "ipython3",
   "version": "3.9.12"
  }
 },
 "nbformat": 4,
 "nbformat_minor": 5
}
