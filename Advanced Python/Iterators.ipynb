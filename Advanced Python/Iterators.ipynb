{
 "cells": [
  {
   "cell_type": "code",
   "execution_count": 2,
   "id": "8c185a1b",
   "metadata": {},
   "outputs": [
    {
     "name": "stdout",
     "output_type": "stream",
     "text": [
      "1\n",
      "2\n",
      "3\n"
     ]
    }
   ],
   "source": [
    "x = [1, 2, 3]\n",
    "\n",
    "x_iter = iter(x)\n",
    "print(next(x_iter))\n",
    "print(next(x_iter))\n",
    "print(next(x_iter))"
   ]
  },
  {
   "cell_type": "code",
   "execution_count": 3,
   "id": "e95a6221",
   "metadata": {},
   "outputs": [
    {
     "name": "stdout",
     "output_type": "stream",
     "text": [
      "1\n",
      "2\n",
      "3\n"
     ]
    }
   ],
   "source": [
    "x = [1, 2, 3]\n",
    "\n",
    "x_iter = iter(x)\n",
    "while True:\n",
    "    try:\n",
    "        print(next(x_iter))\n",
    "    except StopIteration:\n",
    "        break"
   ]
  },
  {
   "cell_type": "code",
   "execution_count": 4,
   "id": "e8203c39",
   "metadata": {},
   "outputs": [
    {
     "name": "stdout",
     "output_type": "stream",
     "text": [
      "1\n",
      "2\n",
      "3\n"
     ]
    }
   ],
   "source": [
    "x = [1, 2, 3]\n",
    "\n",
    "x_iter = x.__iter__()\n",
    "iter(x)\n",
    "while True:\n",
    "    try:\n",
    "        print(x_iter.__next__())\n",
    "    except StopIteration:\n",
    "        break"
   ]
  },
  {
   "cell_type": "markdown",
   "id": "f5a79734",
   "metadata": {},
   "source": [
    "###### Creating Iterators"
   ]
  },
  {
   "cell_type": "code",
   "execution_count": 7,
   "id": "1482bf6c",
   "metadata": {},
   "outputs": [
    {
     "name": "stdout",
     "output_type": "stream",
     "text": [
      "1\n",
      "1\n",
      "1\n",
      "1\n"
     ]
    }
   ],
   "source": [
    "# Welcome to our Python playground!\n",
    "\n",
    "class Numbers:\n",
    "    def __init__(self, num1, num2, num3):\n",
    "        self.num1 = num1\n",
    "        self.num2 = num2\n",
    "        self.num3 = num3\n",
    "\n",
    "    def __iter__(self):\n",
    "       return NumberIterators(self.num1, self.num2, self.num3)\n",
    "\n",
    "class NumberIterators:\n",
    "    def __init__(self, one, two, three):\n",
    "        self.one = one\n",
    "        self.two = two\n",
    "        self.three = three\n",
    "        self.current = 0\n",
    "\n",
    "    def __next__(self):\n",
    "        if self.current == 0:\n",
    "            return self.one\n",
    "        elif self.current == 1:\n",
    "            return self.two\n",
    "        elif self.current == 2:\n",
    "            return self.three\n",
    "        else:\n",
    "            raise StopIteration\n",
    "\n",
    "\n",
    "nums = Numbers(1, 2, 3)\n",
    "itr = iter(nums)\n",
    "print(next(itr))\n",
    "print(next(itr))\n",
    "print(next(itr))\n",
    "print(next(itr))"
   ]
  },
  {
   "cell_type": "code",
   "execution_count": null,
   "id": "05f60a6f",
   "metadata": {},
   "outputs": [],
   "source": []
  },
  {
   "cell_type": "code",
   "execution_count": 1,
   "id": "95b1a943",
   "metadata": {},
   "outputs": [
    {
     "name": "stdout",
     "output_type": "stream",
     "text": [
      "Divided 0 times: 100\n",
      "Divided 1 times: 14.285714285714286\n",
      "Divided 2 times: 2.0408163265306123\n",
      "Divided 3 times: 0.2915451895043732\n",
      "Divided 4 times: 0.04164931278633903\n"
     ]
    }
   ],
   "source": [
    "# This DividerIterator class is an iterator that will start\n",
    "# at a number `start` and divide that number by `factor`\n",
    "# over and over again until it is smaller than or equal\n",
    "# to `end`.\n",
    "class DividerIterator:\n",
    "    def __init__(self, start, factor, end):\n",
    "        self.start = start\n",
    "        self.factor = factor\n",
    "        self.end = end\n",
    "\n",
    "    def __iter__(self):\n",
    "        self.current = self.start\n",
    "        return self\n",
    "\n",
    "    def __next__(self):\n",
    "        if self.current < self.end:\n",
    "            raise StopIteration\n",
    "        current = self.current\n",
    "        self.current = current / self.factor\n",
    "        return current\n",
    "\n",
    "\n",
    "# Let's keep dividing 100 by 7 over and over again\n",
    "# until 0.01.\n",
    "count = 0\n",
    "for n in DividerIterator(100, 7, 0.01):\n",
    "    print(f\"Divided {count} times: {n}\")\n",
    "    count += 1"
   ]
  },
  {
   "cell_type": "code",
   "execution_count": null,
   "id": "98f5d339",
   "metadata": {},
   "outputs": [],
   "source": []
  }
 ],
 "metadata": {
  "kernelspec": {
   "display_name": "Python 3 (ipykernel)",
   "language": "python",
   "name": "python3"
  },
  "language_info": {
   "codemirror_mode": {
    "name": "ipython",
    "version": 3
   },
   "file_extension": ".py",
   "mimetype": "text/x-python",
   "name": "python",
   "nbconvert_exporter": "python",
   "pygments_lexer": "ipython3",
   "version": "3.9.12"
  }
 },
 "nbformat": 4,
 "nbformat_minor": 5
}
