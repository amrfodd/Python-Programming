{
 "cells": [
  {
   "cell_type": "code",
   "execution_count": 2,
   "id": "2dafb3c0",
   "metadata": {},
   "outputs": [
    {
     "name": "stdout",
     "output_type": "stream",
     "text": [
      "<class 'generator'>\n",
      "<generator object gen at 0x000001BA4292E120>\n"
     ]
    }
   ],
   "source": [
    "def gen():\n",
    "    yield 1\n",
    "    yield 2\n",
    "    yield 3\n",
    "\n",
    "print(type(gen()))\n",
    "print(gen())"
   ]
  },
  {
   "cell_type": "code",
   "execution_count": 3,
   "id": "bdbe999a",
   "metadata": {},
   "outputs": [
    {
     "name": "stdout",
     "output_type": "stream",
     "text": [
      "1\n",
      "2\n",
      "3\n"
     ]
    }
   ],
   "source": [
    "def gen():\n",
    "    yield 1\n",
    "    yield 2\n",
    "    yield 3\n",
    "\n",
    "itr= gen()\n",
    "\n",
    "print(next(itr))\n",
    "print(next(itr))\n",
    "print(next(itr))"
   ]
  },
  {
   "cell_type": "code",
   "execution_count": 4,
   "id": "adc8d167",
   "metadata": {},
   "outputs": [
    {
     "name": "stdout",
     "output_type": "stream",
     "text": [
      "1\n",
      "2\n",
      "3\n"
     ]
    }
   ],
   "source": [
    "def gen():\n",
    "    yield 1\n",
    "    yield 2\n",
    "    yield 3\n",
    "\n",
    "itr= gen()\n",
    "\n",
    "for i in itr:\n",
    "    print(i)"
   ]
  },
  {
   "cell_type": "code",
   "execution_count": 5,
   "id": "fe6222fa",
   "metadata": {},
   "outputs": [
    {
     "name": "stdout",
     "output_type": "stream",
     "text": [
      "[1, 1, 2, 3, 5, 8, 13, 21, 34, 55]\n"
     ]
    }
   ],
   "source": [
    "fib_numbers = [1, 1]\n",
    "\n",
    "for i in range(2, 10):\n",
    "    last = fib_numbers[i - 1]\n",
    "    second_last = fib_numbers[i - 2]\n",
    "    num = last + second_last\n",
    "    fib_numbers.append(num)\n",
    "print(fib_numbers)"
   ]
  },
  {
   "cell_type": "code",
   "execution_count": 6,
   "id": "60cded65",
   "metadata": {},
   "outputs": [
    {
     "name": "stdout",
     "output_type": "stream",
     "text": [
      "2\n",
      "3\n",
      "5\n",
      "8\n",
      "13\n",
      "21\n",
      "34\n",
      "55\n"
     ]
    }
   ],
   "source": [
    "def fib(n):\n",
    "    last = 1\n",
    "    second_last = 1\n",
    "    current = 3\n",
    "\n",
    "    while current <= n:\n",
    "        num = last + second_last\n",
    "        yield num\n",
    "\n",
    "        second_last = last\n",
    "        last = num\n",
    "        current += 1\n",
    "\n",
    "for val in fib(10):\n",
    "    print(val)"
   ]
  },
  {
   "cell_type": "code",
   "execution_count": 20,
   "id": "33296923",
   "metadata": {},
   "outputs": [
    {
     "name": "stdout",
     "output_type": "stream",
     "text": [
      "64\n"
     ]
    }
   ],
   "source": [
    "def a(lst, power):\n",
    "    for element in lst:\n",
    "        if element % 2 == 0:\n",
    "            yield element ** power\n",
    "\n",
    "gen = a([1, 2, 3, 4, 5, 6, 7, 8], 2)\n",
    "next(gen)\n",
    "next(gen)\n",
    "next(gen)\n",
    "print(next(gen))"
   ]
  },
  {
   "cell_type": "code",
   "execution_count": 23,
   "id": "45dcfbf0",
   "metadata": {},
   "outputs": [
    {
     "ename": "TypeError",
     "evalue": "'int' object is not an iterator",
     "output_type": "error",
     "traceback": [
      "\u001b[1;31m---------------------------------------------------------------------------\u001b[0m",
      "\u001b[1;31mTypeError\u001b[0m                                 Traceback (most recent call last)",
      "Input \u001b[1;32mIn [23]\u001b[0m, in \u001b[0;36m<cell line: 16>\u001b[1;34m()\u001b[0m\n\u001b[0;32m     15\u001b[0m gen \u001b[38;5;241m=\u001b[39m new_range(\u001b[38;5;241m3\u001b[39m, \u001b[38;5;241m50\u001b[39m, \u001b[38;5;241m5\u001b[39m)\n\u001b[0;32m     16\u001b[0m \u001b[38;5;28;01mfor\u001b[39;00m i \u001b[38;5;129;01min\u001b[39;00m gen:\n\u001b[1;32m---> 17\u001b[0m     \u001b[38;5;28mprint\u001b[39m(\u001b[38;5;28;43mnext\u001b[39;49m\u001b[43m(\u001b[49m\u001b[43mi\u001b[49m\u001b[43m)\u001b[49m)\n",
      "\u001b[1;31mTypeError\u001b[0m: 'int' object is not an iterator"
     ]
    }
   ],
   "source": [
    "##### Mimic range function\n",
    "\n",
    "def new_range(start, stop, step):\n",
    "    current = start\n",
    "\n",
    "    while True:\n",
    "        if step < 0 and current <= stop:\n",
    "            break\n",
    "        if step > 0 and current >= stop:\n",
    "            break\n",
    "\n",
    "        yield current\n",
    "        current += step\n",
    "        \n",
    "gen = new_range(3, 50, 5)\n",
    "\n",
    "for i in gen:\n",
    "    print(next(i))"
   ]
  },
  {
   "cell_type": "code",
   "execution_count": 1,
   "id": "d333c6c3",
   "metadata": {},
   "outputs": [
    {
     "name": "stdout",
     "output_type": "stream",
     "text": [
      "Even number: 0\n",
      "Even number: 2\n",
      "Even number: 4\n",
      "Even number: 6\n",
      "Even number: 8\n",
      "Even number: 10\n",
      "Even number: 12\n",
      "Even number: 14\n",
      "Even number: 16\n",
      "Even number: 18\n"
     ]
    }
   ],
   "source": [
    "# I bet you couldn't store all of those in a list! There are an\n",
    "# infinite number of even numbers but generators solve this problem\n",
    "# easily!\n",
    "def all_even_numbers():\n",
    "    i = 0\n",
    "    while True:\n",
    "        if i % 2 == 0:\n",
    "            yield i\n",
    "        i += 1\n",
    "\n",
    "\n",
    "count = 0\n",
    "for even_number in all_even_numbers():\n",
    "    print(\"Even number:\", even_number)\n",
    "    count += 1\n",
    "\n",
    "    # Let's just print 10 even numbers, but this could run forever\n",
    "    # if we wanted to let it!\n",
    "    if count >= 10:\n",
    "        break"
   ]
  },
  {
   "cell_type": "code",
   "execution_count": null,
   "id": "361f59e3",
   "metadata": {},
   "outputs": [],
   "source": []
  }
 ],
 "metadata": {
  "kernelspec": {
   "display_name": "Python 3 (ipykernel)",
   "language": "python",
   "name": "python3"
  },
  "language_info": {
   "codemirror_mode": {
    "name": "ipython",
    "version": 3
   },
   "file_extension": ".py",
   "mimetype": "text/x-python",
   "name": "python",
   "nbconvert_exporter": "python",
   "pygments_lexer": "ipython3",
   "version": "3.9.12"
  }
 },
 "nbformat": 4,
 "nbformat_minor": 5
}
