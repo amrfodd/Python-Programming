{
 "cells": [
  {
   "cell_type": "code",
   "execution_count": 1,
   "id": "41feca0f",
   "metadata": {},
   "outputs": [
    {
     "ename": "FileNotFoundError",
     "evalue": "[Errno 2] No such file or directory: 'data/programmingExpert.txt'",
     "output_type": "error",
     "traceback": [
      "\u001b[1;31m---------------------------------------------------------------------------\u001b[0m",
      "\u001b[1;31mFileNotFoundError\u001b[0m                         Traceback (most recent call last)",
      "Input \u001b[1;32mIn [1]\u001b[0m, in \u001b[0;36m<cell line: 3>\u001b[1;34m()\u001b[0m\n\u001b[0;32m      1\u001b[0m text \u001b[38;5;241m=\u001b[39m \u001b[38;5;124m\"\u001b[39m\u001b[38;5;124m\"\u001b[39m\n\u001b[1;32m----> 3\u001b[0m \u001b[38;5;28;01mwith\u001b[39;00m \u001b[38;5;28;43mopen\u001b[39;49m\u001b[43m(\u001b[49m\u001b[38;5;124;43m\"\u001b[39;49m\u001b[38;5;124;43mdata/programmingExpert.txt\u001b[39;49m\u001b[38;5;124;43m\"\u001b[39;49m\u001b[43m,\u001b[49m\u001b[43m \u001b[49m\u001b[38;5;124;43m\"\u001b[39;49m\u001b[38;5;124;43mr\u001b[39;49m\u001b[38;5;124;43m\"\u001b[39;49m\u001b[43m)\u001b[49m \u001b[38;5;28;01mas\u001b[39;00m file:\n\u001b[0;32m      4\u001b[0m     text \u001b[38;5;241m=\u001b[39m file\u001b[38;5;241m.\u001b[39mread()\n\u001b[0;32m      6\u001b[0m escape_characters_removed \u001b[38;5;241m=\u001b[39m text\u001b[38;5;241m.\u001b[39mreplace(\u001b[38;5;124m\"\u001b[39m\u001b[38;5;130;01m\\n\u001b[39;00m\u001b[38;5;124m\"\u001b[39m, \u001b[38;5;124m\"\u001b[39m\u001b[38;5;124m \u001b[39m\u001b[38;5;124m\"\u001b[39m)\n",
      "\u001b[1;31mFileNotFoundError\u001b[0m: [Errno 2] No such file or directory: 'data/programmingExpert.txt'"
     ]
    }
   ],
   "source": [
    "text = \"\"\n",
    "\n",
    "with open(\"data/programmingExpert.txt\", \"r\") as file:\n",
    "    text = file.read()\n",
    "\n",
    "escape_characters_removed = text.replace(\"\\n\", \" \")\n",
    "punctuation_removed = escape_characters_removed.replace(\n",
    "    \",\", \"\").replace(\"-\", \"\").replace(\".\", \"\")\n",
    "\n",
    "words = punctuation_removed.split(\" \")\n",
    "empty_strings = words.count(\"\")\n",
    "number_of_words = len(words) - empty_strings\n",
    "\n",
    "print(number_of_words)"
   ]
  },
  {
   "cell_type": "code",
   "execution_count": null,
   "id": "434d343e",
   "metadata": {},
   "outputs": [],
   "source": [
    "# Copyright © 2022 AlgoExpert LLC. All rights reserved.\n",
    "\n",
    "file = open(\"data/programmingExpert.txt\", \"r\")\n",
    "text = file.read()\n",
    "file.close()\n",
    "\n",
    "escape_characters_removed = text.replace(\"\\n\", \" \")\n",
    "punctuation_removed = escape_characters_removed.replace(\n",
    "    \",\", \"\").replace(\"-\", \"\").replace(\".\", \"\")\n",
    "\n",
    "words = punctuation_removed.split(\" \")\n",
    "empty_strings = words.count(\"\")\n",
    "number_of_words = len(words) - empty_strings\n",
    "\n",
    "print(number_of_words)\n"
   ]
  },
  {
   "cell_type": "code",
   "execution_count": null,
   "id": "fcb32e12",
   "metadata": {},
   "outputs": [],
   "source": []
  },
  {
   "cell_type": "code",
   "execution_count": null,
   "id": "052db12f",
   "metadata": {},
   "outputs": [],
   "source": []
  }
 ],
 "metadata": {
  "kernelspec": {
   "display_name": "Python 3 (ipykernel)",
   "language": "python",
   "name": "python3"
  },
  "language_info": {
   "codemirror_mode": {
    "name": "ipython",
    "version": 3
   },
   "file_extension": ".py",
   "mimetype": "text/x-python",
   "name": "python",
   "nbconvert_exporter": "python",
   "pygments_lexer": "ipython3",
   "version": "3.9.12"
  }
 },
 "nbformat": 4,
 "nbformat_minor": 5
}
