{
 "cells": [
  {
   "cell_type": "code",
   "execution_count": 1,
   "id": "b7a94c02",
   "metadata": {},
   "outputs": [
    {
     "name": "stdout",
     "output_type": "stream",
     "text": [
      "The ability to handle files is essential to many programs and applications. But how do you imbue your code with such a superpower?\n",
      "\n",
      "Fortunately, Python boasts several built-in functions that allow you to perform a variety of file operations. Study them, and you'll be well on your way toward becoming a master (file) manipulator.\n"
     ]
    }
   ],
   "source": [
    "file = open(\"files.txt\", \"r\")\n",
    "print(file.read())\n",
    "file.close()"
   ]
  },
  {
   "cell_type": "code",
   "execution_count": 2,
   "id": "359bff16",
   "metadata": {},
   "outputs": [
    {
     "name": "stdout",
     "output_type": "stream",
     "text": [
      "['The ability to handle files is essential to many programs and applications. But how do you imbue your code with such a superpower?\\n', '\\n', \"Fortunately, Python boasts several built-in functions that allow you to perform a variety of file operations. Study them, and you'll be well on your way toward becoming a master (file) manipulator.\"]\n"
     ]
    }
   ],
   "source": [
    "with open(\"files.txt\", \"r\") as file:\n",
    "    print(file.readlines())\n",
    "    file.close()"
   ]
  },
  {
   "cell_type": "code",
   "execution_count": 5,
   "id": "b56d8588",
   "metadata": {},
   "outputs": [
    {
     "name": "stdout",
     "output_type": "stream",
     "text": [
      "['The ability to handle files is essential to many programs and applications. But how do you imbue your code with such a superpower?']\n"
     ]
    }
   ],
   "source": [
    "with open(\"files.txt\", \"r\") as file:\n",
    "    lines = file.readlines()[0]\n",
    "    print([lines.strip()])\n",
    "    file.close()"
   ]
  },
  {
   "cell_type": "markdown",
   "id": "b20aaee8",
   "metadata": {},
   "source": [
    "###### Write files"
   ]
  },
  {
   "cell_type": "code",
   "execution_count": 8,
   "id": "4ae94683",
   "metadata": {},
   "outputs": [
    {
     "name": "stdout",
     "output_type": "stream",
     "text": [
      "['Tim', 'Antoine', 'Clement', '']\n"
     ]
    }
   ],
   "source": [
    "with open(\"awesome_people.txt\", \"w\") as file:\n",
    "    file.write(\"Tim\\n\")\n",
    "    file.write(\"Antoine\\n\")\n",
    "    file.write(\"Clement\\n\")\n",
    "\n",
    "file = open(\"awesome_people.txt\", \"r\")\n",
    "awesome_people = file.read().split(\"\\n\")\n",
    "file.close()\n",
    "\n",
    "print(awesome_people)"
   ]
  },
  {
   "cell_type": "markdown",
   "id": "60c3ad8c",
   "metadata": {},
   "source": [
    "###### Append"
   ]
  },
  {
   "cell_type": "code",
   "execution_count": 9,
   "id": "e4f7fd0a",
   "metadata": {},
   "outputs": [
    {
     "name": "stdout",
     "output_type": "stream",
     "text": [
      "['Tim', 'Antoine', 'Clement', 'Tim', 'Antoine', 'Clement']\n"
     ]
    }
   ],
   "source": [
    "with open(\"awesome_people.txt\", \"a\") as file:\n",
    "    file.write(\"Tim\\n\")\n",
    "    file.write(\"Antoine\\n\")\n",
    "    file.write(\"Clement\")\n",
    "\n",
    "file = open(\"awesome_people.txt\", \"r\")\n",
    "awesome_people = file.read().split(\"\\n\")\n",
    "file.close()\n",
    "\n",
    "print(awesome_people)"
   ]
  },
  {
   "cell_type": "markdown",
   "id": "d1ad64f5",
   "metadata": {},
   "source": [
    "###### Read and write"
   ]
  },
  {
   "cell_type": "code",
   "execution_count": 10,
   "id": "c9f9c955",
   "metadata": {},
   "outputs": [
    {
     "name": "stdout",
     "output_type": "stream",
     "text": [
      "['Tim', 'Antoine', 'Clement', 'Tim', 'Antoine', 'Clement']\n"
     ]
    }
   ],
   "source": [
    "with open(\"awesome_people.txt\", \"r+\") as file:\n",
    "    file.write(\"Tim\\n\")\n",
    "    file.write(\"Antoine\\n\")\n",
    "    file.write(\"Clement\")\n",
    "\n",
    "file = open(\"awesome_people.txt\", \"r\")\n",
    "awesome_people = file.read().split(\"\\n\")\n",
    "file.close()\n",
    "\n",
    "print(awesome_people)"
   ]
  },
  {
   "cell_type": "code",
   "execution_count": null,
   "id": "05ade7c1",
   "metadata": {},
   "outputs": [],
   "source": []
  },
  {
   "cell_type": "code",
   "execution_count": 11,
   "id": "3d2b6bd5",
   "metadata": {},
   "outputs": [],
   "source": [
    "with open(\"score.txt\", \"r+\") as file:\n",
    "    score = file.read()\n",
    "    new_score = int(score) + 1\n",
    "    file.write(str(new_score))\n",
    "    "
   ]
  },
  {
   "cell_type": "code",
   "execution_count": 27,
   "id": "99818771",
   "metadata": {},
   "outputs": [],
   "source": [
    "# Write your code here.\n",
    "with open(\"programmingExpert.txt\", \"w\") as file:\n",
    "    for i in range(1, 51):\n",
    "        file.write(str(i**2) + '\\n')"
   ]
  },
  {
   "cell_type": "code",
   "execution_count": 28,
   "id": "659b4624",
   "metadata": {},
   "outputs": [
    {
     "name": "stdout",
     "output_type": "stream",
     "text": [
      "['1\\n', '4\\n', '9\\n']\n"
     ]
    }
   ],
   "source": [
    "with open(\"programmingExpert.txt\", \"r\") as file:\n",
    "    lines = file.readlines()[:3]\n",
    "    print(lines)"
   ]
  },
  {
   "cell_type": "markdown",
   "id": "c55efe25",
   "metadata": {},
   "source": [
    "## Seek"
   ]
  },
  {
   "cell_type": "code",
   "execution_count": 16,
   "id": "88e01044",
   "metadata": {},
   "outputs": [
    {
     "name": "stdout",
     "output_type": "stream",
     "text": [
      "560\n"
     ]
    }
   ],
   "source": [
    "with open(\"score.txt\", \"r+\") as file:\n",
    "    score = file.read()\n",
    "    new_score = int(score) + 1\n",
    "    file.seek(2)\n",
    "    file.write(str(new_score))\n",
    "    print(new_score)"
   ]
  },
  {
   "cell_type": "markdown",
   "id": "03331519",
   "metadata": {},
   "source": [
    "###### Iterating over file"
   ]
  },
  {
   "cell_type": "code",
   "execution_count": 20,
   "id": "a8e6bfda",
   "metadata": {},
   "outputs": [
    {
     "name": "stdout",
     "output_type": "stream",
     "text": [
      "['The ability to handle files is essential to many programs and applications. But how do you imbue your code with such a superpower?\\n', '\\n', \"Fortunately, Python boasts several built-in functions that allow you to perform a variety of file operations. Study them, and you'll be well on your way toward becoming a master (file) manipulator.\\n\"]\n"
     ]
    }
   ],
   "source": [
    "with open(\"files.txt\", \"r\") as file:\n",
    "    lines = file.readlines()[:3]\n",
    "    print(lines)"
   ]
  },
  {
   "cell_type": "code",
   "execution_count": 22,
   "id": "6d3444d2",
   "metadata": {},
   "outputs": [
    {
     "name": "stdout",
     "output_type": "stream",
     "text": [
      "The ability to handle files is essential to many programs and applications. But how do you imbue your code with such a superpower?\n",
      "\n",
      "Fortunately, Python boasts several built-in functions that allow you to perform a variety of file operations. Study them, and you'll be well on your way toward becoming a master (file) manipulator.\n",
      "\n",
      "Ever been on a phone call while cooking some food in the kitchen, with a game or TV show running in the background? Well, in the same way that humans can perform multiple tasks simultaneously, so too can Python! Indeed, asynchronous programming is our favorite language's version of multitasking.\n",
      "\n"
     ]
    }
   ],
   "source": [
    "with open(\"files.txt\", \"r\") as file:\n",
    "    \n",
    "    for line in file:\n",
    "        print(line, end = \"\")"
   ]
  },
  {
   "cell_type": "code",
   "execution_count": 23,
   "id": "d26e9758",
   "metadata": {},
   "outputs": [
    {
     "name": "stdout",
     "output_type": "stream",
     "text": [
      "The ability to handle files is essential to many programs and applications. But how do you imbue your code with such a superpower?\n",
      "\n"
     ]
    }
   ],
   "source": [
    "with open(\"files.txt\", \"r\") as file:\n",
    "    count = 0\n",
    "    for line in file:\n",
    "        print(line, end = \"\")\n",
    "        count += 1\n",
    "        if count > 1:\n",
    "            break"
   ]
  },
  {
   "cell_type": "code",
   "execution_count": 24,
   "id": "39759b20",
   "metadata": {},
   "outputs": [
    {
     "name": "stdout",
     "output_type": "stream",
     "text": [
      "The ability to handle files is essential to many programs and applications. But how do you imbue your code with such a superpower?\n",
      "\n",
      "Fortunately, Python boasts several built-in functions that allow you to perform a variety of file operations. Study them, and you'll be well on your way toward becoming a master (file) manipulator.\n"
     ]
    }
   ],
   "source": [
    "with open(\"files.txt\", \"r\") as file:\n",
    "    for i, line in enumerate(file):\n",
    "        print(line, end = \"\")\n",
    "        if i ==2:\n",
    "            break"
   ]
  },
  {
   "cell_type": "code",
   "execution_count": null,
   "id": "1b84641e",
   "metadata": {},
   "outputs": [],
   "source": []
  },
  {
   "cell_type": "code",
   "execution_count": null,
   "id": "d984c51d",
   "metadata": {},
   "outputs": [],
   "source": [
    "###### Read Specific number of chracters"
   ]
  },
  {
   "cell_type": "code",
   "execution_count": 26,
   "id": "49b42913",
   "metadata": {},
   "outputs": [
    {
     "name": "stdout",
     "output_type": "stream",
     "text": [
      "The a\n"
     ]
    }
   ],
   "source": [
    "\n",
    "with open(\"files.txt\", \"r\") as file:\n",
    "    print(file.read(5))\n"
   ]
  },
  {
   "cell_type": "code",
   "execution_count": null,
   "id": "ee87b770",
   "metadata": {},
   "outputs": [],
   "source": []
  }
 ],
 "metadata": {
  "kernelspec": {
   "display_name": "Python 3 (ipykernel)",
   "language": "python",
   "name": "python3"
  },
  "language_info": {
   "codemirror_mode": {
    "name": "ipython",
    "version": 3
   },
   "file_extension": ".py",
   "mimetype": "text/x-python",
   "name": "python",
   "nbconvert_exporter": "python",
   "pygments_lexer": "ipython3",
   "version": "3.9.12"
  }
 },
 "nbformat": 4,
 "nbformat_minor": 5
}
