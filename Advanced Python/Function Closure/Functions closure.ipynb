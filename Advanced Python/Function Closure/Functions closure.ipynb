{
 "cells": [
  {
   "cell_type": "code",
   "execution_count": 1,
   "id": "57bef0ad",
   "metadata": {},
   "outputs": [
    {
     "name": "stdout",
     "output_type": "stream",
     "text": [
      "3\n"
     ]
    }
   ],
   "source": [
    "def outer(x, y):\n",
    "    def nested():\n",
    "        return x + y\n",
    "\n",
    "    return nested\n",
    "\n",
    "value = outer(1, 2)()\n",
    "print(value)"
   ]
  },
  {
   "cell_type": "code",
   "execution_count": 2,
   "id": "596d34b7",
   "metadata": {},
   "outputs": [
    {
     "name": "stdout",
     "output_type": "stream",
     "text": [
      "7\n"
     ]
    }
   ],
   "source": [
    "def foo(x):\n",
    "    print(x)\n",
    "\n",
    "\n",
    "def call_func(func, x):\n",
    "    func(x)\n",
    "\n",
    "call_func(foo, 7)"
   ]
  },
  {
   "cell_type": "code",
   "execution_count": 3,
   "id": "c3e2c8a7",
   "metadata": {},
   "outputs": [
    {
     "name": "stdout",
     "output_type": "stream",
     "text": [
      "15\n"
     ]
    }
   ],
   "source": [
    "def outer(x):\n",
    "    def inner(y):\n",
    "        print(x * y)\n",
    "\n",
    "    return inner\n",
    "\n",
    "outer(5)(3)"
   ]
  },
  {
   "cell_type": "code",
   "execution_count": 4,
   "id": "dc326242",
   "metadata": {},
   "outputs": [
    {
     "name": "stdout",
     "output_type": "stream",
     "text": [
      "30\n"
     ]
    }
   ],
   "source": [
    "def outer(x):\n",
    "    def inner(y):\n",
    "        print(x * y)\n",
    "\n",
    "    return inner\n",
    "\n",
    "x = outer(5)\n",
    "x(6)"
   ]
  },
  {
   "cell_type": "code",
   "execution_count": 5,
   "id": "3148b9c0",
   "metadata": {},
   "outputs": [
    {
     "name": "stdout",
     "output_type": "stream",
     "text": [
      "48\n"
     ]
    }
   ],
   "source": [
    "def outer(x):\n",
    "    def inner(y):\n",
    "        print(x * y)\n",
    "\n",
    "    inner(4)\n",
    "    \n",
    "x = outer(12)\n",
    "x"
   ]
  },
  {
   "cell_type": "code",
   "execution_count": 6,
   "id": "21dda115",
   "metadata": {},
   "outputs": [
    {
     "name": "stdout",
     "output_type": "stream",
     "text": [
      "15\n"
     ]
    }
   ],
   "source": [
    "def outer(x):\n",
    "    def inner(y):\n",
    "        def inner2(z):\n",
    "            print(x + y + z)\n",
    "        return inner2\n",
    "\n",
    "    return inner\n",
    "    \n",
    "outer(5)(5)(5)"
   ]
  },
  {
   "cell_type": "code",
   "execution_count": null,
   "id": "13ac6eea",
   "metadata": {},
   "outputs": [],
   "source": []
  },
  {
   "cell_type": "code",
   "execution_count": null,
   "id": "41739825",
   "metadata": {},
   "outputs": [],
   "source": []
  },
  {
   "cell_type": "code",
   "execution_count": null,
   "id": "59396ce1",
   "metadata": {},
   "outputs": [],
   "source": []
  },
  {
   "cell_type": "code",
   "execution_count": 12,
   "id": "032bfe89",
   "metadata": {},
   "outputs": [
    {
     "data": {
      "text/plain": [
       "[12]"
      ]
     },
     "execution_count": 12,
     "metadata": {},
     "output_type": "execute_result"
    }
   ],
   "source": [
    "class Collection:\n",
    "    def __init__(self):\n",
    "        self.lst = []\n",
    "\n",
    "    def add_value(self, value):\n",
    "        self.lst.append(value)\n",
    "        return self.lst\n",
    "    \n",
    "add = Collection()\n",
    "add.add_value(12)\n",
    "print(add.add_value(2))\n",
    "print(add.add_value(3))\n",
    "print(add.add_value(4))"
   ]
  },
  {
   "cell_type": "code",
   "execution_count": 15,
   "id": "aa65fe3e",
   "metadata": {},
   "outputs": [
    {
     "name": "stdout",
     "output_type": "stream",
     "text": [
      "[1]\n",
      "[1, 2]\n",
      "[1, 2, 3]\n",
      "[1, 2, 3, 4]\n"
     ]
    }
   ],
   "source": [
    "def collection():\n",
    "\n",
    "    lst = []\n",
    "\n",
    "    def inner(value):\n",
    "        lst.append(value)\n",
    "        return lst\n",
    "\n",
    "    return inner\n",
    "\n",
    "add_value = collection()\n",
    "print(add_value(1))\n",
    "print(add_value(2))\n",
    "print(add_value(3))\n",
    "print(add_value(4))"
   ]
  },
  {
   "cell_type": "code",
   "execution_count": null,
   "id": "38329be0",
   "metadata": {},
   "outputs": [],
   "source": []
  },
  {
   "cell_type": "code",
   "execution_count": null,
   "id": "20610f7e",
   "metadata": {},
   "outputs": [],
   "source": []
  },
  {
   "cell_type": "code",
   "execution_count": null,
   "id": "55399ae8",
   "metadata": {},
   "outputs": [],
   "source": []
  },
  {
   "cell_type": "markdown",
   "id": "abfa4386",
   "metadata": {},
   "source": [
    "###### Nonlocal variables"
   ]
  },
  {
   "cell_type": "code",
   "execution_count": null,
   "id": "954fafa3",
   "metadata": {},
   "outputs": [],
   "source": [
    "def Counter(start):\n",
    "    count = start\n",
    "\n",
    "    def increment(value):\n",
    "        nonlocal count\n",
    "        count+= value\n",
    "        return count\n",
    "    return increment\n",
    "\n",
    "c = Counter(2)\n",
    "print(c(1))\n",
    "print(c(1))\n",
    "print(c(1))"
   ]
  },
  {
   "cell_type": "code",
   "execution_count": 16,
   "id": "ed48e516",
   "metadata": {},
   "outputs": [
    {
     "name": "stdout",
     "output_type": "stream",
     "text": [
      "inner2 2\n",
      "Inner 2\n",
      "Outer 4\n"
     ]
    }
   ],
   "source": [
    "def outer():\n",
    "    def inner():\n",
    "        def inner2():\n",
    "            nonlocal x\n",
    "            x = 2\n",
    "            print(\"inner2\", x)\n",
    "\n",
    "        x = 3\n",
    "        inner2()\n",
    "        print(\"Inner\", x)\n",
    "    x = 4\n",
    "    inner()\n",
    "    print(\"Outer\", x)\n",
    "\n",
    "outer() "
   ]
  },
  {
   "cell_type": "markdown",
   "id": "9bc54850",
   "metadata": {},
   "source": [
    "###### Test"
   ]
  },
  {
   "cell_type": "code",
   "execution_count": 17,
   "id": "ff67600e",
   "metadata": {},
   "outputs": [
    {
     "name": "stdout",
     "output_type": "stream",
     "text": [
      "a\n"
     ]
    }
   ],
   "source": [
    "def a(x):\n",
    "    def b(x):\n",
    "        print(x)\n",
    "\n",
    "    return b\n",
    "\n",
    "a(\"b\")(\"a\")"
   ]
  },
  {
   "cell_type": "code",
   "execution_count": 18,
   "id": "63505854",
   "metadata": {},
   "outputs": [
    {
     "name": "stdout",
     "output_type": "stream",
     "text": [
      "3\n",
      "3\n"
     ]
    }
   ],
   "source": [
    "def foo(x):\n",
    "    def bar():\n",
    "        nonlocal x\n",
    "        print(x)\n",
    "        x = 1\n",
    "\n",
    "    print(x)\n",
    "    return bar\n",
    "\n",
    "foo(3)()"
   ]
  },
  {
   "cell_type": "code",
   "execution_count": 19,
   "id": "77bfe606",
   "metadata": {},
   "outputs": [
    {
     "name": "stdout",
     "output_type": "stream",
     "text": [
      "(4, 25)\n"
     ]
    }
   ],
   "source": [
    "def foo(x, y):\n",
    "    def bar():\n",
    "        nonlocal y\n",
    "        x = 3\n",
    "        y *= 5\n",
    "\n",
    "    bar()    \n",
    "    return x, y\n",
    "\n",
    "print(foo(4, 5))"
   ]
  },
  {
   "cell_type": "code",
   "execution_count": null,
   "id": "e1d6988a",
   "metadata": {},
   "outputs": [],
   "source": []
  }
 ],
 "metadata": {
  "kernelspec": {
   "display_name": "Python 3 (ipykernel)",
   "language": "python",
   "name": "python3"
  },
  "language_info": {
   "codemirror_mode": {
    "name": "ipython",
    "version": 3
   },
   "file_extension": ".py",
   "mimetype": "text/x-python",
   "name": "python",
   "nbconvert_exporter": "python",
   "pygments_lexer": "ipython3",
   "version": "3.9.12"
  }
 },
 "nbformat": 4,
 "nbformat_minor": 5
}
