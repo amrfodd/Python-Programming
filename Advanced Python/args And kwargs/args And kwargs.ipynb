{
 "cells": [
  {
   "cell_type": "code",
   "execution_count": 1,
   "id": "0478758c",
   "metadata": {},
   "outputs": [
    {
     "name": "stdout",
     "output_type": "stream",
     "text": [
      "***************\n",
      "H e l l o world!\n",
      "***************\n"
     ]
    }
   ],
   "source": [
    "def pretty_print(*args, **kwargs):\n",
    "    print(\"*\" * 15)\n",
    "    print(*args, **kwargs)\n",
    "    print(\"*\" * 15)\n",
    "\n",
    "\n",
    "pretty_print(*[\"H\", \"e\", \"l\", \"l\", \"o\", \"world\"], end=\"!\\n\")"
   ]
  },
  {
   "cell_type": "code",
   "execution_count": 3,
   "id": "c729932a",
   "metadata": {},
   "outputs": [
    {
     "name": "stdout",
     "output_type": "stream",
     "text": [
      "(1, 2, 3)\n",
      "6\n",
      "(1, 2, 3, 5)\n",
      "11\n",
      "(1, 2, 3, 5, 7, 9)\n",
      "27\n"
     ]
    }
   ],
   "source": [
    "def sum_items(*args):\n",
    "    print(args)\n",
    "    print(sum(args))\n",
    "\n",
    "sum_items(1,2 ,3)\n",
    "sum_items(1, 2, 3, 5)\n",
    "sum_items(1, 2, 3, 5, 7, 9)"
   ]
  },
  {
   "cell_type": "code",
   "execution_count": 4,
   "id": "7e57f13d",
   "metadata": {},
   "outputs": [
    {
     "name": "stdout",
     "output_type": "stream",
     "text": [
      "(1, 2, 3)\n",
      "{}\n",
      "(1, 2, 3, 5)\n",
      "{}\n",
      "(1, 2, 3, 5, 7, 9)\n",
      "{'k': 2, 'a': 2}\n"
     ]
    }
   ],
   "source": [
    " def sum_items(*args, **kwargs):\n",
    "    print(args)\n",
    "    print(kwargs)\n",
    "sum_items(1,2 ,3)\n",
    "sum_items(1, 2, 3, 5)\n",
    "sum_items(1, 2, 3, 5, 7, 9, k =2, a = 2)"
   ]
  },
  {
   "cell_type": "code",
   "execution_count": 5,
   "id": "131dbddb",
   "metadata": {},
   "outputs": [
    {
     "name": "stdout",
     "output_type": "stream",
     "text": [
      "(1, 2, 3)\n",
      "{}\n"
     ]
    },
    {
     "ename": "KeyError",
     "evalue": "'k'",
     "output_type": "error",
     "traceback": [
      "\u001b[1;31m---------------------------------------------------------------------------\u001b[0m",
      "\u001b[1;31mKeyError\u001b[0m                                  Traceback (most recent call last)",
      "Input \u001b[1;32mIn [5]\u001b[0m, in \u001b[0;36m<cell line: 9>\u001b[1;34m()\u001b[0m\n\u001b[0;32m      4\u001b[0m     \u001b[38;5;28mprint\u001b[39m(kwargs)\n\u001b[0;32m      5\u001b[0m     \u001b[38;5;28mprint\u001b[39m(kwargs[\u001b[38;5;124m'\u001b[39m\u001b[38;5;124mk\u001b[39m\u001b[38;5;124m'\u001b[39m])\n\u001b[1;32m----> 9\u001b[0m \u001b[43msum_items\u001b[49m\u001b[43m(\u001b[49m\u001b[38;5;241;43m1\u001b[39;49m\u001b[43m,\u001b[49m\u001b[38;5;241;43m2\u001b[39;49m\u001b[43m \u001b[49m\u001b[43m,\u001b[49m\u001b[38;5;241;43m3\u001b[39;49m\u001b[43m)\u001b[49m\n\u001b[0;32m     10\u001b[0m sum_items(\u001b[38;5;241m1\u001b[39m, \u001b[38;5;241m2\u001b[39m, \u001b[38;5;241m3\u001b[39m, \u001b[38;5;241m5\u001b[39m)\n\u001b[0;32m     11\u001b[0m sum_items(\u001b[38;5;241m1\u001b[39m, \u001b[38;5;241m2\u001b[39m, \u001b[38;5;241m3\u001b[39m, \u001b[38;5;241m5\u001b[39m, \u001b[38;5;241m7\u001b[39m, \u001b[38;5;241m9\u001b[39m, k \u001b[38;5;241m=\u001b[39m\u001b[38;5;241m2\u001b[39m, a \u001b[38;5;241m=\u001b[39m \u001b[38;5;241m2\u001b[39m)\n",
      "Input \u001b[1;32mIn [5]\u001b[0m, in \u001b[0;36msum_items\u001b[1;34m(*args, **kwargs)\u001b[0m\n\u001b[0;32m      3\u001b[0m \u001b[38;5;28mprint\u001b[39m(args)\n\u001b[0;32m      4\u001b[0m \u001b[38;5;28mprint\u001b[39m(kwargs)\n\u001b[1;32m----> 5\u001b[0m \u001b[38;5;28mprint\u001b[39m(\u001b[43mkwargs\u001b[49m\u001b[43m[\u001b[49m\u001b[38;5;124;43m'\u001b[39;49m\u001b[38;5;124;43mk\u001b[39;49m\u001b[38;5;124;43m'\u001b[39;49m\u001b[43m]\u001b[49m)\n",
      "\u001b[1;31mKeyError\u001b[0m: 'k'"
     ]
    }
   ],
   "source": [
    " def sum_items(*args, **kwargs):\n",
    "     \n",
    "     print(args)\n",
    "     print(kwargs)\n",
    "     print(kwargs['k'])\n",
    "     \n",
    "    \n",
    "\n",
    "sum_items(1,2 ,3)\n",
    "sum_items(1, 2, 3, 5)\n",
    "sum_items(1, 2, 3, 5, 7, 9, k =2, a = 2)"
   ]
  },
  {
   "cell_type": "code",
   "execution_count": 7,
   "id": "57b67f50",
   "metadata": {},
   "outputs": [
    {
     "name": "stdout",
     "output_type": "stream",
     "text": [
      "15\n"
     ]
    }
   ],
   "source": [
    "def sum_items(a, b, c):\n",
    "    return a+b+c\n",
    "\n",
    "args = [4, 5, 6]\n",
    "x = sum_items(args[0], args[1], args[2])\n",
    "print(x)"
   ]
  },
  {
   "cell_type": "code",
   "execution_count": 8,
   "id": "4a2ecd32",
   "metadata": {},
   "outputs": [
    {
     "name": "stdout",
     "output_type": "stream",
     "text": [
      "15\n"
     ]
    }
   ],
   "source": [
    "def sum_items(a, b, c):\n",
    "    return a+b+c\n",
    "\n",
    "args = [4, 5, 6]\n",
    "x = sum_items(*args)\n",
    "print(x)"
   ]
  },
  {
   "cell_type": "code",
   "execution_count": 10,
   "id": "3b03268b",
   "metadata": {},
   "outputs": [
    {
     "name": "stdout",
     "output_type": "stream",
     "text": [
      "279\n"
     ]
    }
   ],
   "source": [
    "def sum_items(a, b, c, d):\n",
    "    return a+b+c+d\n",
    "\n",
    "kwargs = {'a': 2, 'b': 243, 'c': 22, 'd': 12}\n",
    "x = sum_items(**kwargs)\n",
    "print(x) "
   ]
  },
  {
   "cell_type": "code",
   "execution_count": 11,
   "id": "a6bc9c3e",
   "metadata": {},
   "outputs": [
    {
     "name": "stdout",
     "output_type": "stream",
     "text": [
      "270\n"
     ]
    }
   ],
   "source": [
    "\n",
    "def sum_items(a, b, c = None, d = None, e = None):\n",
    "    return a+b+c+d+e\n",
    "args = [1, 2]\n",
    "kwargs = {'c': 2, 'd': 243, 'e': 22}\n",
    "x = sum_items(*args, **kwargs)\n",
    "print(x) "
   ]
  },
  {
   "cell_type": "code",
   "execution_count": 12,
   "id": "caf99e67",
   "metadata": {},
   "outputs": [
    {
     "name": "stdout",
     "output_type": "stream",
     "text": [
      "1 () {}\n"
     ]
    }
   ],
   "source": [
    "\n",
    "def test(p1, *args, **kwargs):\n",
    "    print(p1, args, kwargs)\n",
    "\n",
    "test(1)"
   ]
  },
  {
   "cell_type": "code",
   "execution_count": 13,
   "id": "397eff1c",
   "metadata": {},
   "outputs": [
    {
     "name": "stdout",
     "output_type": "stream",
     "text": [
      "1 (1, 2, 3, 4, 5) {'c': 2, 'd': 243, 'e': 22}\n"
     ]
    }
   ],
   "source": [
    "def test(p1, *args, **kwargs):\n",
    "    print(p1, args, kwargs)\n",
    "values = [1, 2, 3,4,5]\n",
    "kwargs = {'c': 2, 'd': 243, 'e': 22}\n",
    "\n",
    "test(1, *values, **kwargs)"
   ]
  },
  {
   "cell_type": "code",
   "execution_count": 14,
   "id": "c71ac6b3",
   "metadata": {},
   "outputs": [
    {
     "name": "stdout",
     "output_type": "stream",
     "text": [
      "1 (1, 2, 3, 4, 5) {'c': 2, 'd': 243, 'e': 22}\n"
     ]
    }
   ],
   "source": [
    "def test(p1, *args, **kwargs):\n",
    "    print(p1, args, kwargs)\n",
    "values = [1, 2, 3,4,5]\n",
    "kwargs = {'c': 2, 'd': 243, 'e': 22}\n",
    "\n",
    "test(1, *values, **kwargs)"
   ]
  },
  {
   "cell_type": "code",
   "execution_count": 15,
   "id": "4a9cf9c0",
   "metadata": {},
   "outputs": [
    {
     "name": "stdout",
     "output_type": "stream",
     "text": [
      "1*2*3*4|"
     ]
    }
   ],
   "source": [
    "print(*[1, 2, 3, 4], **{'end': \"|\", 'sep': \"*\"})\n"
   ]
  },
  {
   "cell_type": "code",
   "execution_count": 16,
   "id": "991465f0",
   "metadata": {},
   "outputs": [],
   "source": [
    "def get_args_and_kwargs(*args, **kwargs):\n",
    "    number_of_args = len(args) + len(kwargs)\n",
    "    num = kwargs.get(\"num\", 0)\n",
    "\n",
    "    if not isinstance(num, int) and not isinstance(num, float):\n",
    "        return False\n",
    "\n",
    "    return number_of_args >= 4 and num > 5"
   ]
  },
  {
   "cell_type": "code",
   "execution_count": null,
   "id": "17e8d26f",
   "metadata": {},
   "outputs": [],
   "source": []
  }
 ],
 "metadata": {
  "kernelspec": {
   "display_name": "Python 3 (ipykernel)",
   "language": "python",
   "name": "python3"
  },
  "language_info": {
   "codemirror_mode": {
    "name": "ipython",
    "version": 3
   },
   "file_extension": ".py",
   "mimetype": "text/x-python",
   "name": "python",
   "nbconvert_exporter": "python",
   "pygments_lexer": "ipython3",
   "version": "3.9.12"
  }
 },
 "nbformat": 4,
 "nbformat_minor": 5
}
