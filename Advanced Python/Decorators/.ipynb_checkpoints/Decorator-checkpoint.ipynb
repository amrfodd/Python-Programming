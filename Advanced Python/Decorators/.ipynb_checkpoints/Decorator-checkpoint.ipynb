{
 "cells": [
  {
   "cell_type": "code",
   "execution_count": 1,
   "id": "2ae0c899",
   "metadata": {},
   "outputs": [
    {
     "name": "stdout",
     "output_type": "stream",
     "text": [
      "Wrapper function called func!\n",
      "foo\n"
     ]
    }
   ],
   "source": [
    "def decorator(func):\n",
    "    def wrapper():\n",
    "        print(\"Wrapper function called func!\")\n",
    "        result = func()\n",
    "        return result\n",
    "        \n",
    "    return wrapper\n",
    "@decorator\n",
    "def foo():\n",
    "    print(\"foo\")\n",
    "\n",
    "\n",
    "\n",
    "# here we passed the foo function as an argument to the decorator function\n",
    "foo()"
   ]
  },
  {
   "cell_type": "code",
   "execution_count": 3,
   "id": "1c5a3597",
   "metadata": {},
   "outputs": [
    {
     "name": "stdout",
     "output_type": "stream",
     "text": [
      "Wrapper function called func!\n",
      "2 3 4\n"
     ]
    }
   ],
   "source": [
    "def decorator(func):\n",
    "    def wrapper(*args, **kwargs):\n",
    "        print(\"Wrapper function called func!\")\n",
    "        result = func(*args, **kwargs)\n",
    "        return result\n",
    "        \n",
    "    return wrapper\n",
    "@decorator\n",
    "def foo(x, y, z = None):\n",
    "    print(x, y, z)\n",
    "\n",
    "foo(2, 3, z = 4)"
   ]
  },
  {
   "cell_type": "code",
   "execution_count": 5,
   "id": "30920b9a",
   "metadata": {},
   "outputs": [
    {
     "name": "stdout",
     "output_type": "stream",
     "text": [
      "Time taken to execute: 0.0\n"
     ]
    }
   ],
   "source": [
    "import time\n",
    "\n",
    "def timer(func):\n",
    "    def wrapper(*args, **kwargs):\n",
    "        start_time = time.time()\n",
    "        result = func(*args, **kwargs)\n",
    "        end_time = time.time()\n",
    "        total_time = end_time - start_time\n",
    "        print(\"Time taken to execute:\", total_time)\n",
    "\n",
    "        return result\n",
    "\n",
    "    return wrapper\n",
    "\n",
    "@timer\n",
    "def loop():\n",
    "    for _ in range(10000):\n",
    "        pass\n",
    "\n",
    "loop()"
   ]
  },
  {
   "cell_type": "code",
   "execution_count": 6,
   "id": "b7b8a0a1",
   "metadata": {},
   "outputs": [
    {
     "name": "stdout",
     "output_type": "stream",
     "text": [
      "Time taken to execute: 0.0\n",
      "3\n"
     ]
    }
   ],
   "source": [
    "@timer\n",
    "def get_max(x, y, z):\n",
    "    return max(x, y, z)\n",
    "\n",
    "print(get_max(1, 2, 3))"
   ]
  },
  {
   "cell_type": "markdown",
   "id": "eefd3884",
   "metadata": {},
   "source": [
    "\n",
    "###### Multiple decorators"
   ]
  },
  {
   "cell_type": "code",
   "execution_count": null,
   "id": "b5293c6c",
   "metadata": {},
   "outputs": [],
   "source": [
    "import time\n",
    "\n",
    "def timer(func):\n",
    "    def wrapper(*args, **kwargs):\n",
    "        start_time = time.time()\n",
    "        result = func(*args, **kwargs)\n",
    "        end_time = time.time()\n",
    "        total_time = end_time - start_time\n",
    "        print(\"Time taken to execute:\", total_time)\n",
    "\n",
    "        return result\n",
    "\n",
    "    return wrapper\n",
    "\n",
    "def pretty_printer(func):\n",
    "    def wrapper(*args, **kwargs):\n",
    "        print()\n",
    "        result = func(*args, **kwargs)\n",
    "        print()\n",
    "        return result\n",
    "    return wrapper\n",
    "\n",
    "@timer\n",
    "@pretty_printer\n",
    "def print_number(num):\n",
    "    for i in range(num):\n",
    "        print(i)\n",
    "\n",
    "print_number(15)"
   ]
  },
  {
   "cell_type": "code",
   "execution_count": 2,
   "id": "55bf862c",
   "metadata": {},
   "outputs": [
    {
     "name": "stdout",
     "output_type": "stream",
     "text": [
      "Args: (12,) Kwargs: {}\n",
      "Time taken to execute: 0.0 microseconds\n",
      "Args: (1000000,) Kwargs: {}\n",
      "Exception ignored: n is too large to loop through!\n"
     ]
    }
   ],
   "source": [
    "# Welcome to our Python playground!\n",
    "\n",
    "\n",
    "import time\n",
    "\n",
    "\n",
    "def timer(func):\n",
    "    def wrapper(*args, **kwargs):\n",
    "        start_time = time.time()\n",
    "        result = func(*args, **kwargs)\n",
    "        end_time = time.time()\n",
    "\n",
    "        total_time = end_time - start_time\n",
    "        print(f\"Time taken to execute: {total_time * 1000000} microseconds\")\n",
    "        return result\n",
    "\n",
    "    return wrapper\n",
    "\n",
    "\n",
    "def print_arguments(func):\n",
    "    def wrapper(*args, **kwargs):\n",
    "        print(\"Args:\", args, \"Kwargs:\", kwargs)\n",
    "        result = func(*args, **kwargs)\n",
    "        return result\n",
    "\n",
    "    return wrapper\n",
    "\n",
    "\n",
    "def ignore_exception(func):\n",
    "    def wrapper(*args, **kwargs):\n",
    "        try:\n",
    "            return func(*args, **kwargs)\n",
    "        except Exception as e:\n",
    "            print(\"Exception ignored:\", e)\n",
    "        return None\n",
    "\n",
    "    return wrapper\n",
    "\n",
    "\n",
    "@print_arguments\n",
    "@ignore_exception\n",
    "@timer\n",
    "def loop(n):\n",
    "    if n > 10000:\n",
    "        raise Exception(\"n is too large to loop through!\")\n",
    "    for i in range(n):\n",
    "        pass\n",
    "\n",
    "\n",
    "loop(12)\n",
    "loop(1000000)"
   ]
  },
  {
   "cell_type": "code",
   "execution_count": 13,
   "id": "7a673d82",
   "metadata": {},
   "outputs": [
    {
     "data": {
      "text/plain": [
       "4"
      ]
     },
     "execution_count": 13,
     "metadata": {},
     "output_type": "execute_result"
    }
   ],
   "source": [
    "# Write your code here.\n",
    "def add_one(func):\n",
    "    def wrapper(*args, **kwargs):\n",
    "        result = func(*args, **kwargs) + 1\n",
    "        return result\n",
    "    return wrapper\n",
    "\n",
    "@add_one\n",
    "def add_values(x, y):\n",
    "    return x + y\n",
    "\n",
    "add_values(1, 2)"
   ]
  },
  {
   "cell_type": "code",
   "execution_count": null,
   "id": "a7473b05",
   "metadata": {},
   "outputs": [],
   "source": []
  }
 ],
 "metadata": {
  "kernelspec": {
   "display_name": "Python 3 (ipykernel)",
   "language": "python",
   "name": "python3"
  },
  "language_info": {
   "codemirror_mode": {
    "name": "ipython",
    "version": 3
   },
   "file_extension": ".py",
   "mimetype": "text/x-python",
   "name": "python",
   "nbconvert_exporter": "python",
   "pygments_lexer": "ipython3",
   "version": "3.9.12"
  }
 },
 "nbformat": 4,
 "nbformat_minor": 5
}
