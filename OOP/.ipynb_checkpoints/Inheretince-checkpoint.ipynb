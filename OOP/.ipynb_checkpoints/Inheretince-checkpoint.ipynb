{
 "cells": [
  {
   "cell_type": "code",
   "execution_count": 7,
   "id": "4bd83e44",
   "metadata": {},
   "outputs": [
    {
     "ename": "TypeError",
     "evalue": "__init__() missing 1 required positional argument: 'name'",
     "output_type": "error",
     "traceback": [
      "\u001b[1;31m---------------------------------------------------------------------------\u001b[0m",
      "\u001b[1;31mTypeError\u001b[0m                                 Traceback (most recent call last)",
      "Input \u001b[1;32mIn [7]\u001b[0m, in \u001b[0;36m<cell line: 21>\u001b[1;34m()\u001b[0m\n\u001b[0;32m     15\u001b[0m   \u001b[38;5;28;01mdef\u001b[39;00m \u001b[38;5;21mmeow\u001b[39m(\u001b[38;5;28mself\u001b[39m):\n\u001b[0;32m     16\u001b[0m     \u001b[38;5;28mprint\u001b[39m(\u001b[38;5;124m'\u001b[39m\u001b[38;5;124mMeow!\u001b[39m\u001b[38;5;124m'\u001b[39m)\n\u001b[1;32m---> 21\u001b[0m fluffy \u001b[38;5;241m=\u001b[39m \u001b[43mDog\u001b[49m\u001b[43m(\u001b[49m\u001b[43m)\u001b[49m\n\u001b[0;32m     22\u001b[0m zoomie \u001b[38;5;241m=\u001b[39m Cat()\n\u001b[0;32m     24\u001b[0m fluffy\u001b[38;5;241m.\u001b[39meat() \u001b[38;5;66;03m# Nom Nom Nom...eating food!\u001b[39;00m\n",
      "\u001b[1;31mTypeError\u001b[0m: __init__() missing 1 required positional argument: 'name'"
     ]
    }
   ],
   "source": [
    "class Animal: \n",
    "    def __init__(self, name):\n",
    "        self.name = name\n",
    "    def eat(self): \n",
    "        print(\"Nom Nom Nom...eating food!\")\n",
    " \n",
    "    def make_noise(self):\n",
    "        print(\"{} says, Grrrr\".format(self.name))\n",
    "\n",
    "class Dog(Animal):\n",
    "  def bark(self):\n",
    "    print('Bark!')\n",
    " \n",
    "class Cat(Animal):\n",
    "  def meow(self):\n",
    "    print('Meow!')\n",
    "    \n",
    "    \n",
    "    \n",
    "    \n",
    "fluffy = Dog()\n",
    "zoomie = Cat()\n",
    "\n",
    "fluffy.eat() # Nom Nom Nom...eating food!\n",
    "\n",
    "zoomie.eat() # Nom Nom Nom...eating food!\n",
    " \n",
    "pet1 = Animal(\"Rex\")\n",
    "pet1.make_noise() # Rex says, Grrrr"
   ]
  },
  {
   "cell_type": "markdown",
   "id": "6d556322",
   "metadata": {},
   "source": [
    "#### OverRide"
   ]
  },
  {
   "cell_type": "code",
   "execution_count": 8,
   "id": "e9e53c35",
   "metadata": {},
   "outputs": [
    {
     "name": "stdout",
     "output_type": "stream",
     "text": [
      "I am an Admin\n"
     ]
    }
   ],
   "source": [
    "class Employee():\n",
    "  new_id = 1\n",
    "  def __init__(self):\n",
    "    self.id = Employee.new_id\n",
    "    Employee.new_id += 1\n",
    "\n",
    "  def say_id(self):\n",
    "    print(\"My id is {}.\".format(self.id))\n",
    "\n",
    "class Admin(Employee):\n",
    "  # Write your code below to override main function\n",
    "  def say_id(self):\n",
    "    print(\"I am an Admin\")\n",
    "\n",
    "\n",
    "e1 = Employee()\n",
    "e2 = Employee()\n",
    "e3 = Admin()\n",
    "e3.say_id()"
   ]
  },
  {
   "cell_type": "markdown",
   "id": "2e459fd1",
   "metadata": {},
   "source": [
    "#### Super()"
   ]
  },
  {
   "cell_type": "code",
   "execution_count": null,
   "id": "d63e562e",
   "metadata": {},
   "outputs": [],
   "source": [
    "class Employee():\n",
    "  new_id = 1\n",
    "  def __init__(self):\n",
    "    self.id = Employee.new_id\n",
    "    Employee.new_id += 1\n",
    "\n",
    "  def say_id(self):\n",
    "    print(\"My id is {}.\".format(self.id))\n",
    "\n",
    "class Admin(Employee):\n",
    "  def say_id(self):\n",
    "    # Write your code below:\n",
    "    super().say_id()\n",
    "    print(\"I am an admin.\")\n",
    "\n",
    "e1 = Employee()\n",
    "e2 = Employee()\n",
    "e3 = Admin()\n",
    "e3.say_id()"
   ]
  },
  {
   "cell_type": "markdown",
   "id": "5113c351",
   "metadata": {},
   "source": [
    "###### Multiple Inheritance"
   ]
  },
  {
   "cell_type": "code",
   "execution_count": null,
   "id": "6ecd9aa9",
   "metadata": {},
   "outputs": [],
   "source": [
    "class Employee():\n",
    "  new_id = 1\n",
    "  def __init__(self):\n",
    "    self.id = Employee.new_id\n",
    "    Employee.new_id += 1\n",
    "\n",
    "  def say_id(self):\n",
    "    print(\"My id is {}.\".format(self.id))\n",
    "\n",
    "class Admin(Employee):\n",
    "  def say_id(self):\n",
    "    super().say_id()\n",
    "    print(\"I am an admin.\")\n",
    "\n",
    "# Write your code below\n",
    "class Manager(Admin):\n",
    "  def say_id(self):\n",
    "    super().say_id()\n",
    "    print(\"I am in charge\")\n",
    "\n",
    "e1 = Employee()\n",
    "e2 = Employee()\n",
    "e3 = Admin()\n",
    "e4 = Manager()\n",
    "e4.say_id()"
   ]
  },
  {
   "cell_type": "code",
   "execution_count": 9,
   "id": "3615f173",
   "metadata": {},
   "outputs": [
    {
     "name": "stdout",
     "output_type": "stream",
     "text": [
      "My username is 3\n",
      "My role is Admin\n"
     ]
    }
   ],
   "source": [
    "class Employee():\n",
    "  new_id = 1\n",
    "  def __init__(self):\n",
    "    self.id = Employee.new_id\n",
    "    Employee.new_id += 1\n",
    "\n",
    "  def say_id(self):\n",
    "    print(\"My id is {}.\".format(self.id))\n",
    "\n",
    "class User:\n",
    "  def __init__(self, username, role=\"Customer\"):\n",
    "    self.username = username\n",
    "    self.role = role\n",
    "\n",
    "  def say_user_info(self):\n",
    "    print(\"My username is {}\".format(self.username))\n",
    "    print(\"My role is {}\".format(self.role))\n",
    "\n",
    "# Write your code below\n",
    "class Admin(Employee, User):\n",
    "  def __init__(self):\n",
    "    super().__init__()\n",
    "    User.__init__(self, self.id, \"Admin\")\n",
    "    \n",
    "\n",
    "  def say_id(self):\n",
    "    super().say_id()\n",
    "    print(\"I am an admin.\")\n",
    "\n",
    "e1 = Employee()\n",
    "e2 = Employee()\n",
    "e3 = Admin()\n",
    "e3.say_user_info()"
   ]
  },
  {
   "cell_type": "code",
   "execution_count": null,
   "id": "17750eaf",
   "metadata": {},
   "outputs": [],
   "source": []
  },
  {
   "cell_type": "code",
   "execution_count": null,
   "id": "fe5b3253",
   "metadata": {},
   "outputs": [],
   "source": []
  },
  {
   "cell_type": "code",
   "execution_count": null,
   "id": "59991e3f",
   "metadata": {},
   "outputs": [],
   "source": []
  }
 ],
 "metadata": {
  "kernelspec": {
   "display_name": "Python 3 (ipykernel)",
   "language": "python",
   "name": "python3"
  },
  "language_info": {
   "codemirror_mode": {
    "name": "ipython",
    "version": 3
   },
   "file_extension": ".py",
   "mimetype": "text/x-python",
   "name": "python",
   "nbconvert_exporter": "python",
   "pygments_lexer": "ipython3",
   "version": "3.9.12"
  }
 },
 "nbformat": 4,
 "nbformat_minor": 5
}
