{
 "cells": [
  {
   "cell_type": "code",
   "execution_count": 1,
   "id": "2891c03b",
   "metadata": {},
   "outputs": [],
   "source": [
    "# Define Classes\n",
    "class Circle:\n",
    "    # Define Class Variable\n",
    "    pi = 3.14\n",
    "    # Define Method with argument\n",
    "    def area(self, radius):\n",
    "        # return from the method\n",
    "        return self.pi * (radius ** 2)\n",
    "\n",
    "# Class Instantiation\n",
    "circle = Circle()\n",
    "\n"
   ]
  },
  {
   "cell_type": "code",
   "execution_count": 2,
   "id": "21d9d724",
   "metadata": {},
   "outputs": [
    {
     "data": {
      "text/plain": [
       "113.04"
      ]
     },
     "execution_count": 2,
     "metadata": {},
     "output_type": "execute_result"
    }
   ],
   "source": [
    "# Call method\n",
    "pizza_area = circle.area(12 /2)\n",
    "\n",
    "pizza_area"
   ]
  },
  {
   "cell_type": "code",
   "execution_count": 4,
   "id": "574d4c84",
   "metadata": {},
   "outputs": [
    {
     "data": {
      "text/plain": [
       "1017.36"
      ]
     },
     "execution_count": 4,
     "metadata": {},
     "output_type": "execute_result"
    }
   ],
   "source": [
    "teaching_table_area = circle.area(36 / 2)\n",
    "teaching_table_area"
   ]
  },
  {
   "cell_type": "code",
   "execution_count": 5,
   "id": "19db2ab9",
   "metadata": {},
   "outputs": [
    {
     "data": {
      "text/plain": [
       "103095306.0"
      ]
     },
     "execution_count": 5,
     "metadata": {},
     "output_type": "execute_result"
    }
   ],
   "source": [
    "round_room_area = circle.area(11460 / 2) \n",
    "round_room_area"
   ]
  },
  {
   "cell_type": "markdown",
   "id": "979c5577",
   "metadata": {},
   "source": [
    "###### Constructors"
   ]
  },
  {
   "cell_type": "code",
   "execution_count": 6,
   "id": "73f23974",
   "metadata": {},
   "outputs": [
    {
     "name": "stdout",
     "output_type": "stream",
     "text": [
      "New circle with diameter: 36\n"
     ]
    }
   ],
   "source": [
    "class Circle:\n",
    "  pi = 3.14\n",
    "  \n",
    "  # Add constructor here:\n",
    "  def __init__(self, diameter):\n",
    "    print(\"New circle with diameter: {diameter}\".format(diameter = diameter))\n",
    "\n",
    "circle = Circle(36)"
   ]
  },
  {
   "cell_type": "code",
   "execution_count": null,
   "id": "4351f4e2",
   "metadata": {},
   "outputs": [],
   "source": []
  },
  {
   "cell_type": "code",
   "execution_count": null,
   "id": "ac40e669",
   "metadata": {},
   "outputs": [],
   "source": []
  },
  {
   "cell_type": "code",
   "execution_count": null,
   "id": "297ea481",
   "metadata": {},
   "outputs": [],
   "source": []
  },
  {
   "cell_type": "code",
   "execution_count": null,
   "id": "ee64f1aa",
   "metadata": {},
   "outputs": [],
   "source": []
  }
 ],
 "metadata": {
  "kernelspec": {
   "display_name": "Python 3 (ipykernel)",
   "language": "python",
   "name": "python3"
  },
  "language_info": {
   "codemirror_mode": {
    "name": "ipython",
    "version": 3
   },
   "file_extension": ".py",
   "mimetype": "text/x-python",
   "name": "python",
   "nbconvert_exporter": "python",
   "pygments_lexer": "ipython3",
   "version": "3.9.12"
  }
 },
 "nbformat": 4,
 "nbformat_minor": 5
}
