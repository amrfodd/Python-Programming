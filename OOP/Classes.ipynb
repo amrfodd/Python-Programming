{
 "cells": [
  {
   "cell_type": "code",
   "execution_count": 1,
   "id": "2891c03b",
   "metadata": {},
   "outputs": [],
   "source": [
    "# Define Classes\n",
    "class Circle:\n",
    "    # Define Class Variable\n",
    "    pi = 3.14\n",
    "    # Define Method with argument\n",
    "    def area(self, radius):\n",
    "        # return from the method\n",
    "        return self.pi * (radius ** 2)\n",
    "\n",
    "# Class Instantiation\n",
    "circle = Circle()\n",
    "\n"
   ]
  },
  {
   "cell_type": "code",
   "execution_count": 2,
   "id": "21d9d724",
   "metadata": {},
   "outputs": [
    {
     "data": {
      "text/plain": [
       "113.04"
      ]
     },
     "execution_count": 2,
     "metadata": {},
     "output_type": "execute_result"
    }
   ],
   "source": [
    "# Call method\n",
    "pizza_area = circle.area(12 /2)\n",
    "\n",
    "pizza_area"
   ]
  },
  {
   "cell_type": "code",
   "execution_count": 4,
   "id": "574d4c84",
   "metadata": {},
   "outputs": [
    {
     "data": {
      "text/plain": [
       "1017.36"
      ]
     },
     "execution_count": 4,
     "metadata": {},
     "output_type": "execute_result"
    }
   ],
   "source": [
    "teaching_table_area = circle.area(36 / 2)\n",
    "teaching_table_area"
   ]
  },
  {
   "cell_type": "code",
   "execution_count": 5,
   "id": "19db2ab9",
   "metadata": {},
   "outputs": [
    {
     "data": {
      "text/plain": [
       "103095306.0"
      ]
     },
     "execution_count": 5,
     "metadata": {},
     "output_type": "execute_result"
    }
   ],
   "source": [
    "round_room_area = circle.area(11460 / 2) \n",
    "round_room_area"
   ]
  },
  {
   "cell_type": "code",
   "execution_count": null,
   "id": "aebea475",
   "metadata": {},
   "outputs": [],
   "source": []
  },
  {
   "cell_type": "code",
   "execution_count": 1,
   "id": "30b3e9e2",
   "metadata": {},
   "outputs": [
    {
     "name": "stdout",
     "output_type": "stream",
     "text": [
      "ran\n",
      "<__main__.Person object at 0x000002581AC576A0>\n"
     ]
    }
   ],
   "source": [
    "# Welcome to our Python playground!\n",
    "class Person:\n",
    "    def __init__(self):\n",
    "        print(\"ran\")\n",
    "\n",
    "p1 = Person()\n",
    "print(p1)"
   ]
  },
  {
   "cell_type": "code",
   "execution_count": null,
   "id": "2183debd",
   "metadata": {},
   "outputs": [],
   "source": [
    "# Welcome to our Python playground!\n",
    "class Person:\n",
    "    def __init__(self, name, age):\n",
    "        self.name = name\n",
    "        self.age = age\n",
    "\n",
    "p1 = Person(\"Tim\", 42)\n",
    "print(p1.name)\n",
    "print(p1.age)"
   ]
  },
  {
   "cell_type": "code",
   "execution_count": null,
   "id": "cdeb215c",
   "metadata": {},
   "outputs": [],
   "source": [
    "class Fruit:\n",
    "    def __init__(self, name, calories):\n",
    "        self.name = name\n",
    "        self.calories = calories\n",
    "a = Fruit(\"Apple\", 180)\n",
    "a.color = 'Red'\n",
    "\n",
    "print(a.color)"
   ]
  },
  {
   "cell_type": "markdown",
   "id": "2185da83",
   "metadata": {},
   "source": [
    "###### Methods"
   ]
  },
  {
   "cell_type": "code",
   "execution_count": null,
   "id": "90a5e6f4",
   "metadata": {},
   "outputs": [],
   "source": [
    "class Instructor:\n",
    "    def __init__(self, name):\n",
    "        self.name = name\n",
    "\n",
    "    def get_name(self):\n",
    "        return self.name.capitalize()\n",
    "\n",
    "    def say_name(self):\n",
    "        print(f\"My name is {self.name.capitalize()}!\")\n",
    "\n",
    "\n",
    "tim = Instructor(\"tim\")\n",
    "tim.say_name()"
   ]
  },
  {
   "cell_type": "code",
   "execution_count": null,
   "id": "641c69e9",
   "metadata": {},
   "outputs": [],
   "source": [
    "class Person:\n",
    "    def __init__(self, name):\n",
    "        ## Add all values that you gonna use and instantiate with 0\n",
    "        self.name = name\n",
    "        self.age = None\n",
    "        \n",
    "    def say_hello(self):\n",
    "        print(f\"Hello, {self.name}\")\n",
    "\n",
    "    def set_age(self, age):\n",
    "        self.age = age\n",
    "\n",
    "    def get_Age(self):\n",
    "        return self.age\n",
    "    \n",
    "p1 = Person(\"Tim\")\n",
    "p1.say_hello()\n",
    "p1.set_age(21)\n",
    "print(p1.get_Age()) "
   ]
  },
  {
   "cell_type": "code",
   "execution_count": null,
   "id": "fa2fed11",
   "metadata": {},
   "outputs": [],
   "source": [
    "class Rectangle:\n",
    "    def __init__(self, x, y, width, height):\n",
    "        self.x = x\n",
    "        self.y = y\n",
    "        self.width = width\n",
    "        self.height = height\n",
    "\n",
    "    # Write your code here\n",
    "    def change_position(self, x, y):\n",
    "        self.x = x\n",
    "        self.y = y\n",
    "\n",
    "    def get_position(self):\n",
    "        return self.x, self. y\n",
    "\n",
    "    def get_area(self):\n",
    "        return self.width * self.height"
   ]
  },
  {
   "cell_type": "code",
   "execution_count": null,
   "id": "de2524cb",
   "metadata": {},
   "outputs": [],
   "source": [
    "class Group:\n",
    "    def __init__(self, name, members=[]):\n",
    "        self.name = name\n",
    "        self.members = members\n",
    "\n",
    "    # Write your code here\n",
    "    def add(self, name):\n",
    "        self.members.append(name) \n",
    "\n",
    "    def delete(self, name):\n",
    "        if name in self.members:\n",
    "            self.members.remove(name)\n",
    "        else:\n",
    "            raise Exception(\"Member not in group\")\n",
    "\n",
    "    def get_members(self):\n",
    "        return sorted(self.members)\n",
    "    def merge(self, group):\n",
    "        combined_members = self.members + group.members\n",
    "        new_group = Group('Any Name', combined_members)\n",
    "        return new_group"
   ]
  },
  {
   "cell_type": "markdown",
   "id": "1e8088e4",
   "metadata": {},
   "source": [
    "###### Properties"
   ]
  },
  {
   "cell_type": "code",
   "execution_count": 2,
   "id": "08cb9507",
   "metadata": {},
   "outputs": [
    {
     "name": "stdout",
     "output_type": "stream",
     "text": [
      "Capitalized name: Tim\n",
      "Capitalized name: Timothy\n"
     ]
    },
    {
     "ename": "Exception",
     "evalue": "Name must be a string!",
     "output_type": "error",
     "traceback": [
      "\u001b[1;31m---------------------------------------------------------------------------\u001b[0m",
      "\u001b[1;31mException\u001b[0m                                 Traceback (most recent call last)",
      "Input \u001b[1;32mIn [2]\u001b[0m, in \u001b[0;36m<cell line: 26>\u001b[1;34m()\u001b[0m\n\u001b[0;32m     23\u001b[0m tim\u001b[38;5;241m.\u001b[39mname \u001b[38;5;241m=\u001b[39m \u001b[38;5;124m\"\u001b[39m\u001b[38;5;124mtimothy\u001b[39m\u001b[38;5;124m\"\u001b[39m\n\u001b[0;32m     24\u001b[0m \u001b[38;5;28mprint\u001b[39m(\u001b[38;5;124m\"\u001b[39m\u001b[38;5;124mCapitalized name:\u001b[39m\u001b[38;5;124m\"\u001b[39m, tim\u001b[38;5;241m.\u001b[39mname)\n\u001b[1;32m---> 26\u001b[0m tim\u001b[38;5;241m.\u001b[39mname \u001b[38;5;241m=\u001b[39m \u001b[38;5;241m13\u001b[39m\n",
      "Input \u001b[1;32mIn [2]\u001b[0m, in \u001b[0;36mInstructor.name\u001b[1;34m(self, value)\u001b[0m\n\u001b[0;32m      9\u001b[0m \u001b[38;5;129m@name\u001b[39m\u001b[38;5;241m.\u001b[39msetter\n\u001b[0;32m     10\u001b[0m \u001b[38;5;28;01mdef\u001b[39;00m \u001b[38;5;21mname\u001b[39m(\u001b[38;5;28mself\u001b[39m, value):\n\u001b[0;32m     11\u001b[0m     \u001b[38;5;28;01mif\u001b[39;00m \u001b[38;5;28mtype\u001b[39m(value) \u001b[38;5;241m!=\u001b[39m \u001b[38;5;28mstr\u001b[39m:\n\u001b[1;32m---> 12\u001b[0m         \u001b[38;5;28;01mraise\u001b[39;00m \u001b[38;5;167;01mException\u001b[39;00m(\u001b[38;5;124m\"\u001b[39m\u001b[38;5;124mName must be a string!\u001b[39m\u001b[38;5;124m\"\u001b[39m)\n\u001b[0;32m     14\u001b[0m     \u001b[38;5;28;01mif\u001b[39;00m \u001b[38;5;28mlen\u001b[39m(value) \u001b[38;5;241m==\u001b[39m \u001b[38;5;241m0\u001b[39m:\n\u001b[0;32m     15\u001b[0m         \u001b[38;5;28;01mraise\u001b[39;00m \u001b[38;5;167;01mException\u001b[39;00m(\u001b[38;5;124m\"\u001b[39m\u001b[38;5;124mName cannot be empty!\u001b[39m\u001b[38;5;124m\"\u001b[39m)\n",
      "\u001b[1;31mException\u001b[0m: Name must be a string!"
     ]
    }
   ],
   "source": [
    "class Instructor:\n",
    "    def __init__(self, name):\n",
    "        self.name = name\n",
    "    \n",
    "    @property\n",
    "    def name(self):\n",
    "        return self._name.capitalize()\n",
    "\n",
    "    @name.setter\n",
    "    def name(self, value):\n",
    "        if type(value) != str:\n",
    "            raise Exception(\"Name must be a string!\")\n",
    "\n",
    "        if len(value) == 0:\n",
    "            raise Exception(\"Name cannot be empty!\")\n",
    "\n",
    "        self._name = value\n",
    "\n",
    "\n",
    "tim = Instructor(\"tim\")\n",
    "print(\"Capitalized name:\", tim.name)\n",
    "\n",
    "tim.name = \"timothy\"\n",
    "print(\"Capitalized name:\", tim.name)\n",
    "\n",
    "tim.name = 13  # this should raise an exception!\n"
   ]
  },
  {
   "cell_type": "code",
   "execution_count": null,
   "id": "45c7cf09",
   "metadata": {},
   "outputs": [],
   "source": [
    "# Welcome to our Python playground!\n",
    "\n",
    "\n",
    "class Person:\n",
    "    def __init__(self, name):\n",
    "        self.name = name\n",
    "        # Declare private attribute\n",
    "        self._salary = 0\n",
    "\n",
    "    @property  # getter part\n",
    "    def salary(self):\n",
    "        return round(self._salary)\n",
    "    @salary.setter # setter part\n",
    "    def salary(self, salary):\n",
    "        if salary < 0:\n",
    "            raise ValueError(\"Hey, this is invalid!\")\n",
    "        self.salary = salary\n",
    "\n",
    "    \n",
    "p = Person(\"Tim\")\n",
    "p.salary = 101.111\n",
    "print(p.salary)"
   ]
  },
  {
   "cell_type": "code",
   "execution_count": null,
   "id": "123be8a4",
   "metadata": {},
   "outputs": [],
   "source": [
    "# Welcome to our Python playground!\n",
    "class Time:\n",
    "    def __init__(self, second):\n",
    "        self._second = second\n",
    "\n",
    "    @property\n",
    "    def second(self):\n",
    "        return self._second\n",
    "\n",
    "    @second.setter\n",
    "    def second(self, second):\n",
    "        if second < 0 or second > 60:\n",
    "            raise ValueError(\"Invalid!\")\n",
    "        self._second = second\n",
    "t = Time(45)\n",
    "t.second = 50\n",
    "print(t.second)"
   ]
  },
  {
   "cell_type": "code",
   "execution_count": 1,
   "id": "80c62e93",
   "metadata": {},
   "outputs": [],
   "source": [
    "# Copyright © 2022 AlgoExpert LLC. All rights reserved.\n",
    "\n",
    "class BankAccount:\n",
    "    def __init__(self, account_holder_name):\n",
    "        self.account_holder_name = account_holder_name\n",
    "        self._balance = 0.0\n",
    "\n",
    "    @property\n",
    "    def balance(self):\n",
    "        return round(self._balance)\n",
    "\n",
    "    @balance.setter\n",
    "    def balance(self, balance):\n",
    "        if type(balance) not in [int, float]:\n",
    "            return\n",
    "\n",
    "        if balance < 0 or balance > 100000:\n",
    "            return\n",
    "\n",
    "        self._balance = balance"
   ]
  },
  {
   "cell_type": "markdown",
   "id": "373591ea",
   "metadata": {},
   "source": [
    "###### Classes Methods "
   ]
  },
  {
   "cell_type": "code",
   "execution_count": null,
   "id": "3354c22b",
   "metadata": {},
   "outputs": [],
   "source": []
  },
  {
   "cell_type": "code",
   "execution_count": null,
   "id": "c6de51b6",
   "metadata": {},
   "outputs": [],
   "source": []
  },
  {
   "cell_type": "markdown",
   "id": "979c5577",
   "metadata": {},
   "source": [
    "###### Constructors"
   ]
  },
  {
   "cell_type": "code",
   "execution_count": 6,
   "id": "73f23974",
   "metadata": {},
   "outputs": [
    {
     "name": "stdout",
     "output_type": "stream",
     "text": [
      "New circle with diameter: 36\n"
     ]
    }
   ],
   "source": [
    "class Circle:\n",
    "  pi = 3.14\n",
    "  \n",
    "  # Add constructor here:\n",
    "  def __init__(self, diameter):\n",
    "    print(\"New circle with diameter: {diameter}\".format(diameter = diameter))\n",
    "\n",
    "circle = Circle(36)"
   ]
  },
  {
   "cell_type": "code",
   "execution_count": 8,
   "id": "4351f4e2",
   "metadata": {},
   "outputs": [
    {
     "name": "stdout",
     "output_type": "stream",
     "text": [
      "Enter an integer: qwq\n"
     ]
    },
    {
     "ename": "ValueError",
     "evalue": "invalid literal for int() with base 10: 'qwq'",
     "output_type": "error",
     "traceback": [
      "\u001b[1;31m---------------------------------------------------------------------------\u001b[0m",
      "\u001b[1;31mValueError\u001b[0m                                Traceback (most recent call last)",
      "Input \u001b[1;32mIn [8]\u001b[0m, in \u001b[0;36m<cell line: 1>\u001b[1;34m()\u001b[0m\n\u001b[1;32m----> 1\u001b[0m num \u001b[38;5;241m=\u001b[39m \u001b[38;5;28;43mint\u001b[39;49m\u001b[43m(\u001b[49m\u001b[38;5;28;43minput\u001b[39;49m\u001b[43m(\u001b[49m\u001b[38;5;124;43m\"\u001b[39;49m\u001b[38;5;124;43mEnter an integer: \u001b[39;49m\u001b[38;5;124;43m\"\u001b[39;49m\u001b[43m)\u001b[49m\u001b[43m)\u001b[49m\n\u001b[0;32m      2\u001b[0m \u001b[38;5;28;01mif\u001b[39;00m num\u001b[38;5;241m.\u001b[39misdigit():\n\u001b[0;32m      3\u001b[0m     name \u001b[38;5;241m=\u001b[39m \u001b[38;5;28minput\u001b[39m(\u001b[38;5;124m\"\u001b[39m\u001b[38;5;124mWhat is your name? \u001b[39m\u001b[38;5;124m\"\u001b[39m)\n",
      "\u001b[1;31mValueError\u001b[0m: invalid literal for int() with base 10: 'qwq'"
     ]
    }
   ],
   "source": [
    "num = int(input(\"Enter an integer: \"))\n",
    "if num.isdigit():\n",
    "    name = input(\"What is your name? \")\n",
    "    print(\"Hello,\", name.upper())\n",
    "else:\n",
    "    print(\"Hello,\", num.capitalize())\n"
   ]
  },
  {
   "cell_type": "code",
   "execution_count": 6,
   "id": "ac40e669",
   "metadata": {},
   "outputs": [
    {
     "name": "stdout",
     "output_type": "stream",
     "text": [
      "afoomfoor\n"
     ]
    }
   ],
   "source": [
    "var = \"amr\"\n",
    "print(\"foo\".join(var))"
   ]
  },
  {
   "cell_type": "code",
   "execution_count": 7,
   "id": "297ea481",
   "metadata": {},
   "outputs": [
    {
     "name": "stdout",
     "output_type": "stream",
     "text": [
      "algofooxpfoort\n"
     ]
    }
   ],
   "source": [
    "var = \"algoexpert\".upper().replace(\"o\", \"i\").capitalize().lower().split(\"e\")\n",
    "\n",
    "print(\"foo\".join(var))"
   ]
  },
  {
   "cell_type": "code",
   "execution_count": null,
   "id": "ee64f1aa",
   "metadata": {},
   "outputs": [],
   "source": []
  }
 ],
 "metadata": {
  "kernelspec": {
   "display_name": "Python 3 (ipykernel)",
   "language": "python",
   "name": "python3"
  },
  "language_info": {
   "codemirror_mode": {
    "name": "ipython",
    "version": 3
   },
   "file_extension": ".py",
   "mimetype": "text/x-python",
   "name": "python",
   "nbconvert_exporter": "python",
   "pygments_lexer": "ipython3",
   "version": "3.9.12"
  }
 },
 "nbformat": 4,
 "nbformat_minor": 5
}
