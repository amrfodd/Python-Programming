{
 "cells": [
  {
   "cell_type": "code",
   "execution_count": 2,
   "id": "4d983e6d",
   "metadata": {},
   "outputs": [
    {
     "name": "stdout",
     "output_type": "stream",
     "text": [
      "Maisy\n",
      "Fluffy\n"
     ]
    },
    {
     "ename": "AttributeError",
     "evalue": "'Employee' object has no attribute '_name'",
     "output_type": "error",
     "traceback": [
      "\u001b[1;31m---------------------------------------------------------------------------\u001b[0m",
      "\u001b[1;31mAttributeError\u001b[0m                            Traceback (most recent call last)",
      "Input \u001b[1;32mIn [2]\u001b[0m, in \u001b[0;36m<cell line: 25>\u001b[1;34m()\u001b[0m\n\u001b[0;32m     22\u001b[0m \u001b[38;5;28mprint\u001b[39m(e2\u001b[38;5;241m.\u001b[39mget_name())\n\u001b[0;32m     24\u001b[0m e2\u001b[38;5;241m.\u001b[39mdel_name()\n\u001b[1;32m---> 25\u001b[0m \u001b[38;5;28mprint\u001b[39m(\u001b[43me2\u001b[49m\u001b[38;5;241;43m.\u001b[39;49m\u001b[43mget_name\u001b[49m\u001b[43m(\u001b[49m\u001b[43m)\u001b[49m)\n",
      "Input \u001b[1;32mIn [2]\u001b[0m, in \u001b[0;36mEmployee.get_name\u001b[1;34m(self)\u001b[0m\n\u001b[0;32m      8\u001b[0m \u001b[38;5;28;01mdef\u001b[39;00m \u001b[38;5;21mget_name\u001b[39m(\u001b[38;5;28mself\u001b[39m):\n\u001b[1;32m----> 9\u001b[0m   \u001b[38;5;28;01mreturn\u001b[39;00m \u001b[38;5;28;43mself\u001b[39;49m\u001b[38;5;241;43m.\u001b[39;49m\u001b[43m_name\u001b[49m\n",
      "\u001b[1;31mAttributeError\u001b[0m: 'Employee' object has no attribute '_name'"
     ]
    }
   ],
   "source": [
    "class Employee():\n",
    "  new_id = 1\n",
    "  def __init__(self, name=None):\n",
    "    self.id = Employee.new_id\n",
    "    Employee.new_id += 1\n",
    "    self._name = name\n",
    "\n",
    "  def get_name(self):\n",
    "    return self._name\n",
    "\n",
    "  def set_name(self, new_name):\n",
    "    self._name = new_name\n",
    "\n",
    "  def del_name(self):\n",
    "    del self._name\n",
    "\n",
    "e1 = Employee(\"Maisy\")\n",
    "e2 = Employee()\n",
    "print(e1.get_name())\n",
    "\n",
    "e2.set_name(\"Fluffy\")\n",
    "print(e2.get_name())\n",
    "\n",
    "e2.del_name()\n",
    "print(e2.get_name())"
   ]
  },
  {
   "cell_type": "code",
   "execution_count": null,
   "id": "fc8ea15e",
   "metadata": {},
   "outputs": [],
   "source": []
  }
 ],
 "metadata": {
  "kernelspec": {
   "display_name": "Python 3 (ipykernel)",
   "language": "python",
   "name": "python3"
  },
  "language_info": {
   "codemirror_mode": {
    "name": "ipython",
    "version": 3
   },
   "file_extension": ".py",
   "mimetype": "text/x-python",
   "name": "python",
   "nbconvert_exporter": "python",
   "pygments_lexer": "ipython3",
   "version": "3.9.12"
  }
 },
 "nbformat": 4,
 "nbformat_minor": 5
}
