{
 "cells": [
  {
   "cell_type": "code",
   "execution_count": 1,
   "id": "fee65b4a",
   "metadata": {},
   "outputs": [
    {
     "name": "stdout",
     "output_type": "stream",
     "text": [
      "35\n",
      "Run\n",
      "35\n"
     ]
    }
   ],
   "source": [
    "class Car:\n",
    "    # Class attribute >> predefined \n",
    "    number_of_cars = 23\n",
    "    wheels = 4\n",
    "    # instance method\n",
    "    def __init__(self, make, model):\n",
    "        # instance attribute\n",
    "        self.make = make\n",
    "        self.model = model\n",
    "\n",
    "    # Class methods\n",
    "    @classmethod \n",
    "    def update_number_of_cars(cls, cars):\n",
    "        cls.numbers_of_cars = cars\n",
    "        print('Run')\n",
    "\n",
    "\n",
    "\n",
    "\n",
    "\n",
    "\n",
    "\n",
    "Car.number_of_cars +=12\n",
    "print(Car.number_of_cars)\n",
    "\n",
    "\n",
    "c1 = Car('Ford', \"Edge\")\n",
    "c2 = Car(\"Mazda\", '3')\n",
    "Car.update_number_of_cars(10)\n",
    "print(c1.number_of_cars)"
   ]
  },
  {
   "cell_type": "code",
   "execution_count": null,
   "id": "133e0c6b",
   "metadata": {},
   "outputs": [],
   "source": [
    "# Welcome to our Python playground!\n",
    "class Circle:\n",
    "    ## class attribute\n",
    "    pi = 3.14\n",
    "    \n",
    "    ## class methods\n",
    "    @classmethod\n",
    "    def area(cls, radius):\n",
    "        return cls.pi * (radius ** 2)\n",
    "\n",
    "\n",
    "    @classmethod\n",
    "    def perimeter(cls, radius):\n",
    "        return 2 * cls.pi * radius\n",
    "\n",
    "    @classmethod\n",
    "    def get_Area_and_perimeter(cls, radius):\n",
    "        return cls.area(radius), cls.perimeter(radius)\n",
    "\n",
    "\n",
    "print(Circle.perimeter(4))\n",
    "print(Circle.get_Area_and_perimeter(4))"
   ]
  },
  {
   "cell_type": "code",
   "execution_count": 4,
   "id": "fc585388",
   "metadata": {},
   "outputs": [
    {
     "name": "stdout",
     "output_type": "stream",
     "text": [
      "1\n"
     ]
    }
   ],
   "source": [
    "class Person:\n",
    "  population = 0\n",
    "\n",
    "  def __init__(self, name, age):\n",
    "      self.name = name\n",
    "      self.age = age\n",
    "      self.population = 1\n",
    "      Person.population += 1\n",
    "\n",
    "p2 = Person(\"Clement\", 54)\n",
    "\n",
    "x = Person.population\n",
    "print(x)"
   ]
  },
  {
   "cell_type": "code",
   "execution_count": 5,
   "id": "352467f0",
   "metadata": {},
   "outputs": [],
   "source": [
    "class Person:\n",
    "    population = 0\n",
    "\n",
    "    def __init__(self, name, age):\n",
    "        self.name = name\n",
    "        self.age = age\n",
    "        Person.population += 1\n",
    "    \n",
    "    @classmethod \n",
    "    def reduce_population(cls, reduction): \n",
    "        cls.population -= reduction"
   ]
  },
  {
   "cell_type": "code",
   "execution_count": null,
   "id": "cc56996f",
   "metadata": {},
   "outputs": [],
   "source": [
    "\n",
    "class Employee:\n",
    "    number_of_employees = 0\n",
    "    average_age = 0\n",
    "    average_salary = 0\n",
    "\n",
    "    def __init__(self, name, age, salary):\n",
    "        self.name = name\n",
    "        self.age = age\n",
    "        self.salary = salary\n",
    "\n",
    "        total_age = Employee.average_age * Employee.number_of_employees\n",
    "        total_salary = Employee.average_salary * Employee.number_of_employees\n",
    "        Employee.average_age = (total_age + age) / (Employee.number_of_employees + 1)\n",
    "        Employee.average_salary = (total_salary + salary) / (Employee.number_of_employees + 1)\n",
    "        Employee.number_of_employees += 1\n"
   ]
  },
  {
   "cell_type": "code",
   "execution_count": null,
   "id": "a2aa6895",
   "metadata": {},
   "outputs": [],
   "source": [
    "# Copyright © 2022 AlgoExpert LLC. All rights reserved.\n",
    "\n",
    "class Temperature:\n",
    "    min_temperature = 0\n",
    "    max_temperature = 1000\n",
    "\n",
    "    def __init__(self, kelvin):\n",
    "        if kelvin > self.max_temperature or kelvin < self.min_temperature:\n",
    "            raise Exception(\"Invalid temperature.\")\n",
    "\n",
    "        self.kelvin = kelvin\n",
    "\n",
    "    @classmethod\n",
    "    def update_min_temperature(cls, kelvin):\n",
    "        if kelvin > cls.max_temperature:\n",
    "            raise Exception(\"Invalid temperature.\")\n",
    "\n",
    "        cls.min_temperature = kelvin\n",
    "\n",
    "    @classmethod\n",
    "    def update_max_temperature(cls, kelvin):\n",
    "        if kelvin < cls.min_temperature:\n",
    "            raise Exception(\"Invalid temperature.\")\n",
    "\n",
    "        cls.max_temperature = kelvin"
   ]
  }
 ],
 "metadata": {
  "kernelspec": {
   "display_name": "Python 3 (ipykernel)",
   "language": "python",
   "name": "python3"
  },
  "language_info": {
   "codemirror_mode": {
    "name": "ipython",
    "version": 3
   },
   "file_extension": ".py",
   "mimetype": "text/x-python",
   "name": "python",
   "nbconvert_exporter": "python",
   "pygments_lexer": "ipython3",
   "version": "3.9.12"
  }
 },
 "nbformat": 4,
 "nbformat_minor": 5
}
