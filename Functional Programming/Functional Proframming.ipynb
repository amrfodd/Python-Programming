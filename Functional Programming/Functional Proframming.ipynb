{
 "cells": [
  {
   "cell_type": "code",
   "execution_count": null,
   "id": "13c81257",
   "metadata": {},
   "outputs": [],
   "source": [
    "# Imperative Programming <OOP>\n",
    "lst = [8, 4, 14, 9, 12, 5, 7, 1, 10, 2, 3]\n",
    " \n",
    "# Sort using Selection Sort algorithm\n",
    "for i in range(len(lst)):\n",
    "  min_idx = i\n",
    "  for j in range(i+1, len(lst)):\n",
    "    min_idx = j if lst[j] < lst[min_idx] else min_idx\n",
    "  temp = lst[i]\n",
    "  lst[i] = lst[min_idx]\n",
    "  lst[min_idx] = temp\n",
    "\n",
    "# Decalative Programming <FP>\n",
    "\n",
    "lst = [8, 4, 14, 9, 12, 5, 7, 1, 10, 2, 3]\n",
    " \n",
    "list.sort(lst)"
   ]
  },
  {
   "cell_type": "code",
   "execution_count": null,
   "id": "b2746cf1",
   "metadata": {},
   "outputs": [],
   "source": []
  },
  {
   "cell_type": "code",
   "execution_count": null,
   "id": "313c3350",
   "metadata": {},
   "outputs": [],
   "source": [
    "# deterministic Function with side effect>>> affecting ans\n",
    "\n",
    "ans = 0\n",
    " \n",
    "def add(x, y): # This function has side effects\n",
    "  ans = x + y\n",
    "\n",
    "\n",
    "# Pure Function >> Mo side effect\n",
    "\n",
    "ans = 0\n",
    "def add(x, y): # This function has no side effects\n",
    "  return x + y\n",
    " \n",
    "ans = add(x, y)"
   ]
  },
  {
   "cell_type": "code",
   "execution_count": null,
   "id": "9ba20c8e",
   "metadata": {},
   "outputs": [],
   "source": [
    "# Function dependent on external variable and not reusable\n",
    "lst = [1,2,3,4,5]\n",
    " \n",
    "def app():\n",
    "  ret = list(lst)\n",
    "  ret[0] = 0\n",
    "  ret[-1] = 0\n",
    "  return ret\n",
    " \n",
    "zero_list = app()\n",
    "\n",
    "## The app(l) function is free of side effects and is now also reusable.\n",
    "\n",
    "lst = [1,2,3,4,5]\n",
    " \n",
    "def app(l):\n",
    "  ret = list(l)\n",
    "  ret[0] = 0\n",
    "  ret[-1] = 0\n",
    "  return ret\n",
    " \n",
    "zero_list = app(lst)\n"
   ]
  },
  {
   "cell_type": "code",
   "execution_count": null,
   "id": "b0f68e2a",
   "metadata": {},
   "outputs": [],
   "source": [
    "# Passing function as an argument to another function\n",
    "def add(x, y):\n",
    "  return x + y\n",
    " \n",
    "def sub(x, y):\n",
    "  return x - y\n",
    " \n",
    "def times3(a, b, function):\n",
    "  return 3 * function(a, b)\n",
    " \n",
    "add_then_times3 = times3(2, 4, add) # 18\n",
    "sub_then_times3 = times3(2, 4, sub) # -6\n",
    "\n",
    "\n",
    "# Using Lambda\n",
    "\n",
    "def times3(a, b, function):\n",
    "  return 3 * function(a, b)\n",
    " \n",
    "add_then_times3 = times3(2, 4, lambda x, y: x + y) # 18\n",
    "sub_then_times3 = times3(2, 4, lambda x, y: x - y) # -6"
   ]
  },
  {
   "cell_type": "markdown",
   "id": "643aac86",
   "metadata": {},
   "source": [
    "#### Properties"
   ]
  },
  {
   "cell_type": "markdown",
   "id": "ec070d77",
   "metadata": {},
   "source": [
    "###### 1)Immutable Data types\n"
   ]
  },
  {
   "cell_type": "code",
   "execution_count": null,
   "id": "8b7a1f4b",
   "metadata": {},
   "outputs": [],
   "source": [
    "student  = ((\"Scott\", 28, 'A'), (\"Nicole\", 26, 'B'), (\"John\", 29, 'D')) # mixed elements "
   ]
  },
  {
   "cell_type": "code",
   "execution_count": 4,
   "id": "61eb456c",
   "metadata": {},
   "outputs": [],
   "source": [
    "from collections import namedtuple\n",
    " \n",
    "# Create a class called student\n",
    "student = namedtuple(\"student\", [\"name\", \"age\", \"grade\"]) \n",
    " \n",
    "# Create tuples for the three students\n",
    " \n",
    "scott = student(\"Scott\", 28, 'A')\n",
    "nicole = student(\"Nicole\", 26, 'B')\n",
    "john = student(\"John\", 29, 'D')"
   ]
  },
  {
   "cell_type": "code",
   "execution_count": 5,
   "id": "8d0b577c",
   "metadata": {},
   "outputs": [
    {
     "name": "stdout",
     "output_type": "stream",
     "text": [
      "Scott\n",
      "28\n",
      "A\n"
     ]
    }
   ],
   "source": [
    "# Access Scott’s information for example\n",
    "print(scott.name) # Output: Scott\n",
    "print(scott.age) # Output: 28\n",
    "print(scott.grade) # Output: ‘A’"
   ]
  },
  {
   "cell_type": "code",
   "execution_count": 6,
   "id": "ad39f30e",
   "metadata": {},
   "outputs": [
    {
     "ename": "AttributeError",
     "evalue": "'tuple' object has no attribute 'france'",
     "output_type": "error",
     "traceback": [
      "\u001b[1;31m---------------------------------------------------------------------------\u001b[0m",
      "\u001b[1;31mAttributeError\u001b[0m                            Traceback (most recent call last)",
      "Input \u001b[1;32mIn [6]\u001b[0m, in \u001b[0;36m<cell line: 14>\u001b[1;34m()\u001b[0m\n\u001b[0;32m     10\u001b[0m \u001b[38;5;66;03m# Checkpoint 3 code goes here.\u001b[39;00m\n\u001b[0;32m     12\u001b[0m countries \u001b[38;5;241m=\u001b[39m (france, japan, senegal)\n\u001b[1;32m---> 14\u001b[0m \u001b[43mcountries\u001b[49m\u001b[38;5;241;43m.\u001b[39;49m\u001b[43mfrance\u001b[49m\u001b[38;5;241m.\u001b[39mname\n",
      "\u001b[1;31mAttributeError\u001b[0m: 'tuple' object has no attribute 'france'"
     ]
    }
   ],
   "source": [
    "from collections import namedtuple\n",
    "\n",
    "# Checkpoint 1 code goes here.\n",
    "country = namedtuple(\"country\", ['name', 'capital', 'continent'])\n",
    "# Checkpoint 2 code goes here.\n",
    "\n",
    "france = country('France', 'Paris', 'Europe')\n",
    "japan = country('Japan', 'Tokyo', 'Asia')\n",
    "senegal = country('Senegal', 'Dakar', 'Africa')\n",
    "# Checkpoint 3 code goes here.\n",
    "\n",
    "countries = (france, japan, senegal)\n",
    "\n",
    "countries.france.name"
   ]
  },
  {
   "cell_type": "code",
   "execution_count": null,
   "id": "306ee5cb",
   "metadata": {},
   "outputs": [],
   "source": []
  },
  {
   "cell_type": "code",
   "execution_count": null,
   "id": "1b6f686d",
   "metadata": {},
   "outputs": [],
   "source": []
  },
  {
   "cell_type": "markdown",
   "id": "8994004d",
   "metadata": {},
   "source": [
    "###### 2) Lmabda Function"
   ]
  },
  {
   "cell_type": "code",
   "execution_count": 7,
   "id": "26ceec0e",
   "metadata": {},
   "outputs": [
    {
     "name": "stdout",
     "output_type": "stream",
     "text": [
      "75\n",
      "84.0\n"
     ]
    }
   ],
   "source": [
    "def rect(b, h):\n",
    "  return b * h\n",
    " \n",
    "def tri(b, h):\n",
    "  return 0.5 * (b * h)\n",
    " \n",
    "# ppsm: price per square meter\n",
    "# dim: dimensions tuple\n",
    "def total_cost(ppsm, dim, area):\n",
    "  return ppsm * area(dim[0], dim[1])\n",
    " \n",
    "print(total_cost(3, (5, 5), rect)) # Rectangular sheet costing 75 units\n",
    "print(total_cost(4, (6, 7), tri)) # Rectangular sheet costing 84 units"
   ]
  },
  {
   "cell_type": "code",
   "execution_count": 9,
   "id": "d8da0cde",
   "metadata": {},
   "outputs": [
    {
     "name": "stdout",
     "output_type": "stream",
     "text": [
      "75\n",
      "84.0\n"
     ]
    }
   ],
   "source": [
    "# ppsm: price per square meter\n",
    "# dim: dimensions tuple\n",
    "def total_cost(ppsm, dim, area):\n",
    "  return ppsm * area(dim[0], dim[1])\n",
    " \n",
    "print(total_cost(3, (5, 5), lambda b, h: b*h)) # Rectangular sheet costing 75 units\n",
    "print(total_cost(4, (6, 7), lambda b, h: 0.5 * b*h)) # Rectangular sheet costing 84 units"
   ]
  },
  {
   "cell_type": "code",
   "execution_count": 10,
   "id": "4cbc6aac",
   "metadata": {},
   "outputs": [
    {
     "name": "stdout",
     "output_type": "stream",
     "text": [
      "25\n"
     ]
    }
   ],
   "source": [
    "\"\"\" \n",
    "def squared(x):\n",
    "  return x * x\n",
    "\n",
    "def cubed(x):\n",
    "  return x*x*x\n",
    "\"\"\"\n",
    "def odd_or_even(n, even_function, odd_function):\n",
    "  if n % 2 == 0:\n",
    "    return even_function(n)\n",
    "  else: \n",
    "    return odd_function(n) \n",
    "\n",
    "square = lambda x: x*x\n",
    "cube = lambda x: x*x*x\n",
    "\n",
    "test  = odd_or_even(5, cube, square)\n",
    "\n",
    "print(test) # Uncomment the print function to see the results of Checkpoint 3."
   ]
  },
  {
   "cell_type": "code",
   "execution_count": null,
   "id": "a4b03d92",
   "metadata": {},
   "outputs": [],
   "source": []
  },
  {
   "cell_type": "markdown",
   "id": "4796239a",
   "metadata": {},
   "source": [
    "###### 3) Review of filter(), map(), and reduce()"
   ]
  },
  {
   "cell_type": "code",
   "execution_count": 11,
   "id": "284a5557",
   "metadata": {},
   "outputs": [
    {
     "name": "stdout",
     "output_type": "stream",
     "text": [
      "[2, 4, 6, 8, 10]\n"
     ]
    }
   ],
   "source": [
    "nums = (1, 2, 3, 4, 5, 6, 7, 8, 9, 10)\n",
    " \n",
    "# filter_values is not a higher-order function\n",
    "def filter_values(predicate, lst):\n",
    " \n",
    "  # Mutable list required because this example is imperative, not declarative\n",
    "  ret = []\n",
    "  for i in lst:\n",
    "    if predicate(i):\n",
    "      ret.append(i)\n",
    "  return ret\n",
    " \n",
    "filtered_numbers = filter_values(lambda x: x % 2 == 0, nums) \n",
    " \n",
    "print(filtered_numbers) \n",
    " \n",
    "# This will output the list: [2, 4, 6, 8, 10]"
   ]
  },
  {
   "cell_type": "code",
   "execution_count": 12,
   "id": "8cd90f59",
   "metadata": {},
   "outputs": [
    {
     "name": "stdout",
     "output_type": "stream",
     "text": [
      "(2, 4, 6, 8, 10)\n"
     ]
    }
   ],
   "source": [
    "nums = (1, 2, 3, 4, 5, 6, 7, 8, 9, 10)\n",
    " \n",
    "filtered_numbers = filter(lambda x: x % 2 == 0, nums) \n",
    " \n",
    "print(tuple(filtered_numbers))"
   ]
  },
  {
   "cell_type": "code",
   "execution_count": null,
   "id": "78e47d54",
   "metadata": {},
   "outputs": [],
   "source": [
    "nums = (1, 2, 3, 4, 5, 6, 7, 8, 9, 10)\n",
    " \n",
    "def mapper(function, lst):\n",
    "  ret = []\n",
    "  for i in lst:\n",
    "    ret.append(function(i))\n",
    "  return ret\n",
    " \n",
    "mapped_numbers  = mapper(lambda x: x*x, nums)\n",
    " \n",
    "print(tuple(mapped_numbers))\n",
    " \n",
    "# This will output: (1, 4, 9, 16, 25, 36, 49, 64, 81, 100)\n",
    "# With map()\n",
    "numbers = (1, 2, 3, 4, 5, 6, 7, 8, 9, 10)\n",
    " \n",
    "mapped_numbers = map(lambda x: x*x, numbers) \n",
    " \n",
    "print(tuple(mapped_numbers))\n",
    " \n",
    "# This will also output: (1, 4, 9, 16, 25, 36, 49, 64, 81, 100)"
   ]
  },
  {
   "cell_type": "code",
   "execution_count": 13,
   "id": "c516fb6e",
   "metadata": {},
   "outputs": [
    {
     "name": "stdout",
     "output_type": "stream",
     "text": [
      "37\n",
      "37\n"
     ]
    }
   ],
   "source": [
    "nums = (2, 6, 7, 9, 1, 4, 8)\n",
    " \n",
    "sum = 0\n",
    " \n",
    "for i in nums:\n",
    "  sum += i\n",
    " \n",
    "print(sum) # Output: 37\n",
    "\n",
    "\n",
    "from functools import reduce\n",
    " \n",
    "nums = (2, 6, 7, 9, 1, 4, 8)\n",
    " \n",
    "reduced_nums = reduce(lambda x, y: x + y, nums) # reduced_nums is a number\n",
    " \n",
    "print(reduced_nums) # Output: 37"
   ]
  },
  {
   "cell_type": "code",
   "execution_count": null,
   "id": "6ca8624b",
   "metadata": {},
   "outputs": [],
   "source": [
    "from functools import reduce\n",
    "nums = (16, 2, 19, 22, 10, 23, 16, 2, 27, 29, 19, 26, 12, 20, 16, 29, 6, 2, 12, 20)\n",
    "\n",
    "filtered_numbers = filter(lambda x: x % 2 == 0, nums)\n",
    "\n",
    "print(tuple(filtered_numbers))\n",
    "\n",
    "mapped_numbers = map(lambda x: x * 3, nums)\n",
    "\n",
    "print(tuple(mapped_numbers))\n",
    "\n",
    "sum = reduce(lambda x, y: x + y, nums)\n",
    "\n",
    "print(sum)"
   ]
  },
  {
   "cell_type": "markdown",
   "id": "d6f04f83",
   "metadata": {},
   "source": [
    "###### 5) Mapping a Filtered Collection\n",
    "\n",
    "we will see how we can combine the map() and filter() functions."
   ]
  },
  {
   "cell_type": "code",
   "execution_count": 15,
   "id": "d61bd57d",
   "metadata": {},
   "outputs": [],
   "source": [
    "from collections import namedtuple\n",
    " \n",
    "# Create a class called student\n",
    "student = namedtuple(\"student\", [\"name\", \"grade\", \"course_number\"]) \n",
    "\n",
    "# Create the records for the students in the form of tuples\n",
    " \n",
    "peter = student(\"Peter\", 'B', 101)\n",
    "amanda = student(\"Amanda\", 'C', 101 )\n",
    "sarah = student(\"Sarah\", 'A', 102)\n",
    "lisa = student(\"Lisa\", 'D', 101)\n",
    "alex = student(\"Alex\", 'A', 102)\n",
    "maria = student(\"Maria\", 'B', 101)\n",
    "andrew = student(\"Andrew\", 'C', 102)\n",
    " \n",
    "math_class = (peter, amanda, sarah, lisa, alex, maria, andrew)"
   ]
  },
  {
   "cell_type": "code",
   "execution_count": 16,
   "id": "6f7f9170",
   "metadata": {},
   "outputs": [
    {
     "name": "stdout",
     "output_type": "stream",
     "text": [
      "(student(name='Peter', grade='X', course_number=201), student(name='Sarah', grade='X', course_number=201), student(name='Alex', grade='X', course_number=201), student(name='Maria', grade='X', course_number=201))\n"
     ]
    }
   ],
   "source": [
    "math_201 = map(lambda s: student(s.name, 'X', 201), filter(lambda q: q.grade <= 'B', math_class))\n",
    " \n",
    "print(tuple(math_201))"
   ]
  },
  {
   "cell_type": "code",
   "execution_count": null,
   "id": "a66e8301",
   "metadata": {},
   "outputs": [],
   "source": [
    "# Given the tuple nums multiply values that are greater than 10 by two. \n",
    "nums = (2, 12, 5, 8, 9, 3, 16, 7, 13, 19, 21, 1, 15, 4, 22, 20, 11)\n",
    "\n",
    "# Checkpoint 1 code goes here.\n",
    "greater_than_10_doubled = map(lambda x: x*2, filter(lambda y: y > 10, nums))\n",
    "\n",
    "print(tuple(greater_than_10_doubled))"
   ]
  },
  {
   "cell_type": "code",
   "execution_count": null,
   "id": "bab6722b",
   "metadata": {},
   "outputs": [],
   "source": [
    "# convert to declaritive \n",
    "lst = []\n",
    "for i in nums:\n",
    "  if i % 3 == 0:\n",
    "    lst.append(i)\n",
    " \n",
    "for i in range(len(lst)):\n",
    "  lst[i] = lst[i] * 3\n",
    " \n",
    "tuple(lst)\n",
    "\n",
    "# Checkpoint 2 code goes here.\n",
    "functional_way = map(lambda x: x * 3, filter(lambda y: y % 3 == 0, nums))\n",
    "\n",
    "print(tuple(functional_way))"
   ]
  },
  {
   "cell_type": "markdown",
   "id": "ee57fc66",
   "metadata": {},
   "source": [
    "###### 6) Reducing a Filtered Collection\n"
   ]
  },
  {
   "cell_type": "code",
   "execution_count": 17,
   "id": "ed57be10",
   "metadata": {},
   "outputs": [],
   "source": [
    "# “filter the menu for appetizers and return the least expensive one.”\n",
    "\n",
    "from collections import namedtuple\n",
    "from functools import reduce\n",
    " \n",
    "# Prices are in USD\n",
    "menu_item = namedtuple(\"menu_item\", [\"name\", \"dish_type\", \"price\"])\n",
    " \n",
    "jsp = menu_item(\"Jumbo Shrimp Platter\", \"Appetizer\", 29.95)\n",
    "lc = menu_item(\"Lobster Cake\", \"Appetizer\", 30.95)\n",
    "scb = menu_item(\"Sizzling Canadian Bacon\", \"Appetizer\", 9.95)\n",
    "ccc = menu_item(\"Codecademy Crab Cake\", \"Appetizer\", 32.95)\n",
    "cs = menu_item(\"Caeser Salad\", \"Salad\", 14.95)\n",
    "mgs = menu_item(\"Mixed Green Salad\", \"Salad\", 11.95)\n",
    "cp = menu_item(\"Codecademy Potatoes\", \"Side\", 34.95)\n",
    "mp = menu_item(\"Mashed Potatoes\", \"Side\", 14.95)\n",
    "rs = menu_item(\"Ribeye Steak\", \"Entree\", 75.95)\n",
    "phs = menu_item(\"Porter House Steak\", \"Entree\", 131.95)\n",
    " \n",
    "menu = (jsp, lc, scb, ccc, cs, mgs, cp, mp, rs, phs)"
   ]
  },
  {
   "cell_type": "code",
   "execution_count": 21,
   "id": "61f4f4ff",
   "metadata": {},
   "outputs": [
    {
     "name": "stdout",
     "output_type": "stream",
     "text": [
      "menu_item(name='Sizzling Canadian Bacon', dish_type='Appetizer', price=9.95)\n"
     ]
    }
   ],
   "source": [
    "# apps only contains items with dish_type == \"Appetizer\"\n",
    "apps = [i for i in menu if i.dish_type == \"Appetizer\"] \n",
    "cheapest_app = apps[0] \n",
    "for i in apps:\n",
    "    if i.price < cheapest_app.price:\n",
    "        cheapest_app = i\n",
    " \n",
    "print(cheapest_app) # Output will be: menu_item(\"Sizzling Canadian Bacon\", \"Appetizer\", 9.95)"
   ]
  },
  {
   "cell_type": "code",
   "execution_count": 19,
   "id": "a1b0e99d",
   "metadata": {},
   "outputs": [
    {
     "name": "stdout",
     "output_type": "stream",
     "text": [
      "menu_item(name='Porter House Steak', dish_type='Entree', price=131.95)\n"
     ]
    }
   ],
   "source": [
    "# find the most expensive dish that is an entree\n",
    "\n",
    "entree = reduce(lambda x, y: x if x.price > y.price else y, filter(lambda x: x.dish_type == \"Entree\", menu))\n",
    "\n",
    "print(entree)"
   ]
  },
  {
   "cell_type": "code",
   "execution_count": 20,
   "id": "94ef5da2",
   "metadata": {},
   "outputs": [
    {
     "name": "stdout",
     "output_type": "stream",
     "text": [
      "menu_item(name='Mixed Green Salad', dish_type='Salad', price=11.95)\n"
     ]
    }
   ],
   "source": [
    "# find the least expensive dish that is either a side or a salad\n",
    "least_expensive= reduce(lambda x, y: x if x.price < y.price else y, filter(lambda x: x.dish_type == \"Side\" or x.dish_type == \"Salad\", menu))\n",
    "\n",
    "print(least_expensive)"
   ]
  },
  {
   "cell_type": "markdown",
   "id": "73554c03",
   "metadata": {},
   "source": [
    "###### 7) Reducing a Mapped Collection\n"
   ]
  },
  {
   "cell_type": "code",
   "execution_count": 22,
   "id": "4b38f11a",
   "metadata": {},
   "outputs": [
    {
     "name": "stdout",
     "output_type": "stream",
     "text": [
      "537.0\n"
     ]
    }
   ],
   "source": [
    "from functools import reduce\n",
    " \n",
    "# Dictionary entry: {\"name: (number_or_units_sold, price_per_unit_GBP)}\n",
    "costs = {\"shirt\": (4, 13.00), \"shoes\":(2, 80.00), \"pants\":(3, 100.00), \"socks\":(5, 5.00)}\n",
    " \n",
    "k = reduce(lambda x, y: x+y, map(lambda q: costs[q][0] * costs[q][1], costs))\n",
    "print(k) # Output will be a total cost of: 537.0 GBP"
   ]
  },
  {
   "cell_type": "code",
   "execution_count": 23,
   "id": "3d4e0564",
   "metadata": {},
   "outputs": [
    {
     "name": "stdout",
     "output_type": "stream",
     "text": [
      "72\n"
     ]
    }
   ],
   "source": [
    "# find the total number of fruits sold\n",
    "\n",
    "from functools import reduce\n",
    "\n",
    "fruits = {\"Grape\":(4, 6, 2), \"Lemon\":(7, 3, 1), \"Orange\":(5, 8, 1), \"Apple\":(2, 8, 10), \"Watermelon\":(0, 9, 6)}\n",
    "\n",
    "total_fruits = 0\n",
    "\n",
    "total_fruits = total_fruits = reduce(lambda x, y: x + y, map(lambda q: fruits[q][0] + fruits[q][1] + fruits[q][2] , fruits));\n",
    "\n",
    "print(total_fruits)"
   ]
  },
  {
   "cell_type": "code",
   "execution_count": null,
   "id": "9f73d1d8",
   "metadata": {},
   "outputs": [],
   "source": []
  },
  {
   "cell_type": "code",
   "execution_count": null,
   "id": "e14eef2e",
   "metadata": {},
   "outputs": [],
   "source": []
  },
  {
   "cell_type": "markdown",
   "id": "1f655175",
   "metadata": {},
   "source": [
    "###### 8) Combining all Three Higher-Order Functions\n",
    "First “map” the items their individual total cost ((number of units sold) * (price per unit)).\n",
    "Then eliminate (“filter” out) all items that cost more than £150.\n",
    "Then “reduce” the individual costs to a single number that represents the total cost of the items."
   ]
  },
  {
   "cell_type": "code",
   "execution_count": 24,
   "id": "e9f52fa9",
   "metadata": {},
   "outputs": [
    {
     "name": "stdout",
     "output_type": "stream",
     "text": [
      "264.0\n"
     ]
    }
   ],
   "source": [
    "from functools import reduce\n",
    " \n",
    "# Dictionary entry: {\"name: (number_or_units_sold, price_per_unit_GBP)}\n",
    " \n",
    "costs = {\"shirt\": (4, 13.00), \"shoes\":(2, 80.00), \"pants\":(3, 100.00), \"socks\":(5, 5.00), \"ties\":(3, 14.00), \"watch\":(1, 145.00)}\n",
    " \n",
    "k = reduce(lambda x, y: x + y, filter(lambda r: r <= 150.00, map(lambda q: costs[q][0] * costs[q][1], costs)))\n",
    " \n",
    "print(k) # Output will be a total cost of: 264.0 GBP`"
   ]
  },
  {
   "cell_type": "code",
   "execution_count": 26,
   "id": "33ed0fa2",
   "metadata": {},
   "outputs": [
    {
     "name": "stdout",
     "output_type": "stream",
     "text": [
      "460.0\n"
     ]
    }
   ],
   "source": [
    "from functools import reduce\n",
    "\n",
    "costs = {\"shirt\": (4, 13.00), \"shoes\":(2, 80.00), \"pants\":(3, 100.00), \"socks\":(5, 5.00), \"ties\":(3, 14.00), \"watch\":(1, 145.00)}\n",
    "\n",
    "# find the total cost of items that cost more than £150.\n",
    "total = reduce(lambda x, y: x+y, filter(lambda r: r > 150.00, map(lambda q: costs[q][0] * costs[q][1], costs)))\n",
    "\n",
    "print(total)"
   ]
  },
  {
   "cell_type": "code",
   "execution_count": 27,
   "id": "3336cffe",
   "metadata": {},
   "outputs": [
    {
     "name": "stdout",
     "output_type": "stream",
     "text": [
      "72648576\n"
     ]
    }
   ],
   "source": [
    "# find all numbers less than 10, add five to them, and find their total product\n",
    "\n",
    "nums = (24, 6, 7, 16, 8, 2, 3, 11, 21, 20, 22, 23, 19, 12, 1, 4, 17, 9, 25, 15)\n",
    "\n",
    "product = reduce(lambda x, y: x * y, map(lambda z: z + 5, filter(lambda q: q < 10, nums)))\n",
    "\n",
    "print(product)"
   ]
  },
  {
   "cell_type": "markdown",
   "id": "4937ee1a",
   "metadata": {},
   "source": [
    "###### 9) Importing Data From a CSV File\n"
   ]
  },
  {
   "cell_type": "code",
   "execution_count": 37,
   "id": "f141dd32",
   "metadata": {},
   "outputs": [
    {
     "name": "stdout",
     "output_type": "stream",
     "text": [
      "(tree(index=1, width=8.3, height=70, volume=10.3), tree(index=2, width=8.6, height=65, volume=10.3), tree(index=3, width=8.8, height=63, volume=10.2), tree(index=4, width=10.5, height=72, volume=16.4), tree(index=5, width=10.7, height=81, volume=18.8), tree(index=6, width=10.8, height=83, volume=19.7), tree(index=7, width=11.0, height=66, volume=15.6), tree(index=8, width=11.0, height=75, volume=18.2), tree(index=9, width=11.1, height=80, volume=22.6), tree(index=10, width=11.2, height=75, volume=19.9), tree(index=11, width=11.3, height=79, volume=24.2), tree(index=12, width=11.4, height=76, volume=21.0), tree(index=13, width=11.4, height=76, volume=21.4), tree(index=14, width=11.7, height=69, volume=21.3), tree(index=15, width=12.0, height=75, volume=19.1), tree(index=16, width=12.9, height=74, volume=22.2), tree(index=17, width=12.9, height=85, volume=33.8), tree(index=18, width=13.3, height=86, volume=27.4), tree(index=19, width=13.7, height=71, volume=25.7), tree(index=20, width=13.8, height=64, volume=24.9), tree(index=21, width=14.0, height=78, volume=34.5), tree(index=22, width=14.2, height=80, volume=31.7), tree(index=23, width=14.5, height=74, volume=36.3), tree(index=24, width=16.0, height=72, volume=38.3), tree(index=25, width=16.3, height=77, volume=42.6), tree(index=26, width=17.3, height=81, volume=55.4), tree(index=27, width=17.5, height=82, volume=55.7), tree(index=28, width=17.9, height=80, volume=58.3), tree(index=29, width=18.0, height=80, volume=51.5), tree(index=30, width=18.0, height=80, volume=51.0), tree(index=31, width=20.6, height=87, volume=77.0))\n"
     ]
    }
   ],
   "source": [
    "import csv\n",
    " \n",
    "# Code for Checkpoint 1 goes here.\n",
    "tree = namedtuple(\"tree\", [\"index\", \"width\", \"height\", \"volume\"])     \n",
    "    \n",
    "with open('trees.csv', newline = '') as csvfile:\n",
    "  reader = csv.reader(csvfile, delimiter=',', quotechar='|')\n",
    "  next(reader) # Skip the first line in trees.csv that contains the data lablels.\n",
    "  # Code for Checkpoint 2 goes here.\n",
    "  mapper = map(lambda x: tree(int(x[0]), float(x[1]), int(x[2]), float(x[3])), reader)\n",
    "  trees = tuple(mapper)\n",
    "  print(trees)"
   ]
  },
  {
   "cell_type": "markdown",
   "id": "e1a5a92d",
   "metadata": {},
   "source": [
    "###### 10) Processing Data From a CSV File\n"
   ]
  },
  {
   "cell_type": "code",
   "execution_count": 40,
   "id": "4414384b",
   "metadata": {},
   "outputs": [
    {
     "name": "stdout",
     "output_type": "stream",
     "text": [
      "(tree(index=5, width=10.7, height=81, volume=18.8), tree(index=6, width=10.8, height=83, volume=19.7), tree(index=9, width=11.1, height=80, volume=22.6), tree(index=11, width=11.3, height=79, volume=24.2), tree(index=12, width=11.4, height=76, volume=21.0), tree(index=13, width=11.4, height=76, volume=21.4), tree(index=17, width=12.9, height=85, volume=33.8), tree(index=18, width=13.3, height=86, volume=27.4), tree(index=21, width=14.0, height=78, volume=34.5), tree(index=22, width=14.2, height=80, volume=31.7), tree(index=25, width=16.3, height=77, volume=42.6), tree(index=26, width=17.3, height=81, volume=55.4), tree(index=27, width=17.5, height=82, volume=55.7), tree(index=28, width=17.9, height=80, volume=58.3), tree(index=29, width=18.0, height=80, volume=51.5), tree(index=30, width=18.0, height=80, volume=51.0), tree(index=31, width=20.6, height=87, volume=77.0))\n",
      "tree(index=31, width=20.6, height=87, volume=77.0)\n"
     ]
    }
   ],
   "source": [
    "import csv\n",
    "from collections import namedtuple\n",
    "from functools import reduce\n",
    "\n",
    "tree = namedtuple(\"tree\", [\"index\", \"width\", \"height\", \"volume\"]) \n",
    "\n",
    "with open('trees.csv', newline = '') as csvfile:\n",
    "  reader = csv.reader(csvfile, delimiter=',', quotechar='|')\n",
    "  next(reader)\n",
    "  mapper = map(lambda x: tree(int(x[0]), float(x[1]), int(x[2]), float(x[3])), reader)\n",
    "  \n",
    "  # Create a tuple called trees and populate it with data of trees that have a height greater than 75.\n",
    "  t = filter(lambda x: x.height > 75, mapper) \n",
    "  trees = tuple(t)\n",
    "  print(trees)\n",
    "\n",
    "  # Checkpoint 2 code goes here.\n",
    "  widest = reduce(lambda x, y: x if x.width > y.width else y, trees)\n",
    "  print(widest)"
   ]
  },
  {
   "cell_type": "markdown",
   "id": "374c7167",
   "metadata": {},
   "source": [
    "###### 11) Processing Data From a JSON File\n"
   ]
  },
  {
   "cell_type": "code",
   "execution_count": 41,
   "id": "c0937061",
   "metadata": {},
   "outputs": [],
   "source": [
    "import json\n",
    "with open('cities.json') as json_file:\n",
    "  cities = json.load(json_file)"
   ]
  },
  {
   "cell_type": "code",
   "execution_count": 45,
   "id": "0e064b3b",
   "metadata": {},
   "outputs": [],
   "source": [
    "import json\n",
    "from collections import namedtuple\n",
    " \n",
    "city = namedtuple(\"city\", [\"name\", \"country\", \"coordinates\", \"continent\"])\n",
    "\n",
    "\n",
    "with open('cities.json') as json_file:\n",
    "  data = json.load(json_file) \n",
    "\n",
    "cities = map(lambda x: city(x[\"name\"], x[\"country\"], x[\"coordinates\"], x[\"continent\"]), data[\"city\"])\n"
   ]
  },
  {
   "cell_type": "code",
   "execution_count": 46,
   "id": "69dea002",
   "metadata": {},
   "outputs": [
    {
     "name": "stdout",
     "output_type": "stream",
     "text": [
      "(city(name='Beirut', country='Lebanon', coordinates=[33.8938, 35.5018], continent='Asia'), city(name='Dubai', country='United Arab Emirates', coordinates=[25.2048, 55.2708], continent='Asia'), city(name='Mumbai', country='India', coordinates=[19.076, 72.8777], continent='Asia'), city(name='Shanghai', country='China', coordinates=[31.2304, 121.4737], continent='Asia'), city(name='Osaka', country='Japan', coordinates=[34.6937, 135.5023], continent='Asia'))\n"
     ]
    }
   ],
   "source": [
    "# Store all cities that are on the continent of Asia in the tuple called asia.\n",
    "asia = tuple(filter(lambda q: q.continent == \"Asia\", cities))\n",
    "\n",
    "print(asia)"
   ]
  },
  {
   "cell_type": "code",
   "execution_count": 48,
   "id": "77009db0",
   "metadata": {},
   "outputs": [
    {
     "name": "stdout",
     "output_type": "stream",
     "text": [
      "city(name='Beirut', country='Lebanon', coordinates=[33.8938, 35.5018], continent='Asia')\n"
     ]
    }
   ],
   "source": [
    "# Find the western-most city in the asia tuple and store it in the west variable.\n",
    "\n",
    "west = reduce(lambda x, y: x if x.coordinates[1] < y.coordinates[1] else y, asia)\n",
    "\n",
    "print(west)"
   ]
  }
 ],
 "metadata": {
  "kernelspec": {
   "display_name": "Python 3 (ipykernel)",
   "language": "python",
   "name": "python3"
  },
  "language_info": {
   "codemirror_mode": {
    "name": "ipython",
    "version": 3
   },
   "file_extension": ".py",
   "mimetype": "text/x-python",
   "name": "python",
   "nbconvert_exporter": "python",
   "pygments_lexer": "ipython3",
   "version": "3.9.12"
  }
 },
 "nbformat": 4,
 "nbformat_minor": 5
}
