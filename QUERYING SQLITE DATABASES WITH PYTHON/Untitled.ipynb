{
 "cells": [
  {
   "cell_type": "markdown",
   "id": "1308b5d1",
   "metadata": {},
   "source": [
    "###### Creating Connection and Cursor Objects\n"
   ]
  },
  {
   "cell_type": "code",
   "execution_count": 14,
   "id": "87a33719",
   "metadata": {},
   "outputs": [],
   "source": [
    "def helper():\n",
    "  import sqlite3\n",
    "  con = sqlite3.connect(\"titanic.db\")\n",
    "  curs = con.cursor()\n",
    "  curs.execute('''DROP TABLE IF EXISTS new_table''')"
   ]
  },
  {
   "cell_type": "code",
   "execution_count": 15,
   "id": "c50391d7",
   "metadata": {},
   "outputs": [
    {
     "ename": "OperationalError",
     "evalue": "database is locked",
     "output_type": "error",
     "traceback": [
      "\u001b[1;31m---------------------------------------------------------------------------\u001b[0m",
      "\u001b[1;31mOperationalError\u001b[0m                          Traceback (most recent call last)",
      "Input \u001b[1;32mIn [15]\u001b[0m, in \u001b[0;36m<cell line: 1>\u001b[1;34m()\u001b[0m\n\u001b[1;32m----> 1\u001b[0m \u001b[43mhelper\u001b[49m\u001b[43m(\u001b[49m\u001b[43m)\u001b[49m\n\u001b[0;32m      2\u001b[0m \u001b[38;5;28;01mimport\u001b[39;00m \u001b[38;5;21;01msqlite3\u001b[39;00m\n\u001b[0;32m      4\u001b[0m con \u001b[38;5;241m=\u001b[39m sqlite3\u001b[38;5;241m.\u001b[39mconnect(\u001b[38;5;124m\"\u001b[39m\u001b[38;5;124mtitanic.db\u001b[39m\u001b[38;5;124m\"\u001b[39m)\n",
      "Input \u001b[1;32mIn [14]\u001b[0m, in \u001b[0;36mhelper\u001b[1;34m()\u001b[0m\n\u001b[0;32m      3\u001b[0m con \u001b[38;5;241m=\u001b[39m sqlite3\u001b[38;5;241m.\u001b[39mconnect(\u001b[38;5;124m\"\u001b[39m\u001b[38;5;124mtitanic.db\u001b[39m\u001b[38;5;124m\"\u001b[39m)\n\u001b[0;32m      4\u001b[0m curs \u001b[38;5;241m=\u001b[39m con\u001b[38;5;241m.\u001b[39mcursor()\n\u001b[1;32m----> 5\u001b[0m \u001b[43mcurs\u001b[49m\u001b[38;5;241;43m.\u001b[39;49m\u001b[43mexecute\u001b[49m\u001b[43m(\u001b[49m\u001b[38;5;124;43m'''\u001b[39;49m\u001b[38;5;124;43mDROP TABLE IF EXISTS new_table\u001b[39;49m\u001b[38;5;124;43m'''\u001b[39;49m\u001b[43m)\u001b[49m\n",
      "\u001b[1;31mOperationalError\u001b[0m: database is locked"
     ]
    }
   ],
   "source": [
    "helper()\n",
    "import sqlite3\n",
    "\n",
    "con = sqlite3.connect(\"titanic.db\")\n",
    "curs = con.cursor()"
   ]
  },
  {
   "cell_type": "code",
   "execution_count": 16,
   "id": "8b25941d",
   "metadata": {},
   "outputs": [
    {
     "data": {
      "text/plain": [
       "<sqlite3.Cursor at 0x223855e0ab0>"
      ]
     },
     "execution_count": 16,
     "metadata": {},
     "output_type": "execute_result"
    }
   ],
   "source": [
    "# Create table named new_table\n",
    "curs.execute('''CREATE TABLE titanic (         \n",
    "                    name TEXT,\n",
    "                    age INTEGER,\n",
    "                    username TEXT,\n",
    "                    pay_rate REAL)''')\n",
    "# Insert row of values into new_table\n",
    "curs.execute('''INSERT INTO titanic VALUES ('Bob Peterson', 34, 'bob1234', 40.00)''')"
   ]
  },
  {
   "cell_type": "code",
   "execution_count": 17,
   "id": "e80ca756",
   "metadata": {},
   "outputs": [
    {
     "data": {
      "text/plain": [
       "<sqlite3.Cursor at 0x223855e0ab0>"
      ]
     },
     "execution_count": 17,
     "metadata": {},
     "output_type": "execute_result"
    }
   ],
   "source": [
    "# Here is the new_rows object\n",
    "new_rows = [('Anne Smith', 33, 'AS896', 25.00),\n",
    "            ('Billy Roberts', 29, 'bill5Rob', 30.00),\n",
    "            ('Jason Johnson', 48, 'JasonJ77', 40.00),\n",
    "            ('Tim Trunk', 51, 'Timtrunk4', 40.00),\n",
    "            ('Sarah Fall',19, 'SFall232', 25.00)\n",
    "            ]\n",
    "\n",
    "# Insert new_rows into the new_table table\n",
    "curs.executemany('''INSERT INTO titanic VALUES (?,?,?,?)''', new_rows)"
   ]
  },
  {
   "cell_type": "code",
   "execution_count": 19,
   "id": "20c515dc",
   "metadata": {},
   "outputs": [
    {
     "name": "stdout",
     "output_type": "stream",
     "text": [
      "('Bob Peterson', 34, 'bob1234', 40.0)\n",
      "[('Bob Peterson', 34, 'bob1234', 40.0), ('Anne Smith', 33, 'AS896', 25.0), ('Billy Roberts', 29, 'bill5Rob', 30.0), ('Jason Johnson', 48, 'JasonJ77', 40.0), ('Tim Trunk', 51, 'Timtrunk4', 40.0), ('Sarah Fall', 19, 'SFall232', 25.0)]\n"
     ]
    }
   ],
   "source": [
    "# Pull the first row from the titanice data table (print to view output)\n",
    "one = curs.execute(\"SELECT * FROM titanic \").fetchone()\n",
    "print(one)\n",
    "\n",
    "# Pull the first ten rows from the titanice data table (print to view output)\n",
    "ten  = curs.execute(\"SELECT * FROM titanic \").fetchmany(10)\n",
    "print(ten)"
   ]
  },
  {
   "cell_type": "code",
   "execution_count": 20,
   "id": "20497a7e",
   "metadata": {},
   "outputs": [
    {
     "name": "stdout",
     "output_type": "stream",
     "text": [
      "[('Bob Peterson', 34, 'bob1234', 40.0), ('Anne Smith', 33, 'AS896', 25.0), ('Billy Roberts', 29, 'bill5Rob', 30.0), ('Jason Johnson', 48, 'JasonJ77', 40.0), ('Tim Trunk', 51, 'Timtrunk4', 40.0), ('Sarah Fall', 19, 'SFall232', 25.0)]\n"
     ]
    }
   ],
   "source": [
    "# Pull every row from the titanice data table (print to view output)\n",
    "all_rows  = curs.execute(\"SELECT * FROM titanic\").fetchall()\n",
    "print(all_rows)"
   ]
  },
  {
   "cell_type": "code",
   "execution_count": 21,
   "id": "69bc959a",
   "metadata": {},
   "outputs": [
    {
     "ename": "OperationalError",
     "evalue": "no such column: Survived",
     "output_type": "error",
     "traceback": [
      "\u001b[1;31m---------------------------------------------------------------------------\u001b[0m",
      "\u001b[1;31mOperationalError\u001b[0m                          Traceback (most recent call last)",
      "Input \u001b[1;32mIn [21]\u001b[0m, in \u001b[0;36m<cell line: 2>\u001b[1;34m()\u001b[0m\n\u001b[0;32m      1\u001b[0m \u001b[38;5;66;03m# Pull every row from the titanice data table for those who survived (print to view output)\u001b[39;00m\n\u001b[1;32m----> 2\u001b[0m all_survived \u001b[38;5;241m=\u001b[39m \u001b[43mcurs\u001b[49m\u001b[38;5;241;43m.\u001b[39;49m\u001b[43mexecute\u001b[49m\u001b[43m(\u001b[49m\u001b[38;5;124;43m'''\u001b[39;49m\u001b[38;5;124;43mSELECT * FROM titanic WHERE Survived = 1 ;\u001b[39;49m\u001b[38;5;124;43m'''\u001b[39;49m\u001b[43m)\u001b[49m\u001b[38;5;241m.\u001b[39mfetchall()\n",
      "\u001b[1;31mOperationalError\u001b[0m: no such column: Survived"
     ]
    }
   ],
   "source": [
    "# Pull every row from the titanice data table for those who survived (print to view output)\n",
    "all_survived = curs.execute('''SELECT * FROM titanic WHERE Survived = 1 ;''').fetchall()"
   ]
  },
  {
   "cell_type": "code",
   "execution_count": 22,
   "id": "5c6b88ad",
   "metadata": {},
   "outputs": [
    {
     "ename": "OperationalError",
     "evalue": "no such table: titanic",
     "output_type": "error",
     "traceback": [
      "\u001b[1;31m---------------------------------------------------------------------------\u001b[0m",
      "\u001b[1;31mOperationalError\u001b[0m                          Traceback (most recent call last)",
      "Input \u001b[1;32mIn [22]\u001b[0m, in \u001b[0;36m<cell line: 7>\u001b[1;34m()\u001b[0m\n\u001b[0;32m      4\u001b[0m curs \u001b[38;5;241m=\u001b[39m con\u001b[38;5;241m.\u001b[39mcursor()\n\u001b[0;32m      6\u001b[0m \u001b[38;5;66;03m# Pull the Age records from the titanic table using .fetchall() method and save as age\u001b[39;00m\n\u001b[1;32m----> 7\u001b[0m age \u001b[38;5;241m=\u001b[39m \u001b[43mcurs\u001b[49m\u001b[38;5;241;43m.\u001b[39;49m\u001b[43mexecute\u001b[49m\u001b[43m(\u001b[49m\u001b[38;5;124;43m\"\u001b[39;49m\u001b[38;5;124;43mSELECT Age FROM titanic;\u001b[39;49m\u001b[38;5;124;43m\"\u001b[39;49m\u001b[43m)\u001b[49m\u001b[38;5;241m.\u001b[39mfetchall()\n\u001b[0;32m      9\u001b[0m \u001b[38;5;66;03m# Create a for loop that calculates the number of children\u001b[39;00m\n\u001b[0;32m     10\u001b[0m \u001b[38;5;28msum\u001b[39m \u001b[38;5;241m=\u001b[39m \u001b[38;5;241m0\u001b[39m\n",
      "\u001b[1;31mOperationalError\u001b[0m: no such table: titanic"
     ]
    }
   ],
   "source": [
    "import sqlite3\n",
    "\n",
    "con = sqlite3.connect(\"titanic.db\")\n",
    "curs = con.cursor()\n",
    "\n",
    "# Pull the Age records from the titanic table using .fetchall() method and save as age\n",
    "age = curs.execute(\"SELECT Age FROM titanic;\").fetchall()\n",
    "\n",
    "# Create a for loop that calculates the number of children\n",
    "sum = 0\n",
    "for num in age: \n",
    "  if num[0] < 18:\n",
    "    sum = sum + 1\n",
    "            \n",
    "print(sum)"
   ]
  },
  {
   "cell_type": "markdown",
   "id": "21299b9f",
   "metadata": {},
   "source": [
    "###### Add row"
   ]
  },
  {
   "cell_type": "code",
   "execution_count": null,
   "id": "0b03fb7d",
   "metadata": {},
   "outputs": [],
   "source": [
    "def helper():\n",
    "  import sqlite3\n",
    "  con = sqlite3.connect(\"titanic.db\")\n",
    "  curs = con.cursor()\n",
    "  if curs.execute('''SELECT * FROM new_table WHERE Age = 33;''').fetchall() == [('Anne Smith', 33, 'AS896', 25.0)]:\n",
    "    curs.execute('''DELETE FROM new_table WHERE Age = 37;''')\n",
    "    con.commit()\n",
    "    con.close()"
   ]
  },
  {
   "cell_type": "code",
   "execution_count": null,
   "id": "a7fab851",
   "metadata": {},
   "outputs": [],
   "source": [
    "from start import helper\n",
    "helper()\n",
    "import sqlite3\n",
    "\n",
    "con = sqlite3.connect(\"titanic.db\")\n",
    "curs = con.cursor()\n",
    "\n",
    "# insert a row in new_table table\n",
    "curs.execute('''INSERT INTO new_table VALUES ('Stephanie Bready', 37, 'stephB423', 30.00)''')\n",
    "# commit this change\n",
    "con.commit()\n",
    "\n",
    "# close the connection\n",
    "con.close()\n"
   ]
  },
  {
   "cell_type": "markdown",
   "id": "2e4fd44d",
   "metadata": {},
   "source": [
    "###### test"
   ]
  },
  {
   "cell_type": "code",
   "execution_count": 23,
   "id": "99a92c48",
   "metadata": {},
   "outputs": [],
   "source": [
    "# Import module sqlite3\n",
    "import sqlite3\n",
    "# Create connection object\n",
    "con = sqlite3.connect('titanic.db')\n",
    "# Create cursor object\n",
    "curs = con.cursor()\n",
    "# Retrieve the row where username = 'stephB423'; from new_table\n",
    "n_row = all_survived = curs.execute('''SELECT * FROM new_table WHERE username = 'stephB423';''').fetchone()\n",
    "# Close the connection\n",
    "con.close()"
   ]
  },
  {
   "cell_type": "code",
   "execution_count": null,
   "id": "1bef34a7",
   "metadata": {},
   "outputs": [],
   "source": []
  }
 ],
 "metadata": {
  "kernelspec": {
   "display_name": "Python 3 (ipykernel)",
   "language": "python",
   "name": "python3"
  },
  "language_info": {
   "codemirror_mode": {
    "name": "ipython",
    "version": 3
   },
   "file_extension": ".py",
   "mimetype": "text/x-python",
   "name": "python",
   "nbconvert_exporter": "python",
   "pygments_lexer": "ipython3",
   "version": "3.9.12"
  }
 },
 "nbformat": 4,
 "nbformat_minor": 5
}
