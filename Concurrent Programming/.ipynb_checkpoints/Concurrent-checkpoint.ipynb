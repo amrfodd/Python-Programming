{
 "cells": [
  {
   "cell_type": "code",
   "execution_count": 1,
   "id": "18530f3c",
   "metadata": {},
   "outputs": [
    {
     "name": "stdout",
     "output_type": "stream",
     "text": [
      "Codecademy\n",
      "says hello!\n",
      "Sequential Programming Elapsed Time: 2.009872999999061 seconds\n"
     ]
    }
   ],
   "source": [
    "import time\n",
    "def sequential():\n",
    "  s = time.perf_counter()\n",
    "  print(\"Codecademy\")\n",
    "  time.sleep(2)\n",
    "  print(\"says hello!\")\n",
    "  elapsed = time.perf_counter() - s\n",
    "  print(\"Sequential Programming Elapsed Time: \" + str(elapsed) + \" seconds\")\n",
    "\n",
    "sequential()"
   ]
  },
  {
   "cell_type": "markdown",
   "id": "b120fc7d",
   "metadata": {},
   "source": [
    "###### Threading\n"
   ]
  },
  {
   "cell_type": "code",
   "execution_count": 3,
   "id": "7205a7d2",
   "metadata": {},
   "outputs": [
    {
     "name": "stdout",
     "output_type": "stream",
     "text": [
      "hello there\n",
      "says hello!\n",
      "Sequential Programming Elapsed Time: 2.015228299998853 seconds\n"
     ]
    }
   ],
   "source": [
    "import time\n",
    "import threading\n",
    "def greeting_with_sleep(string):\n",
    "  s = time.perf_counter()\n",
    "  print(string)\n",
    "  time.sleep(2)\n",
    "  print(\"says hello!\")\n",
    "  elapsed = time.perf_counter() - s\n",
    "  print(\"Sequential Programming Elapsed Time: \" + str(elapsed) + \" seconds\")\n",
    "    \n",
    "greeting_with_sleep(\"hello there\")"
   ]
  },
  {
   "cell_type": "code",
   "execution_count": 4,
   "id": "ec62d70e",
   "metadata": {},
   "outputs": [
    {
     "name": "stdout",
     "output_type": "stream",
     "text": [
      "Codecademy\n",
      "says hello!\n",
      "Sequential Programming Elapsed Time: 2.002818999997544 seconds\n",
      "Codecademy\n",
      "says hello!\n",
      "Sequential Programming Elapsed Time: 2.0162853999972867 seconds\n"
     ]
    }
   ],
   "source": [
    "import time\n",
    "import threading\n",
    "def greeting_with_sleep(string):\n",
    "  s = time.perf_counter()\n",
    "  print(string)\n",
    "  time.sleep(2)\n",
    "  print(\"says hello!\")\n",
    "  elapsed = time.perf_counter() - s\n",
    "  print(\"Sequential Programming Elapsed Time: \" + str(elapsed) + \" seconds\")\n",
    "\n",
    "greeting_with_sleep('Codecademy')\n",
    "\n",
    "t = threading.Thread(target=greeting_with_sleep, args=('Codecademy',))\n",
    "t.start()"
   ]
  },
  {
   "cell_type": "markdown",
   "id": "5077e007",
   "metadata": {},
   "source": [
    "###### Multiple Threads"
   ]
  },
  {
   "cell_type": "code",
   "execution_count": 5,
   "id": "0b0bd4b2",
   "metadata": {},
   "outputs": [
    {
     "name": "stdout",
     "output_type": "stream",
     "text": [
      "Codecademy\n",
      "Chelsea\n",
      "Hisham\n",
      "AshleyThreading Elapsed Time: 0.009301699999923585 seconds\n",
      "\n",
      "says hello!says hello!says hello!\n",
      "\n",
      "\n",
      "says hello!\n"
     ]
    }
   ],
   "source": [
    "import time\n",
    "import threading\n",
    "def greeting_with_sleep(string):\n",
    "  print(string)\n",
    "  time.sleep(2)\n",
    "  print(\"says hello!\")\n",
    "\n",
    "\n",
    "def main_threading():\n",
    "  s = time.perf_counter()\n",
    "  # your code goes here\n",
    "  greetings = ['Codecademy', 'Chelsea', 'Hisham', 'Ashley']\n",
    "  for i in range(len(greetings)):\n",
    "    t = threading.Thread(target=greeting_with_sleep, args=(greetings[i],))\n",
    "    t.start()\n",
    "  elapsed = time.perf_counter() - s\n",
    "  print(\"Threading Elapsed Time: \" + str(elapsed) + \" seconds\")\n",
    "\n",
    "main_threading()"
   ]
  },
  {
   "cell_type": "code",
   "execution_count": 6,
   "id": "d7102ec1",
   "metadata": {},
   "outputs": [
    {
     "name": "stdout",
     "output_type": "stream",
     "text": [
      "Codecademy\n",
      "Chelsea\n",
      "Hisham\n",
      "Ashley\n",
      "Hisham says hello!Ashley says hello!\n",
      "Chelsea says hello!\n",
      "\n",
      "Codecademy says hello!\n",
      "Threading Elapsed Time: 2.017990500000451 seconds\n"
     ]
    }
   ],
   "source": [
    "import time\n",
    "import threading\n",
    "def greeting_with_sleep(string):\n",
    "  print(string)\n",
    "  time.sleep(2)\n",
    "  print(string + \" says hello!\")\n",
    "\n",
    "\n",
    "def main_threading():\n",
    "  s = time.perf_counter()\n",
    "  threads = []\n",
    "  greetings = ['Codecademy', 'Chelsea', 'Hisham', 'Ashley']\n",
    "  for i in range(len(greetings)):\n",
    "    t = threading.Thread    (target=greeting_with_sleep, args=(greetings[i],)) \n",
    "    t.start()\n",
    "    # add append code here\n",
    "    threads.append(t)\n",
    "  # add join code here\n",
    "  for t in threads:\n",
    "    t.join()\n",
    "\n",
    "  elapsed = time.perf_counter() - s\n",
    "  print(\"Threading Elapsed Time: \" + str(elapsed) + \" seconds\")\n",
    "\n",
    "main_threading()"
   ]
  },
  {
   "cell_type": "markdown",
   "id": "691ae312",
   "metadata": {},
   "source": [
    "###### Asyncio Module\n"
   ]
  },
  {
   "cell_type": "code",
   "execution_count": 7,
   "id": "12b4590c",
   "metadata": {},
   "outputs": [
    {
     "ename": "RuntimeError",
     "evalue": "This event loop is already running",
     "output_type": "error",
     "traceback": [
      "\u001b[1;31m---------------------------------------------------------------------------\u001b[0m",
      "\u001b[1;31mRuntimeError\u001b[0m                              Traceback (most recent call last)",
      "Input \u001b[1;32mIn [7]\u001b[0m, in \u001b[0;36m<cell line: 13>\u001b[1;34m()\u001b[0m\n\u001b[0;32m     10\u001b[0m   \u001b[38;5;28mprint\u001b[39m(\u001b[38;5;124m\"\u001b[39m\u001b[38;5;124mAsyncio Elapsed Time: \u001b[39m\u001b[38;5;124m\"\u001b[39m \u001b[38;5;241m+\u001b[39m \u001b[38;5;28mstr\u001b[39m(elapsed) \u001b[38;5;241m+\u001b[39m \u001b[38;5;124m\"\u001b[39m\u001b[38;5;124m seconds\u001b[39m\u001b[38;5;124m\"\u001b[39m)\n\u001b[0;32m     12\u001b[0m loop \u001b[38;5;241m=\u001b[39m asyncio\u001b[38;5;241m.\u001b[39mget_event_loop()\n\u001b[1;32m---> 13\u001b[0m \u001b[43mloop\u001b[49m\u001b[38;5;241;43m.\u001b[39;49m\u001b[43mrun_until_complete\u001b[49m\u001b[43m(\u001b[49m\u001b[43mgreeting_with_sleep_async\u001b[49m\u001b[43m(\u001b[49m\u001b[38;5;124;43m'\u001b[39;49m\u001b[38;5;124;43mCodecademy\u001b[39;49m\u001b[38;5;124;43m'\u001b[39;49m\u001b[43m)\u001b[49m\u001b[43m)\u001b[49m\n",
      "File \u001b[1;32mD:\\programfiles\\anaconda\\lib\\asyncio\\base_events.py:623\u001b[0m, in \u001b[0;36mBaseEventLoop.run_until_complete\u001b[1;34m(self, future)\u001b[0m\n\u001b[0;32m    612\u001b[0m \u001b[38;5;124;03m\"\"\"Run until the Future is done.\u001b[39;00m\n\u001b[0;32m    613\u001b[0m \n\u001b[0;32m    614\u001b[0m \u001b[38;5;124;03mIf the argument is a coroutine, it is wrapped in a Task.\u001b[39;00m\n\u001b[1;32m   (...)\u001b[0m\n\u001b[0;32m    620\u001b[0m \u001b[38;5;124;03mReturn the Future's result, or raise its exception.\u001b[39;00m\n\u001b[0;32m    621\u001b[0m \u001b[38;5;124;03m\"\"\"\u001b[39;00m\n\u001b[0;32m    622\u001b[0m \u001b[38;5;28mself\u001b[39m\u001b[38;5;241m.\u001b[39m_check_closed()\n\u001b[1;32m--> 623\u001b[0m \u001b[38;5;28;43mself\u001b[39;49m\u001b[38;5;241;43m.\u001b[39;49m\u001b[43m_check_running\u001b[49m\u001b[43m(\u001b[49m\u001b[43m)\u001b[49m\n\u001b[0;32m    625\u001b[0m new_task \u001b[38;5;241m=\u001b[39m \u001b[38;5;129;01mnot\u001b[39;00m futures\u001b[38;5;241m.\u001b[39misfuture(future)\n\u001b[0;32m    626\u001b[0m future \u001b[38;5;241m=\u001b[39m tasks\u001b[38;5;241m.\u001b[39mensure_future(future, loop\u001b[38;5;241m=\u001b[39m\u001b[38;5;28mself\u001b[39m)\n",
      "File \u001b[1;32mD:\\programfiles\\anaconda\\lib\\asyncio\\base_events.py:583\u001b[0m, in \u001b[0;36mBaseEventLoop._check_running\u001b[1;34m(self)\u001b[0m\n\u001b[0;32m    581\u001b[0m \u001b[38;5;28;01mdef\u001b[39;00m \u001b[38;5;21m_check_running\u001b[39m(\u001b[38;5;28mself\u001b[39m):\n\u001b[0;32m    582\u001b[0m     \u001b[38;5;28;01mif\u001b[39;00m \u001b[38;5;28mself\u001b[39m\u001b[38;5;241m.\u001b[39mis_running():\n\u001b[1;32m--> 583\u001b[0m         \u001b[38;5;28;01mraise\u001b[39;00m \u001b[38;5;167;01mRuntimeError\u001b[39;00m(\u001b[38;5;124m'\u001b[39m\u001b[38;5;124mThis event loop is already running\u001b[39m\u001b[38;5;124m'\u001b[39m)\n\u001b[0;32m    584\u001b[0m     \u001b[38;5;28;01mif\u001b[39;00m events\u001b[38;5;241m.\u001b[39m_get_running_loop() \u001b[38;5;129;01mis\u001b[39;00m \u001b[38;5;129;01mnot\u001b[39;00m \u001b[38;5;28;01mNone\u001b[39;00m:\n\u001b[0;32m    585\u001b[0m         \u001b[38;5;28;01mraise\u001b[39;00m \u001b[38;5;167;01mRuntimeError\u001b[39;00m(\n\u001b[0;32m    586\u001b[0m             \u001b[38;5;124m'\u001b[39m\u001b[38;5;124mCannot run the event loop while another loop is running\u001b[39m\u001b[38;5;124m'\u001b[39m)\n",
      "\u001b[1;31mRuntimeError\u001b[0m: This event loop is already running"
     ]
    }
   ],
   "source": [
    "import time\n",
    "import asyncio\n",
    "\n",
    "async def greeting_with_sleep_async(string):\n",
    "  s = time.perf_counter()\n",
    "  print(string)\n",
    "  await asyncio.sleep(2)\n",
    "  print(\"says hello!\")\n",
    "  elapsed = time.perf_counter() - s\n",
    "  print(\"Asyncio Elapsed Time: \" + str(elapsed) + \" seconds\")\n",
    "\n",
    "loop = asyncio.get_event_loop()\n",
    "loop.run_until_complete(greeting_with_sleep_async('Codecademy'))"
   ]
  },
  {
   "cell_type": "markdown",
   "id": "718ee838",
   "metadata": {},
   "source": [
    "###### Multiple Asynchronous Tasks\n"
   ]
  },
  {
   "cell_type": "code",
   "execution_count": 8,
   "id": "27fb3f96",
   "metadata": {},
   "outputs": [],
   "source": [
    "import time\n",
    "import asyncio\n",
    "\n",
    "async def greeting_with_sleep_async(string):\n",
    "  print(string)\n",
    "  await asyncio.sleep(2)\n",
    "  print(\"says hello!\")\n",
    "\n",
    "\n",
    "async def main_async():\n",
    "  s = time.perf_counter()\n",
    "  greetings = [greeting_with_sleep_async('Codecademy'), greeting_with_sleep_async('Chelsea'), greeting_with_sleep_async('Hisham'), greeting_with_sleep_async('Ashley')]\n",
    "  # your code goes here\n",
    "\n",
    "\n",
    "  elapsed = time.perf_counter() - s\n",
    "  print(\"Asyncio Elapsed Time: \" + str(elapsed) + \" seconds\")"
   ]
  },
  {
   "cell_type": "markdown",
   "id": "c67359e7",
   "metadata": {},
   "source": [
    "###### Multiprocessing "
   ]
  },
  {
   "cell_type": "code",
   "execution_count": 9,
   "id": "0278fc06",
   "metadata": {},
   "outputs": [],
   "source": [
    "import time\n",
    "import multiprocessing\n",
    "\n",
    "def greeting_with_sleep(string):\n",
    "  s = time.perf_counter()\n",
    "  print(string)\n",
    "  time.sleep(2)\n",
    "  print(\"says hello!\")\n",
    "  elapsed = time.perf_counter() - s\n",
    "  print(\"Multiprocessing Elapsed Time: \" + str(elapsed) + \" seconds\")\n",
    "\n",
    "p = multiprocessing.Process(target=greeting_with_sleep, args=('Codecademy',))\n",
    "p.start()\n"
   ]
  },
  {
   "cell_type": "code",
   "execution_count": 10,
   "id": "4d450b33",
   "metadata": {},
   "outputs": [],
   "source": [
    "import time\n",
    "import multiprocessing\n",
    "\n",
    "def greeting_with_sleep(string):\n",
    "  print(string)\n",
    "  time.sleep(2)\n",
    "  print(string + \" says hello!\")\n",
    "\n",
    "\n",
    "def main_multiprocessing():\n",
    "  s = time.perf_counter()\n",
    "  processes = []\n",
    "  greetings = ['Codecademy', 'Chelsea', 'Hisham', 'Ashley']\n",
    "  # add your code here\n",
    "  for i in range(len(greetings)):\n",
    "    p = multiprocessing.Process(target=greeting_with_sleep, args=(greetings[i],))\n",
    "    processes.append(p)\n",
    "    p.start()"
   ]
  },
  {
   "cell_type": "markdown",
   "id": "05c2f57d",
   "metadata": {},
   "source": [
    "###### Project "
   ]
  },
  {
   "cell_type": "code",
   "execution_count": 11,
   "id": "216315d3",
   "metadata": {},
   "outputs": [
    {
     "name": "stdout",
     "output_type": "stream",
     "text": [
      "Sequential Programming Elapsed Time: 3.0390119000003324 seconds\n"
     ]
    },
    {
     "ename": "RuntimeError",
     "evalue": "This event loop is already running",
     "output_type": "error",
     "traceback": [
      "\u001b[1;31m---------------------------------------------------------------------------\u001b[0m",
      "\u001b[1;31mRuntimeError\u001b[0m                              Traceback (most recent call last)",
      "Input \u001b[1;32mIn [11]\u001b[0m, in \u001b[0;36m<cell line: 62>\u001b[1;34m()\u001b[0m\n\u001b[0;32m     66\u001b[0m main_sequential(l1, l2, l3)\n\u001b[0;32m     67\u001b[0m loop \u001b[38;5;241m=\u001b[39m asyncio\u001b[38;5;241m.\u001b[39mget_event_loop()\n\u001b[1;32m---> 68\u001b[0m \u001b[43mloop\u001b[49m\u001b[38;5;241;43m.\u001b[39;49m\u001b[43mrun_until_complete\u001b[49m\u001b[43m(\u001b[49m\u001b[43mmain_async\u001b[49m\u001b[43m(\u001b[49m\u001b[43ml1\u001b[49m\u001b[43m,\u001b[49m\u001b[43m \u001b[49m\u001b[43ml2\u001b[49m\u001b[43m,\u001b[49m\u001b[43m \u001b[49m\u001b[43ml3\u001b[49m\u001b[43m)\u001b[49m\u001b[43m)\u001b[49m\n\u001b[0;32m     69\u001b[0m main_threading(l1, l2, l3)\n\u001b[0;32m     70\u001b[0m main_multiprocessing(l1, l2, l3)\n",
      "File \u001b[1;32mD:\\programfiles\\anaconda\\lib\\asyncio\\base_events.py:623\u001b[0m, in \u001b[0;36mBaseEventLoop.run_until_complete\u001b[1;34m(self, future)\u001b[0m\n\u001b[0;32m    612\u001b[0m \u001b[38;5;124;03m\"\"\"Run until the Future is done.\u001b[39;00m\n\u001b[0;32m    613\u001b[0m \n\u001b[0;32m    614\u001b[0m \u001b[38;5;124;03mIf the argument is a coroutine, it is wrapped in a Task.\u001b[39;00m\n\u001b[1;32m   (...)\u001b[0m\n\u001b[0;32m    620\u001b[0m \u001b[38;5;124;03mReturn the Future's result, or raise its exception.\u001b[39;00m\n\u001b[0;32m    621\u001b[0m \u001b[38;5;124;03m\"\"\"\u001b[39;00m\n\u001b[0;32m    622\u001b[0m \u001b[38;5;28mself\u001b[39m\u001b[38;5;241m.\u001b[39m_check_closed()\n\u001b[1;32m--> 623\u001b[0m \u001b[38;5;28;43mself\u001b[39;49m\u001b[38;5;241;43m.\u001b[39;49m\u001b[43m_check_running\u001b[49m\u001b[43m(\u001b[49m\u001b[43m)\u001b[49m\n\u001b[0;32m    625\u001b[0m new_task \u001b[38;5;241m=\u001b[39m \u001b[38;5;129;01mnot\u001b[39;00m futures\u001b[38;5;241m.\u001b[39misfuture(future)\n\u001b[0;32m    626\u001b[0m future \u001b[38;5;241m=\u001b[39m tasks\u001b[38;5;241m.\u001b[39mensure_future(future, loop\u001b[38;5;241m=\u001b[39m\u001b[38;5;28mself\u001b[39m)\n",
      "File \u001b[1;32mD:\\programfiles\\anaconda\\lib\\asyncio\\base_events.py:583\u001b[0m, in \u001b[0;36mBaseEventLoop._check_running\u001b[1;34m(self)\u001b[0m\n\u001b[0;32m    581\u001b[0m \u001b[38;5;28;01mdef\u001b[39;00m \u001b[38;5;21m_check_running\u001b[39m(\u001b[38;5;28mself\u001b[39m):\n\u001b[0;32m    582\u001b[0m     \u001b[38;5;28;01mif\u001b[39;00m \u001b[38;5;28mself\u001b[39m\u001b[38;5;241m.\u001b[39mis_running():\n\u001b[1;32m--> 583\u001b[0m         \u001b[38;5;28;01mraise\u001b[39;00m \u001b[38;5;167;01mRuntimeError\u001b[39;00m(\u001b[38;5;124m'\u001b[39m\u001b[38;5;124mThis event loop is already running\u001b[39m\u001b[38;5;124m'\u001b[39m)\n\u001b[0;32m    584\u001b[0m     \u001b[38;5;28;01mif\u001b[39;00m events\u001b[38;5;241m.\u001b[39m_get_running_loop() \u001b[38;5;129;01mis\u001b[39;00m \u001b[38;5;129;01mnot\u001b[39;00m \u001b[38;5;28;01mNone\u001b[39;00m:\n\u001b[0;32m    585\u001b[0m         \u001b[38;5;28;01mraise\u001b[39;00m \u001b[38;5;167;01mRuntimeError\u001b[39;00m(\n\u001b[0;32m    586\u001b[0m             \u001b[38;5;124m'\u001b[39m\u001b[38;5;124mCannot run the event loop while another loop is running\u001b[39m\u001b[38;5;124m'\u001b[39m)\n",
      "\u001b[1;31mRuntimeError\u001b[0m: This event loop is already running"
     ]
    }
   ],
   "source": [
    "import time\n",
    "import threading\n",
    "import asyncio\n",
    "from multiprocessing import Process\n",
    "\n",
    "def cal_average(num):  # Average function used for sequential programming, threading, and multiprocessing\n",
    "  sum_num = 0\n",
    "  for t in num:\n",
    "    sum_num = sum_num + t\n",
    "  avg = sum_num / len(num)\n",
    "  time.sleep(1)\n",
    "  return avg\n",
    "\n",
    "def main_sequential(list1, list2, list3):  # Main wrapper for sequential example\n",
    "  s = time.perf_counter()\n",
    "  cal_average(list1)\n",
    "  cal_average(list2)\n",
    "  cal_average(list3)\n",
    "  elapsed = time.perf_counter() - s\n",
    "  print(\"Sequential Programming Elapsed Time: \" + str(elapsed) + \" seconds\")\n",
    "\n",
    "async def cal_average_async(num):  # Average function used for asynchronous programming only ( needs await asyncio.sleep() )\n",
    "  sum_num = 0\n",
    "  for t in num:\n",
    "    sum_num = sum_num + t\n",
    "  avg = sum_num / len(num)\n",
    "  await asyncio.sleep(1)\n",
    "  return avg\n",
    "\n",
    "async def main_async(list1, list2, list3):  # Main wrapper for asynchronous example\n",
    "  s = time.perf_counter()\n",
    "  tasks = [cal_average_async(list1), cal_average_async(list2), cal_average_async(list3)]\n",
    "  await asyncio.gather(*tasks)  # Starts all asynchronous tasks and waits for them to complete\n",
    "  elapsed = time.perf_counter() - s\n",
    "  print(\"Asynchronous Programming Elapsed Time: \" + str(elapsed) + \" seconds\")\n",
    "\n",
    "def main_threading(list1, list2, list3):  # Main wrapper for threading example\n",
    "  s = time.perf_counter()\n",
    "  lists = [list1, list2, list3]\n",
    "  threads = list()\n",
    "  for index in range(len(lists)):\n",
    "    x = threading.Thread(target=cal_average, args=(lists[index],))  # Create 1 thread per list\n",
    "    threads.append(x)  # Add each thread to the list of 'threads'\n",
    "    x.start()  # Start all threads\n",
    "  for thread in threads:\n",
    "    thread.join()\n",
    "  elapsed = time.perf_counter() - s\n",
    "  print(\"Threading Elapsed Time: \" + str(elapsed) + \" seconds\")\n",
    "\n",
    "def main_multiprocessing(list1, list2, list3):  # Main wrapper for multiprocessing example\n",
    "  s = time.perf_counter()\n",
    "  lists = [list1, list2, list3]\n",
    "  processes = [Process(target=cal_average, args=(lists[x],)) for x in range(len(lists))]  # This creates a process per list\n",
    "  for p in processes:\n",
    "    p.start()  # Starts each of the processes\n",
    "  for p in processes:\n",
    "    p.join()\n",
    "  elapsed = time.perf_counter() - s\n",
    "  print(\"Multiprocessing Elapsed Time: \" + str(elapsed) + \" seconds\")\n",
    "\n",
    "\n",
    "if __name__ == '__main__':  # Need to use this if-statement so multiprocessing doesn't cause an infinite loop\n",
    "  l1 = [1, 2, 3, 4, 5, 6, 7, 8, 9, 10]  # Three lists we are trying to calculate average on\n",
    "  l2 = [2, 4, 6, 8, 10]\n",
    "  l3 = [1, 3, 5, 7, 9, 11]\n",
    "  main_sequential(l1, l2, l3)\n",
    "  loop = asyncio.get_event_loop()\n",
    "  loop.run_until_complete(main_async(l1, l2, l3))\n",
    "  main_threading(l1, l2, l3)\n",
    "  main_multiprocessing(l1, l2, l3)"
   ]
  },
  {
   "cell_type": "code",
   "execution_count": null,
   "id": "b02e14b1",
   "metadata": {},
   "outputs": [],
   "source": []
  }
 ],
 "metadata": {
  "kernelspec": {
   "display_name": "Python 3 (ipykernel)",
   "language": "python",
   "name": "python3"
  },
  "language_info": {
   "codemirror_mode": {
    "name": "ipython",
    "version": 3
   },
   "file_extension": ".py",
   "mimetype": "text/x-python",
   "name": "python",
   "nbconvert_exporter": "python",
   "pygments_lexer": "ipython3",
   "version": "3.9.12"
  }
 },
 "nbformat": 4,
 "nbformat_minor": 5
}
