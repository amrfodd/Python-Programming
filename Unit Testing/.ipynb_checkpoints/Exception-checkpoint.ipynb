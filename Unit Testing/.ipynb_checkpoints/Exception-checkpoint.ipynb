{
 "cells": [
  {
   "cell_type": "markdown",
   "id": "b681d2dc",
   "metadata": {},
   "source": [
    "###### 1) Raise"
   ]
  },
  {
   "cell_type": "code",
   "execution_count": 1,
   "id": "3a67ce40",
   "metadata": {},
   "outputs": [
    {
     "name": "stdout",
     "output_type": "stream",
     "text": [
      "The price of a Marimba is 1999\n",
      "The price of a Flute is 899\n"
     ]
    },
    {
     "ename": "KeyError",
     "evalue": "'Piano is not found in instrument catalog!'",
     "output_type": "error",
     "traceback": [
      "\u001b[1;31m---------------------------------------------------------------------------\u001b[0m",
      "\u001b[1;31mKeyError\u001b[0m                                  Traceback (most recent call last)",
      "Input \u001b[1;32mIn [1]\u001b[0m, in \u001b[0;36m<cell line: 18>\u001b[1;34m()\u001b[0m\n\u001b[0;32m     16\u001b[0m print_instrument_price(\u001b[38;5;124m'\u001b[39m\u001b[38;5;124mMarimba\u001b[39m\u001b[38;5;124m'\u001b[39m)\n\u001b[0;32m     17\u001b[0m print_instrument_price(\u001b[38;5;124m'\u001b[39m\u001b[38;5;124mFlute\u001b[39m\u001b[38;5;124m'\u001b[39m)\n\u001b[1;32m---> 18\u001b[0m \u001b[43mprint_instrument_price\u001b[49m\u001b[43m(\u001b[49m\u001b[38;5;124;43m'\u001b[39;49m\u001b[38;5;124;43mPiano\u001b[39;49m\u001b[38;5;124;43m'\u001b[39;49m\u001b[43m)\u001b[49m\n",
      "Input \u001b[1;32mIn [1]\u001b[0m, in \u001b[0;36mprint_instrument_price\u001b[1;34m(instrument)\u001b[0m\n\u001b[0;32m     11\u001b[0m   \u001b[38;5;28mprint\u001b[39m(\u001b[38;5;124m'\u001b[39m\u001b[38;5;124mThe price of a \u001b[39m\u001b[38;5;124m'\u001b[39m \u001b[38;5;241m+\u001b[39m instrument \u001b[38;5;241m+\u001b[39m \u001b[38;5;124m'\u001b[39m\u001b[38;5;124m is \u001b[39m\u001b[38;5;124m'\u001b[39m \u001b[38;5;241m+\u001b[39m \u001b[38;5;28mstr\u001b[39m(instrument_catalog[instrument]))\n\u001b[0;32m     12\u001b[0m \u001b[38;5;66;03m# Checkpoint 3\u001b[39;00m\n\u001b[0;32m     13\u001b[0m \u001b[38;5;28;01melse\u001b[39;00m:\n\u001b[1;32m---> 14\u001b[0m   \u001b[38;5;28;01mraise\u001b[39;00m \u001b[38;5;167;01mKeyError\u001b[39;00m(instrument \u001b[38;5;241m+\u001b[39m \u001b[38;5;124m'\u001b[39m\u001b[38;5;124m is not found in instrument catalog!\u001b[39m\u001b[38;5;124m'\u001b[39m)\n",
      "\u001b[1;31mKeyError\u001b[0m: 'Piano is not found in instrument catalog!'"
     ]
    }
   ],
   "source": [
    "# Checkpoint 1\n",
    "instrument_catalog = {\n",
    "    'Marimba': 1999,\n",
    "    'Kora': 499,\n",
    "    'Flute': 899\n",
    "}\n",
    "\n",
    "def print_instrument_price(instrument):\n",
    "    # Checkpoint 2\n",
    "    if instrument in instrument_catalog:\n",
    "      print('The price of a ' + instrument + ' is ' + str(instrument_catalog[instrument]))\n",
    "    # Checkpoint 3\n",
    "    else:\n",
    "      raise KeyError(instrument + ' is not found in instrument catalog!')\n",
    "\n",
    "print_instrument_price('Marimba')\n",
    "print_instrument_price('Flute')\n",
    "print_instrument_price('Piano')"
   ]
  },
  {
   "cell_type": "markdown",
   "id": "4db4f681",
   "metadata": {},
   "source": [
    "###### 2) Try/Except"
   ]
  },
  {
   "cell_type": "code",
   "execution_count": 2,
   "id": "471af04b",
   "metadata": {},
   "outputs": [
    {
     "name": "stdout",
     "output_type": "stream",
     "text": [
      "The hex value of red is #FF0000\n",
      "Loop continues...\n",
      "An exception occurred! Color does not exist.\n",
      "Loop continues...\n",
      "The hex value of yellow is #FFFF00\n",
      "Loop continues...\n"
     ]
    }
   ],
   "source": [
    "colors = {\n",
    "    'red': '#FF0000',\n",
    "    'blue': '#0000FF',\n",
    "    'yellow': '#FFFF00',\n",
    "}\n",
    " \n",
    "for color in ('red', 'green', 'yellow'):\n",
    "  try:\n",
    "    print('The hex value of ' + color + ' is ' + colors[color])\n",
    "  except:\n",
    "    print('An exception occurred! Color does not exist.')\n",
    "  print('Loop continues...')"
   ]
  },
  {
   "cell_type": "code",
   "execution_count": 4,
   "id": "82386fe9",
   "metadata": {},
   "outputs": [
    {
     "name": "stdout",
     "output_type": "stream",
     "text": [
      "Instrument World Austin has:\n",
      "5 sales employees\n",
      "1 floor managers\n",
      "The ratio of sales people to managers is 5.0\n",
      "\n",
      "Could not print sales report for Melbourne\n",
      "Instrument World Beijing has:\n",
      "5 sales employees\n",
      "2 floor managers\n",
      "The ratio of sales people to managers is 2.5\n",
      "\n"
     ]
    }
   ],
   "source": [
    "staff = {\n",
    "  'Austin': {\n",
    "      'floor managers': 1,\n",
    "      'sales associates': 5\n",
    "  },\n",
    "  'Melbourne': {\n",
    "      'floor managers': 0,\n",
    "      'sales associates': 8\n",
    "  },\n",
    "  'Beijing': {\n",
    "      'floor managers': 2,\n",
    "      'sales associates': 5\n",
    "  },\n",
    "}\n",
    "\n",
    "def print_staff_report(location, staff_dict):\n",
    "    managers = staff_dict['floor managers']\n",
    "    sales_people = staff_dict['sales associates']\n",
    "    ratio = sales_people / managers\n",
    "    print('Instrument World ' + location + ' has:')\n",
    "    print(str(sales_people) + ' sales employees')\n",
    "    print(str(managers) + ' floor managers')\n",
    "    print('The ratio of sales people to managers is ' + str(ratio))\n",
    "    print()\n",
    "\n",
    "for location, staff in staff.items():\n",
    "    try:\n",
    "        print_staff_report(location, staff)\n",
    "    except: \n",
    "        print('Could not print sales report for ' + location)"
   ]
  },
  {
   "cell_type": "markdown",
   "id": "000d3d01",
   "metadata": {},
   "source": [
    "###### 3) Catching Specific Exceptions\n"
   ]
  },
  {
   "cell_type": "code",
   "execution_count": 5,
   "id": "c9c3b536",
   "metadata": {},
   "outputs": [
    {
     "name": "stdout",
     "output_type": "stream",
     "text": [
      "Instrument World Austin has:\n",
      "5 sales employees\n",
      "1 floor managers\n",
      "The ratio of sales people to managers is 5.0\n",
      "\n",
      "Could not print sales report for Melbourne\n",
      "division by zero\n",
      "Instrument World Beijing has:\n",
      "5 sales employees\n",
      "2 floor managers\n",
      "The ratio of sales people to managers is 2.5\n",
      "\n"
     ]
    }
   ],
   "source": [
    "staff = {\n",
    "  'Austin': {\n",
    "    'floor managers': 1,\n",
    "    'sales associates': 5\n",
    "  },\n",
    "  'Melbourne': {\n",
    "    'floor managers': 0,\n",
    "    'sales associates': 8\n",
    "  },\n",
    "  'Beijing': {\n",
    "    'floor managers': 2,\n",
    "    'sales associates': 5\n",
    "  },\n",
    "}\n",
    "\n",
    "def print_staff_report(location, staff_dict):\n",
    "  managers = staff_dict['floor managers']\n",
    "  sales_people = staff_dict['sales associates']\n",
    "  ratio = sales_people / managers\n",
    "  print('Instrument World ' + location + ' has:')\n",
    "  print(str(sales_people) + ' sales employees')\n",
    "  print(str(managers) + ' floor managers')\n",
    "  print('The ratio of sales people to managers is ' + str(ratio))\n",
    "  print()\n",
    "\n",
    "for location, staff in staff.items():\n",
    "  try:\n",
    "      print_staff_report(location, staff)\n",
    "  # Write your code below:\n",
    "  except ZeroDivisionError as e:\n",
    "      print('Could not print sales report for ' + location)\n",
    "      print(e)"
   ]
  },
  {
   "cell_type": "markdown",
   "id": "faf235f1",
   "metadata": {},
   "source": [
    "###### 4) Handling Multiple Exceptions "
   ]
  },
  {
   "cell_type": "code",
   "execution_count": 6,
   "id": "3e0c1e40",
   "metadata": {},
   "outputs": [
    {
     "name": "stdout",
     "output_type": "stream",
     "text": [
      "An invalid instrument was entered!\n"
     ]
    }
   ],
   "source": [
    "instrument_prices = {\n",
    "  'Banjo': 200,\n",
    "  'Cello': 1000,\n",
    "  'Flute': 100,\n",
    "}\n",
    "\n",
    "def display_discounted_price(instrument, discount):\n",
    "  full_price = instrument_prices[instrument]\n",
    "  discount_percentage = discount / 100\n",
    "  discounted_price = full_price - (full_price * discount_percentage)\n",
    "  print(\"The instrument's discounted price is: \" + str(discounted_price))\n",
    "\n",
    "instrument = 'Clarinet'\n",
    "discount = '20'\n",
    "\n",
    "# Write your code below:\n",
    "try:\n",
    "  display_discounted_price(instrument, discount)\n",
    "except KeyError:\n",
    "  print('An invalid instrument was entered!')"
   ]
  },
  {
   "cell_type": "code",
   "execution_count": 7,
   "id": "750bb1c3",
   "metadata": {},
   "outputs": [
    {
     "name": "stdout",
     "output_type": "stream",
     "text": [
      "The instrument's discounted price is: 160.0\n"
     ]
    }
   ],
   "source": [
    "# Checkpoint 1\n",
    "instrument_prices = {\n",
    "  'Banjo': 200,\n",
    "  'Cello': 1000,\n",
    "  'Flute': 100,\n",
    "}\n",
    "\n",
    "def display_discounted_price(instrument, discount):\n",
    "  full_price = instrument_prices[instrument]\n",
    "  discount_percentage = discount / 100\n",
    "  discounted_price = full_price - (full_price * discount_percentage)\n",
    "  print(\"The instrument's discounted price is: \" + str(discounted_price))\n",
    "\n",
    "instrument = 'Banjo'\n",
    "discount = 20\n",
    "\n",
    "# Checkpoint 2\n",
    "try:\n",
    "  display_discounted_price(instrument, discount)\n",
    "# Checkpoint 3\n",
    "except KeyError:\n",
    "  print('An invalid instrument was entered!')\n",
    "# Checkpoint 4\n",
    "except TypeError:\n",
    "  print('Discount percentage must be a number!')\n",
    "except Exception:\n",
    "  print('Hit an exception other than KeyError or TypeError!')"
   ]
  },
  {
   "cell_type": "markdown",
   "id": "d90fcd29",
   "metadata": {},
   "source": [
    "###### 5) Else Clause"
   ]
  },
  {
   "cell_type": "code",
   "execution_count": 8,
   "id": "c2fe1745",
   "metadata": {},
   "outputs": [
    {
     "name": "stdout",
     "output_type": "stream",
     "text": [
      "Customer was not found in rewards program!\n"
     ]
    }
   ],
   "source": [
    "customer_rewards = {\n",
    "  'Zoltan': 82570,\n",
    "  'Guadalupe': 29850,\n",
    "  'Mario': 17849\n",
    "}\n",
    "\n",
    "def display_rewards_account(customer):\n",
    "  # Write your code below:\n",
    "  try:\n",
    "    rewards_number = customer_rewards[customer]\n",
    "    print('Rewards account number is: ' + str(rewards_number))\n",
    "  except KeyError:\n",
    "    print('Customer was not found in rewards program!')\n",
    "  \n",
    "customer = 'Zuigly'\n",
    "display_rewards_account(customer)\n"
   ]
  },
  {
   "cell_type": "code",
   "execution_count": 9,
   "id": "137bc383",
   "metadata": {},
   "outputs": [
    {
     "name": "stdout",
     "output_type": "stream",
     "text": [
      "Customer was not found in rewards program!\n"
     ]
    }
   ],
   "source": [
    "customer_rewards = {\n",
    "  'Zoltan': 82570,\n",
    "  'Guadalupe': 29850,\n",
    "  'Mario': 17849\n",
    "}\n",
    "\n",
    "def display_rewards_account(customer):\n",
    "  # Write your code below:\n",
    "  try:\n",
    "    rewards_number = customer_rewards[customer]\n",
    "  except KeyError:\n",
    "    print('Customer was not found in rewards program!')\n",
    "  else:\n",
    "    print('Rewards account number is: ' + str(rewards_number))\n",
    "customer = 'Zuigly'\n",
    "display_rewards_account(customer)"
   ]
  },
  {
   "cell_type": "code",
   "execution_count": 10,
   "id": "a7a5bf8c",
   "metadata": {},
   "outputs": [
    {
     "name": "stdout",
     "output_type": "stream",
     "text": [
      "Rewards account number is: 17849\n"
     ]
    }
   ],
   "source": [
    "customer_rewards = {\n",
    "  'Zoltan': 82570,\n",
    "  'Guadalupe': 29850,\n",
    "  'Mario': 17849\n",
    "}\n",
    "\n",
    "def display_rewards_account(customer):\n",
    "  # Write your code below:\n",
    "  try:\n",
    "    rewards_number = customer_rewards[customer]\n",
    "  except KeyError:\n",
    "    print('Customer was not found in rewards program!')\n",
    "  else:\n",
    "    print('Rewards account number is: ' + str(rewards_number))\n",
    "customer = 'Mario'\n",
    "display_rewards_account(customer)"
   ]
  },
  {
   "cell_type": "markdown",
   "id": "0ea69435",
   "metadata": {},
   "source": [
    "###### 6) The finally Clause\n"
   ]
  },
  {
   "cell_type": "code",
   "execution_count": 11,
   "id": "e040731c",
   "metadata": {},
   "outputs": [
    {
     "name": "stdout",
     "output_type": "stream",
     "text": [
      "Establishing connection to instrument database server...\n",
      "Oh no! This instrument does not exist.\n",
      "Destroying connection to instrument database server...\n"
     ]
    }
   ],
   "source": [
    "import database\n",
    "\n",
    "instrument = 'Synthesizer'\n",
    "database.connect_to_database()\n",
    "\n",
    "try:\n",
    "  database.display_instrument_info(instrument)\n",
    "except KeyError:\n",
    "  print('Oh no! This instrument does not exist.')\n",
    "else:\n",
    "  print(instrument)\n",
    "# Write your code below: \n",
    "finally:\n",
    "  database.disconnect_from_database()"
   ]
  },
  {
   "cell_type": "code",
   "execution_count": 12,
   "id": "57584906",
   "metadata": {},
   "outputs": [
    {
     "name": "stdout",
     "output_type": "stream",
     "text": [
      "Establishing connection to instrument database server...\n",
      "Instrument: Kora\n",
      "Family: Strings\n",
      "Origin: West Africa\n",
      "Kora\n",
      "Destroying connection to instrument database server...\n"
     ]
    }
   ],
   "source": [
    "import database\n",
    "\n",
    "instrument = 'Kora'\n",
    "database.connect_to_database()\n",
    "\n",
    "try:\n",
    "  database.display_instrument_info(instrument)\n",
    "except KeyError:\n",
    "  print('Oh no! This instrument does not exist.')\n",
    "else:\n",
    "  print(instrument)\n",
    "# Write your code below: \n",
    "finally:\n",
    "  database.disconnect_from_database()"
   ]
  },
  {
   "cell_type": "markdown",
   "id": "02817d80",
   "metadata": {},
   "source": [
    "###### 7) User-defined Exceptions\n"
   ]
  },
  {
   "cell_type": "code",
   "execution_count": 13,
   "id": "d84e9e0a",
   "metadata": {},
   "outputs": [
    {
     "ename": "InventoryError",
     "evalue": "",
     "output_type": "error",
     "traceback": [
      "\u001b[1;31m---------------------------------------------------------------------------\u001b[0m",
      "\u001b[1;31mInventoryError\u001b[0m                            Traceback (most recent call last)",
      "Input \u001b[1;32mIn [13]\u001b[0m, in \u001b[0;36m<cell line: 24>\u001b[1;34m()\u001b[0m\n\u001b[0;32m     22\u001b[0m instrument \u001b[38;5;241m=\u001b[39m \u001b[38;5;124m'\u001b[39m\u001b[38;5;124mPiano\u001b[39m\u001b[38;5;124m'\u001b[39m\n\u001b[0;32m     23\u001b[0m quantity \u001b[38;5;241m=\u001b[39m \u001b[38;5;241m5\u001b[39m\n\u001b[1;32m---> 24\u001b[0m \u001b[43msubmit_order\u001b[49m\u001b[43m(\u001b[49m\u001b[43minstrument\u001b[49m\u001b[43m,\u001b[49m\u001b[43m \u001b[49m\u001b[43mquantity\u001b[49m\u001b[43m)\u001b[49m\n",
      "Input \u001b[1;32mIn [13]\u001b[0m, in \u001b[0;36msubmit_order\u001b[1;34m(instrument, quantity)\u001b[0m\n\u001b[0;32m     14\u001b[0m supply \u001b[38;5;241m=\u001b[39m inventory[instrument]\n\u001b[0;32m     15\u001b[0m \u001b[38;5;28;01mif\u001b[39;00m quantity \u001b[38;5;241m>\u001b[39m supply:\n\u001b[1;32m---> 16\u001b[0m   \u001b[38;5;28;01mraise\u001b[39;00m InventoryError\n\u001b[0;32m     17\u001b[0m \u001b[38;5;28;01melse\u001b[39;00m:\n\u001b[0;32m     18\u001b[0m   \u001b[38;5;66;03m# Write your code below (Checkpoint 3 & 4): \u001b[39;00m\n\u001b[0;32m     19\u001b[0m   inventory[instrument] \u001b[38;5;241m-\u001b[39m\u001b[38;5;241m=\u001b[39m quantity\n",
      "\u001b[1;31mInventoryError\u001b[0m: "
     ]
    }
   ],
   "source": [
    "inventory = {\n",
    "  'Piano': 3,\n",
    "  'Lute': 1,\n",
    "  'Sitar': 2\n",
    "}\n",
    "\n",
    "\n",
    "#Write your code below (Checkpoint 2):\n",
    "class InventoryError(Exception):\n",
    "  pass\n",
    "\n",
    "\n",
    "def submit_order(instrument, quantity):\n",
    "  supply = inventory[instrument]\n",
    "  if quantity > supply:\n",
    "    raise InventoryError\n",
    "  else:\n",
    "    # Write your code below (Checkpoint 3 & 4): \n",
    "    inventory[instrument] -= quantity\n",
    "    print('Successfully placed order! Remaining supply: ' + str(inventory[instrument]))\n",
    "\n",
    "instrument = 'Piano'\n",
    "quantity = 5\n",
    "submit_order(instrument, quantity)"
   ]
  },
  {
   "cell_type": "code",
   "execution_count": 14,
   "id": "2e11c21e",
   "metadata": {},
   "outputs": [
    {
     "ename": "InventoryError",
     "evalue": "Available supply is only 3",
     "output_type": "error",
     "traceback": [
      "\u001b[1;31m---------------------------------------------------------------------------\u001b[0m",
      "\u001b[1;31mInventoryError\u001b[0m                            Traceback (most recent call last)",
      "Input \u001b[1;32mIn [14]\u001b[0m, in \u001b[0;36m<cell line: 25>\u001b[1;34m()\u001b[0m\n\u001b[0;32m     23\u001b[0m instrument \u001b[38;5;241m=\u001b[39m \u001b[38;5;124m'\u001b[39m\u001b[38;5;124mPiano\u001b[39m\u001b[38;5;124m'\u001b[39m\n\u001b[0;32m     24\u001b[0m quantity \u001b[38;5;241m=\u001b[39m \u001b[38;5;241m5\u001b[39m\n\u001b[1;32m---> 25\u001b[0m \u001b[43msubmit_order\u001b[49m\u001b[43m(\u001b[49m\u001b[43minstrument\u001b[49m\u001b[43m,\u001b[49m\u001b[43m \u001b[49m\u001b[43mquantity\u001b[49m\u001b[43m)\u001b[49m\n",
      "Input \u001b[1;32mIn [14]\u001b[0m, in \u001b[0;36msubmit_order\u001b[1;34m(instrument, quantity)\u001b[0m\n\u001b[0;32m     16\u001b[0m \u001b[38;5;66;03m# Write your code below (Checkpoint 3)\u001b[39;00m\n\u001b[0;32m     17\u001b[0m \u001b[38;5;28;01mif\u001b[39;00m quantity \u001b[38;5;241m>\u001b[39m supply:\n\u001b[1;32m---> 18\u001b[0m   \u001b[38;5;28;01mraise\u001b[39;00m InventoryError(supply)\n\u001b[0;32m     19\u001b[0m \u001b[38;5;28;01melse\u001b[39;00m:\n\u001b[0;32m     20\u001b[0m   inventory[instrument] \u001b[38;5;241m-\u001b[39m\u001b[38;5;241m=\u001b[39m quantity\n",
      "\u001b[1;31mInventoryError\u001b[0m: Available supply is only 3"
     ]
    }
   ],
   "source": [
    "# Write your code below (Checkpoint 1 & 2)\n",
    "class InventoryError(Exception):\n",
    "  def __init__(self, supply):\n",
    "      self.supply = supply\n",
    "  def __str__(self):\n",
    "    return 'Available supply is only ' + str(self.supply)\n",
    "\n",
    "inventory = {\n",
    "  'Piano': 3,\n",
    "  'Lute': 1,\n",
    "  'Sitar': 2\n",
    "}\n",
    "\n",
    "def submit_order(instrument, quantity):\n",
    "  supply = inventory[instrument]\n",
    "  # Write your code below (Checkpoint 3)\n",
    "  if quantity > supply:\n",
    "    raise InventoryError(supply)\n",
    "  else:\n",
    "    inventory[instrument] -= quantity\n",
    "    print('Successfully placed order! Remaining supply: ' + str(inventory[instrument]))\n",
    "\n",
    "instrument = 'Piano'\n",
    "quantity = 5\n",
    "submit_order(instrument, quantity)"
   ]
  },
  {
   "cell_type": "code",
   "execution_count": null,
   "id": "9872088c",
   "metadata": {},
   "outputs": [],
   "source": []
  }
 ],
 "metadata": {
  "kernelspec": {
   "display_name": "Python 3 (ipykernel)",
   "language": "python",
   "name": "python3"
  },
  "language_info": {
   "codemirror_mode": {
    "name": "ipython",
    "version": 3
   },
   "file_extension": ".py",
   "mimetype": "text/x-python",
   "name": "python",
   "nbconvert_exporter": "python",
   "pygments_lexer": "ipython3",
   "version": "3.9.12"
  }
 },
 "nbformat": 4,
 "nbformat_minor": 5
}
