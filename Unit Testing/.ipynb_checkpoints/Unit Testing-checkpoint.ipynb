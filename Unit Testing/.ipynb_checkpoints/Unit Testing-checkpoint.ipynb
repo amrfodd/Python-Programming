{
 "cells": [
  {
   "cell_type": "markdown",
   "id": "6f09aac7",
   "metadata": {},
   "source": [
    "###### 1) The assert Statement\n"
   ]
  },
  {
   "cell_type": "code",
   "execution_count": 3,
   "id": "948be623",
   "metadata": {},
   "outputs": [
    {
     "ename": "AssertionError",
     "evalue": "Expected times_ten(20) to return 200, instead got 2000",
     "output_type": "error",
     "traceback": [
      "\u001b[1;31m---------------------------------------------------------------------------\u001b[0m",
      "\u001b[1;31mAssertionError\u001b[0m                            Traceback (most recent call last)",
      "Input \u001b[1;32mIn [3]\u001b[0m, in \u001b[0;36m<cell line: 5>\u001b[1;34m()\u001b[0m\n\u001b[0;32m      2\u001b[0m     \u001b[38;5;28;01mreturn\u001b[39;00m number \u001b[38;5;241m*\u001b[39m \u001b[38;5;241m100\u001b[39m\n\u001b[0;32m      4\u001b[0m result \u001b[38;5;241m=\u001b[39m times_ten(\u001b[38;5;241m20\u001b[39m)\n\u001b[1;32m----> 5\u001b[0m \u001b[38;5;28;01massert\u001b[39;00m result \u001b[38;5;241m==\u001b[39m \u001b[38;5;241m200\u001b[39m, \u001b[38;5;124m'\u001b[39m\u001b[38;5;124mExpected times_ten(20) to return 200, instead got \u001b[39m\u001b[38;5;124m'\u001b[39m \u001b[38;5;241m+\u001b[39m \u001b[38;5;28mstr\u001b[39m(result)\n",
      "\u001b[1;31mAssertionError\u001b[0m: Expected times_ten(20) to return 200, instead got 2000"
     ]
    }
   ],
   "source": [
    "def times_ten(number):\n",
    "    return number * 100\n",
    " \n",
    "result = times_ten(20)\n",
    "assert result == 200, 'Expected times_ten(20) to return 200, instead got ' + str(result)"
   ]
  },
  {
   "cell_type": "code",
   "execution_count": 4,
   "id": "66b3db76",
   "metadata": {},
   "outputs": [],
   "source": [
    "# The unit we want to test\n",
    "def times_ten(number):\n",
    "    return number * 100\n",
    " \n",
    "# A unit test function with a single test case\n",
    "def test_multiply_ten_by_zero():\n",
    "    assert times_ten(0) == 0, 'Expected times_ten(0) to return 0'"
   ]
  },
  {
   "cell_type": "code",
   "execution_count": 7,
   "id": "1683c96e",
   "metadata": {},
   "outputs": [],
   "source": [
    "def test_multiply_ten_by_one_million():\n",
    "    assert times_ten(1000000) == 10000000, 'Expected times_ten(1000000) to return 10000000'\n",
    " \n",
    "def test_multiply_ten_by_negative_number():\n",
    "    assert times_ten(-10) == -100, 'Expected times_ten(-10) to return -100'"
   ]
  },
  {
   "cell_type": "code",
   "execution_count": 5,
   "id": "4e85c745",
   "metadata": {},
   "outputs": [
    {
     "name": "stdout",
     "output_type": "stream",
     "text": [
      "Welcome to Small World Airlines!\n",
      "What is the airport code of your travel destination?\n"
     ]
    },
    {
     "ename": "AssertionError",
     "evalue": "Sorry, Small World currently does not fly to this destination!",
     "output_type": "error",
     "traceback": [
      "\u001b[1;31m---------------------------------------------------------------------------\u001b[0m",
      "\u001b[1;31mAssertionError\u001b[0m                            Traceback (most recent call last)",
      "Input \u001b[1;32mIn [5]\u001b[0m, in \u001b[0;36m<cell line: 11>\u001b[1;34m()\u001b[0m\n\u001b[0;32m      8\u001b[0m destination \u001b[38;5;241m=\u001b[39m \u001b[38;5;124m'\u001b[39m\u001b[38;5;124mHND\u001b[39m\u001b[38;5;124m'\u001b[39m\n\u001b[0;32m     10\u001b[0m \u001b[38;5;66;03m# Checkpoint 2\u001b[39;00m\n\u001b[1;32m---> 11\u001b[0m \u001b[38;5;28;01massert\u001b[39;00m destination \u001b[38;5;129;01min\u001b[39;00m destinations, \u001b[38;5;124m'\u001b[39m\u001b[38;5;124mSorry, Small World currently does not fly to this destination!\u001b[39m\u001b[38;5;124m'\u001b[39m\n\u001b[0;32m     13\u001b[0m \u001b[38;5;66;03m# Checkpoint 1\u001b[39;00m\n\u001b[0;32m     14\u001b[0m city_name \u001b[38;5;241m=\u001b[39m destinations[destination]\n",
      "\u001b[1;31mAssertionError\u001b[0m: Sorry, Small World currently does not fly to this destination!"
     ]
    }
   ],
   "source": [
    "destinations = {\n",
    "  'BUD': 'Budapest',\n",
    "  'CMN': 'Casablanca',\n",
    "  'IST': 'Istanbul'\n",
    "}\n",
    "print('Welcome to Small World Airlines!')\n",
    "print('What is the airport code of your travel destination?')\n",
    "destination = 'HND'\n",
    "\n",
    "# Checkpoint 2\n",
    "assert destination in destinations, 'Sorry, Small World currently does not fly to this destination!'\n",
    "\n",
    "# Checkpoint 1\n",
    "city_name = destinations[destination]\n",
    "print('Great! Retrieving information for your flight to ...' + city_name)\n"
   ]
  },
  {
   "cell_type": "code",
   "execution_count": 8,
   "id": "edb4798b",
   "metadata": {},
   "outputs": [],
   "source": [
    "###### 1)"
   ]
  },
  {
   "cell_type": "code",
   "execution_count": 9,
   "id": "9d36f7b9",
   "metadata": {},
   "outputs": [],
   "source": [
    "def get_nearest_exit(row_number):\n",
    "  if row_number < 15:\n",
    "    location = 'front'\n",
    "  elif row_number < 30:\n",
    "    location = 'middle'\n",
    "  else:\n",
    "    location = 'middle'\n",
    "  return location\n",
    "\n",
    "# Write your code below:\n",
    "def test_row_1():\n",
    "  assert get_nearest_exit(1) == 'front', 'The nearest exit to row 1 is in the front!'"
   ]
  },
  {
   "cell_type": "code",
   "execution_count": 10,
   "id": "a684a4c8",
   "metadata": {},
   "outputs": [
    {
     "ename": "AssertionError",
     "evalue": "The nearest exit to row 20 is in the middle!",
     "output_type": "error",
     "traceback": [
      "\u001b[1;31m---------------------------------------------------------------------------\u001b[0m",
      "\u001b[1;31mAssertionError\u001b[0m                            Traceback (most recent call last)",
      "Input \u001b[1;32mIn [10]\u001b[0m, in \u001b[0;36m<cell line: 23>\u001b[1;34m()\u001b[0m\n\u001b[0;32m     20\u001b[0m   \u001b[38;5;28;01massert\u001b[39;00m get_nearest_exit(\u001b[38;5;241m40\u001b[39m) \u001b[38;5;241m==\u001b[39m \u001b[38;5;124m'\u001b[39m\u001b[38;5;124mback\u001b[39m\u001b[38;5;124m'\u001b[39m, \u001b[38;5;124m'\u001b[39m\u001b[38;5;124mThe nearest exit to row 40 is in the back!\u001b[39m\u001b[38;5;124m'\u001b[39m\n\u001b[0;32m     22\u001b[0m test_row_1()\n\u001b[1;32m---> 23\u001b[0m \u001b[43mtest_row_20\u001b[49m\u001b[43m(\u001b[49m\u001b[43m)\u001b[49m\n\u001b[0;32m     24\u001b[0m test_row_40()\n",
      "Input \u001b[1;32mIn [10]\u001b[0m, in \u001b[0;36mtest_row_20\u001b[1;34m()\u001b[0m\n\u001b[0;32m     15\u001b[0m \u001b[38;5;28;01mdef\u001b[39;00m \u001b[38;5;21mtest_row_20\u001b[39m():\n\u001b[1;32m---> 16\u001b[0m   \u001b[38;5;28;01massert\u001b[39;00m get_nearest_exit(\u001b[38;5;241m20\u001b[39m) \u001b[38;5;241m==\u001b[39m \u001b[38;5;124m'\u001b[39m\u001b[38;5;124mmiddle\u001b[39m\u001b[38;5;124m'\u001b[39m, \u001b[38;5;124m'\u001b[39m\u001b[38;5;124mThe nearest exit to row 20 is in the middle!\u001b[39m\u001b[38;5;124m'\u001b[39m\n",
      "\u001b[1;31mAssertionError\u001b[0m: The nearest exit to row 20 is in the middle!"
     ]
    }
   ],
   "source": [
    "def get_nearest_exit(row_number):\n",
    "  if row_number < 15:\n",
    "    location = 'front'\n",
    "  elif row_number > 30:\n",
    "    location = 'middle'\n",
    "  else:\n",
    "    location = 'back'\n",
    "  return location\n",
    "\n",
    "# Write your code below:\n",
    "def test_row_1():\n",
    "  assert get_nearest_exit(1) == 'front', 'The nearest exit to row 1 is in the front!'\n",
    "\n",
    "# Write your code below:\n",
    "def test_row_20():\n",
    "  assert get_nearest_exit(20) == 'middle', 'The nearest exit to row 20 is in the middle!'\n",
    "\n",
    "# Write your code below:\n",
    "def test_row_40():\n",
    "  assert get_nearest_exit(40) == 'back', 'The nearest exit to row 40 is in the back!'\n",
    "\n",
    "test_row_1()\n",
    "test_row_20()\n",
    "test_row_40()"
   ]
  },
  {
   "cell_type": "markdown",
   "id": "8015ae0e",
   "metadata": {},
   "source": [
    "###### UnitTest"
   ]
  },
  {
   "cell_type": "code",
   "execution_count": 13,
   "id": "5fc9355d",
   "metadata": {},
   "outputs": [
    {
     "name": "stderr",
     "output_type": "stream",
     "text": [
      "E\n",
      "======================================================================\n",
      "ERROR: C:\\Users\\amr_a\\AppData\\Roaming\\jupyter\\runtime\\kernel-abd8a0b1-1b06-4219-bbee-09b034b311a0 (unittest.loader._FailedTest)\n",
      "----------------------------------------------------------------------\n",
      "AttributeError: module '__main__' has no attribute 'C:\\Users\\amr_a\\AppData\\Roaming\\jupyter\\runtime\\kernel-abd8a0b1-1b06-4219-bbee-09b034b311a0'\n",
      "\n",
      "----------------------------------------------------------------------\n",
      "Ran 1 test in 0.001s\n",
      "\n",
      "FAILED (errors=1)\n"
     ]
    },
    {
     "ename": "SystemExit",
     "evalue": "True",
     "output_type": "error",
     "traceback": [
      "An exception has occurred, use %tb to see the full traceback.\n",
      "\u001b[1;31mSystemExit\u001b[0m\u001b[1;31m:\u001b[0m True\n"
     ]
    },
    {
     "name": "stderr",
     "output_type": "stream",
     "text": [
      "D:\\programfiles\\anaconda\\lib\\site-packages\\IPython\\core\\interactiveshell.py:3377: UserWarning: To exit: use 'exit', 'quit', or Ctrl-D.\n",
      "  warn(\"To exit: use 'exit', 'quit', or Ctrl-D.\", stacklevel=1)\n"
     ]
    }
   ],
   "source": [
    "# Checkpoint 1\n",
    "import unittest\n",
    "\n",
    "def get_nearest_exit(row_number):\n",
    "  if row_number < 15:\n",
    "    location = 'front'\n",
    "  elif row_number < 30:\n",
    "    location = 'middle'\n",
    "  else:\n",
    "    # Checkpoint 6\n",
    "    location = 'back'\n",
    "  return location\n",
    "\n",
    "# Checkpoint 2\n",
    "class NearestExitTests(unittest.TestCase):\n",
    "  # Checkpoint 3\n",
    "  def test_row_1(self):\n",
    "    self.assertEqual(get_nearest_exit(1), 'front', 'The nearest exit to row 1 is in the front!')\n",
    "    \n",
    "  # Checkpoint 3\n",
    "  def test_row_20(self):\n",
    "    self.assertEqual(get_nearest_exit(20), 'middle', 'The nearest exit to row 20 is in the middle!')\n",
    "    \n",
    "  # Checkpoint 3\n",
    "  def test_row_40(self):\n",
    "    self.assertEqual(get_nearest_exit(40), 'back', 'The nearest exit to row 40 is in the back!')\n",
    "\n",
    "# Checkpoint 4\n",
    "unittest.main()"
   ]
  },
  {
   "cell_type": "markdown",
   "id": "f692744b",
   "metadata": {},
   "source": [
    "###### Assert Methods I: Equality and Membership\n"
   ]
  },
  {
   "cell_type": "code",
   "execution_count": 16,
   "id": "1fcba316",
   "metadata": {},
   "outputs": [],
   "source": [
    "def get_daily_movie():\n",
    "    print('Retrieving the movie set to play on today\\'s flight...')\n",
    "    return 'Parasite'\n",
    "\n",
    "\n",
    "def get_licensed_movies():\n",
    "    print('Retrieving the list of licensed movies from the database...')\n",
    "    licensed_movies = ['Parasite', 'Nomadland', 'Roma']\n",
    "    return licensed_movies\n",
    "\n",
    "\n",
    "def get_wifi_status():\n",
    "    print('Checking WiFi signal...')\n",
    "    print('WiFi is inactive')\n",
    "    return False"
   ]
  },
  {
   "cell_type": "code",
   "execution_count": 17,
   "id": "ac6b8603",
   "metadata": {},
   "outputs": [
    {
     "name": "stderr",
     "output_type": "stream",
     "text": [
      "E\n",
      "======================================================================\n",
      "ERROR: C:\\Users\\amr_a\\AppData\\Roaming\\jupyter\\runtime\\kernel-abd8a0b1-1b06-4219-bbee-09b034b311a0 (unittest.loader._FailedTest)\n",
      "----------------------------------------------------------------------\n",
      "AttributeError: module '__main__' has no attribute 'C:\\Users\\amr_a\\AppData\\Roaming\\jupyter\\runtime\\kernel-abd8a0b1-1b06-4219-bbee-09b034b311a0'\n",
      "\n",
      "----------------------------------------------------------------------\n",
      "Ran 1 test in 0.001s\n",
      "\n",
      "FAILED (errors=1)\n"
     ]
    },
    {
     "ename": "SystemExit",
     "evalue": "True",
     "output_type": "error",
     "traceback": [
      "An exception has occurred, use %tb to see the full traceback.\n",
      "\u001b[1;31mSystemExit\u001b[0m\u001b[1;31m:\u001b[0m True\n"
     ]
    },
    {
     "name": "stderr",
     "output_type": "stream",
     "text": [
      "D:\\programfiles\\anaconda\\lib\\site-packages\\IPython\\core\\interactiveshell.py:3377: UserWarning: To exit: use 'exit', 'quit', or Ctrl-D.\n",
      "  warn(\"To exit: use 'exit', 'quit', or Ctrl-D.\", stacklevel=1)\n"
     ]
    }
   ],
   "source": [
    "import unittest\n",
    "\n",
    "# Write your code below: \n",
    "class EntertainmentSystemTests(unittest.TestCase):\n",
    "\n",
    "  def test_movie_license(self):\n",
    "    daily_movie = get_daily_movie()\n",
    "    licensed_movies = get_licensed_movies()\n",
    "    # test if we have a license for the current daily movie\n",
    "    self.assertIn(daily_movie, licensed_movies)\n",
    "\n",
    "  def test_wifi_status(self):\n",
    "    wifi_enabled = get_wifi_status()\n",
    "    # make a test that ensures the WiFi is enabled.\n",
    "    self.assertTrue(wifi_enabled)\n",
    "\n",
    "\n",
    "unittest.main()"
   ]
  },
  {
   "cell_type": "markdown",
   "id": "929a691c",
   "metadata": {},
   "source": [
    "######  Assert Methods II: Quantitative Methods\n"
   ]
  },
  {
   "cell_type": "code",
   "execution_count": 18,
   "id": "92ac678a",
   "metadata": {},
   "outputs": [],
   "source": [
    "def get_daily_movie():\n",
    "    print('Retrieving the movie set to play on today\\'s flight...')\n",
    "    return 'Parasite'\n",
    "\n",
    "\n",
    "def get_licensed_movies():\n",
    "    print('Retrieving the list of licenses movies from the database...')\n",
    "    licensed_movies = ['Parasite', 'Nomadland', 'Roma']\n",
    "    return licensed_movies\n",
    "\n",
    "\n",
    "def get_wifi_status():\n",
    "    print('Checking WiFi signal...')\n",
    "    print('WiFi is active')\n",
    "    return True\n",
    "\n",
    "def get_device_temp():\n",
    "    print('Reading the temperature of the entertainment system device...')\n",
    "    return 40\n",
    "\n",
    "def get_maximum_display_brightness():\n",
    "    print('Calculating maximum display brightness in nits...')\n",
    "    return 399.99999999"
   ]
  },
  {
   "cell_type": "code",
   "execution_count": 19,
   "id": "2bd17c8e",
   "metadata": {},
   "outputs": [
    {
     "name": "stderr",
     "output_type": "stream",
     "text": [
      "E\n",
      "======================================================================\n",
      "ERROR: C:\\Users\\amr_a\\AppData\\Roaming\\jupyter\\runtime\\kernel-abd8a0b1-1b06-4219-bbee-09b034b311a0 (unittest.loader._FailedTest)\n",
      "----------------------------------------------------------------------\n",
      "AttributeError: module '__main__' has no attribute 'C:\\Users\\amr_a\\AppData\\Roaming\\jupyter\\runtime\\kernel-abd8a0b1-1b06-4219-bbee-09b034b311a0'\n",
      "\n",
      "----------------------------------------------------------------------\n",
      "Ran 1 test in 0.001s\n",
      "\n",
      "FAILED (errors=1)\n"
     ]
    },
    {
     "ename": "SystemExit",
     "evalue": "True",
     "output_type": "error",
     "traceback": [
      "An exception has occurred, use %tb to see the full traceback.\n",
      "\u001b[1;31mSystemExit\u001b[0m\u001b[1;31m:\u001b[0m True\n"
     ]
    },
    {
     "name": "stderr",
     "output_type": "stream",
     "text": [
      "D:\\programfiles\\anaconda\\lib\\site-packages\\IPython\\core\\interactiveshell.py:3377: UserWarning: To exit: use 'exit', 'quit', or Ctrl-D.\n",
      "  warn(\"To exit: use 'exit', 'quit', or Ctrl-D.\", stacklevel=1)\n"
     ]
    }
   ],
   "source": [
    "import unittest\n",
    "\n",
    "class EntertainmentSystemTests(unittest.TestCase):\n",
    "\n",
    "  def test_movie_license(self):\n",
    "    daily_movie = get_daily_movie()\n",
    "    licensed_movies = get_licensed_movies()\n",
    "    self.assertIn(daily_movie, licensed_movies)\n",
    "\n",
    "  def test_wifi_status(self):\n",
    "    wifi_enabled = get_wifi_status()\n",
    "    self.assertTrue(wifi_enabled)\n",
    "\n",
    "  # Write your code below:\n",
    "  def test_maximum_display_brightness(self):\n",
    "    brightness = get_maximum_display_brightnes()\n",
    "    self.assertAlmostEqual(brightness, 400)\n",
    "    \n",
    "unittest.main()"
   ]
  },
  {
   "cell_type": "markdown",
   "id": "d6ae5aed",
   "metadata": {},
   "source": [
    "###### Assert Methods III: Exception and Warning Methods\n"
   ]
  },
  {
   "cell_type": "code",
   "execution_count": null,
   "id": "894e4518",
   "metadata": {},
   "outputs": [],
   "source": [
    "import warnings\n",
    "\n",
    "class PowerError(Exception):\n",
    "    pass\n",
    "\n",
    "class WaterLevelWarning(Warning):\n",
    "    pass\n",
    "\n",
    "def power_outage_detected(outage_detected):\n",
    "    if outage_detected:\n",
    "        raise PowerError('A power outage has been detected somewhere in the system')\n",
    "    else:\n",
    "        print('All systems receiving power')\n",
    "\n",
    "def water_levels_check(liters):\n",
    "    if liters < 200:\n",
    "        warnings.warn('Water levels have fallen below 200 liters', WaterLevelWarning)\n",
    "    else:\n",
    "        print('Water levels are adequate')\n"
   ]
  },
  {
   "cell_type": "code",
   "execution_count": null,
   "id": "4c719c11",
   "metadata": {},
   "outputs": [],
   "source": [
    "import unittest\n",
    "import alerts\n",
    "\n",
    "# Checkpoint 1\n",
    "class SystemAlertTests(unittest.TestCase):\n",
    "    \n",
    "  # Checkpoint 2\n",
    "  def test_power_outage_alert(self):\n",
    "    self.assertRaises(alerts.PowerError, alerts.power_outage_detected, True)\n",
    "    \n",
    "  # Checkpoint 3\n",
    "  def test_water_levels_warning(self):\n",
    "    self.assertWarns(alerts.WaterLevelWarning, alerts.water_levels_check, 150)\n",
    "\n",
    "unittest.main()"
   ]
  },
  {
   "cell_type": "markdown",
   "id": "3ef2ab73",
   "metadata": {},
   "source": [
    "###### Parameterizing Tests\n"
   ]
  },
  {
   "cell_type": "code",
   "execution_count": null,
   "id": "8251cbd3",
   "metadata": {},
   "outputs": [],
   "source": [
    "def get_daily_movies():\n",
    "    print('Retrieving the movie set to play on today\\'s flight...')\n",
    "    return ['Parasite', 'Nomadland', 'Roma', 'Black Widow', 'Spiral']\n",
    "\n",
    "\n",
    "def get_licensed_movies():\n",
    "    print('Retrieving the list of licenses movies from the database...')\n",
    "    licensed_movies = ['Parasite', 'Nomadland', 'Roma']\n",
    "    return licensed_movies\n"
   ]
  },
  {
   "cell_type": "code",
   "execution_count": null,
   "id": "d6b7a22f",
   "metadata": {},
   "outputs": [],
   "source": [
    "import unittest\n",
    "import entertainment\n",
    "\n",
    "class EntertainmentSystemTests(unittest.TestCase):\n",
    "\n",
    "  def test_movie_license(self):\n",
    "    # Checkpoint 1\n",
    "    daily_movies = entertainment.get_daily_movies()\n",
    "    licensed_movies = entertainment.get_licensed_movies()\n",
    "\n",
    "    # Checkpoint 2\n",
    "    for movie in daily_movies:\n",
    "      print(movie)\n",
    "      # Checkpoint 3 & 4\n",
    "      with self.subTest(movie):\n",
    "        self.assertIn(movie, licensed_movies)\n",
    "\n",
    "\n",
    "unittest.main()"
   ]
  }
 ],
 "metadata": {
  "kernelspec": {
   "display_name": "Python 3 (ipykernel)",
   "language": "python",
   "name": "python3"
  },
  "language_info": {
   "codemirror_mode": {
    "name": "ipython",
    "version": 3
   },
   "file_extension": ".py",
   "mimetype": "text/x-python",
   "name": "python",
   "nbconvert_exporter": "python",
   "pygments_lexer": "ipython3",
   "version": "3.9.12"
  }
 },
 "nbformat": 4,
 "nbformat_minor": 5
}
