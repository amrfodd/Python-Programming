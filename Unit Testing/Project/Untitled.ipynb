{
 "cells": [
  {
   "cell_type": "code",
   "execution_count": 1,
   "id": "7eb7b13c",
   "metadata": {},
   "outputs": [
    {
     "name": "stderr",
     "output_type": "stream",
     "text": [
      "E\n",
      "======================================================================\n",
      "ERROR: C:\\Users\\amr_a\\AppData\\Roaming\\jupyter\\runtime\\kernel-0407dd68-019d-46c8-ad29-3b5ce2312b2f (unittest.loader._FailedTest)\n",
      "----------------------------------------------------------------------\n",
      "AttributeError: module '__main__' has no attribute 'C:\\Users\\amr_a\\AppData\\Roaming\\jupyter\\runtime\\kernel-0407dd68-019d-46c8-ad29-3b5ce2312b2f'\n",
      "\n",
      "----------------------------------------------------------------------\n",
      "Ran 1 test in 0.003s\n",
      "\n",
      "FAILED (errors=1)\n"
     ]
    },
    {
     "ename": "SystemExit",
     "evalue": "True",
     "output_type": "error",
     "traceback": [
      "An exception has occurred, use %tb to see the full traceback.\n",
      "\u001b[1;31mSystemExit\u001b[0m\u001b[1;31m:\u001b[0m True\n"
     ]
    },
    {
     "name": "stderr",
     "output_type": "stream",
     "text": [
      "D:\\programfiles\\anaconda\\lib\\site-packages\\IPython\\core\\interactiveshell.py:3377: UserWarning: To exit: use 'exit', 'quit', or Ctrl-D.\n",
      "  warn(\"To exit: use 'exit', 'quit', or Ctrl-D.\", stacklevel=1)\n"
     ]
    }
   ],
   "source": [
    "import unittest\n",
    "import surfshop\n",
    "import datetime\n",
    "\n",
    "class SurfShopTests(unittest.TestCase):\n",
    "\n",
    "    def setUp(self):\n",
    "        self.cart = surfshop.ShoppingCart()\n",
    "\n",
    "    def test_add_surfboard(self):\n",
    "        message = self.cart.add_surfboards(quantity=1)\n",
    "        self.assertEqual(message, f'Successfully added 1 surfboard to cart!')\n",
    "\n",
    "    def test_add_surfboards(self):\n",
    "        for i in range(2, 5):\n",
    "            with self.subTest(i=i):\n",
    "                message = self.cart.add_surfboards(i)\n",
    "                self.assertEqual(message, f'Successfully added {i} surfboards to cart!')\n",
    "                self.cart = surfshop.ShoppingCart()\n",
    "\n",
    "    # old version without parameterization\n",
    "    # def test_add_surfboards(self):\n",
    "    #     message = self.cart.add_surfboards(2)\n",
    "    #     self.assertEqual(message, f'Successfully added {i} surfboards to cart!')\n",
    "    #     self.cart = surfshop.ShoppingCart()\n",
    "\n",
    "    @unittest.skip\n",
    "    def test_add_too_many_surfboards(self):\n",
    "        self.assertRaises(surfshop.TooManyBoardsError, self.cart.add_surfboards, 5)\n",
    "\n",
    "    # commented out - test should not fail at the end of project\n",
    "    # @unittest.expectedFailure\n",
    "    def test_apply_locals_discount(self):\n",
    "        self.cart.apply_locals_discount()\n",
    "        self.assertTrue(self.cart.locals_discount)\n",
    "\n",
    "    def test_add_invalid_checkout_date(self):\n",
    "        date = datetime.datetime.now()\n",
    "        self.assertRaises(surfshop.CheckoutDateError, self.cart.set_checkout_date, date)\n",
    "\n",
    "\n",
    "unittest.main()"
   ]
  },
  {
   "cell_type": "code",
   "execution_count": null,
   "id": "8641f2a1",
   "metadata": {},
   "outputs": [],
   "source": []
  }
 ],
 "metadata": {
  "kernelspec": {
   "display_name": "Python 3 (ipykernel)",
   "language": "python",
   "name": "python3"
  },
  "language_info": {
   "codemirror_mode": {
    "name": "ipython",
    "version": 3
   },
   "file_extension": ".py",
   "mimetype": "text/x-python",
   "name": "python",
   "nbconvert_exporter": "python",
   "pygments_lexer": "ipython3",
   "version": "3.9.12"
  }
 },
 "nbformat": 4,
 "nbformat_minor": 5
}
